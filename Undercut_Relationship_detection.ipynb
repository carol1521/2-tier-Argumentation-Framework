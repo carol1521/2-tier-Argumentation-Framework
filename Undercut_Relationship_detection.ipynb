{
  "nbformat": 4,
  "nbformat_minor": 0,
  "metadata": {
    "colab": {
      "name": "Undercut_Relationship_detection.ipynb",
      "provenance": [],
      "collapsed_sections": [],
      "mount_file_id": "1CDhRzouRPqctAtXVxdqvlD0ZWiSJ7Gtj",
      "authorship_tag": "ABX9TyO3WywWoT1lcAnudQIpN6wf",
      "include_colab_link": true
    },
    "kernelspec": {
      "name": "python3",
      "display_name": "Python 3"
    },
    "language_info": {
      "name": "python"
    }
  },
  "cells": [
    {
      "cell_type": "markdown",
      "metadata": {
        "id": "view-in-github",
        "colab_type": "text"
      },
      "source": [
        "<a href=\"https://colab.research.google.com/github/carol1521/2-tier-Argumentation-Framework/blob/main/Undercut_Relationship_detection.ipynb\" target=\"_parent\"><img src=\"https://colab.research.google.com/assets/colab-badge.svg\" alt=\"Open In Colab\"/></a>"
      ]
    },
    {
      "cell_type": "markdown",
      "metadata": {
        "id": "opA7K-NhTp-0"
      },
      "source": [
        "# Utils"
      ]
    },
    {
      "cell_type": "code",
      "metadata": {
        "id": "OXUrSfXBTRCL"
      },
      "source": [
        "!pip install scikit-plot"
      ],
      "execution_count": null,
      "outputs": []
    },
    {
      "cell_type": "code",
      "metadata": {
        "id": "1BTK3ibzfeyG"
      },
      "source": [
        "import nltk, os, gensim\n",
        "import numpy as np\n",
        "import pandas as pd\n",
        "import pickle\n",
        "from sklearn.linear_model import LogisticRegression\n",
        "from sklearn.model_selection import cross_val_predict\n",
        "from sklearn.model_selection import StratifiedKFold\n",
        "from sklearn.metrics import log_loss, accuracy_score, f1_score, precision_score, recall_score\n",
        "import scikitplot.plotters as skplt\n",
        "\n",
        "from keras.models import load_model\n",
        "from keras.models import Sequential\n",
        "from keras.layers import Dense, Flatten,TimeDistributed,LSTM\n",
        "from keras.callbacks import EarlyStopping, ModelCheckpoint\n",
        "\n",
        "# functions from https://www.kaggle.com/reiinakano/basic-nlp-bag-of-words-tf-idf-word2vec-lstm\n",
        "class MyTokenizer:\n",
        "    def __init__(self):\n",
        "        pass\n",
        "    \n",
        "    def fit(self, X, y=None):\n",
        "        return self\n",
        "    \n",
        "    def transform(self, X):\n",
        "        transformed_X = []\n",
        "        for document in X:\n",
        "            tokenized_doc = []\n",
        "            for sent in nltk.sent_tokenize(document):\n",
        "                tokenized_doc += nltk.word_tokenize(sent)\n",
        "            transformed_X.append(np.array(tokenized_doc))\n",
        "        return np.array(transformed_X)\n",
        "    \n",
        "    def fit_transform(self, X, y=None):\n",
        "        return self.transform(X)\n",
        "\n",
        "class MeanEmbeddingVectorizer(object):\n",
        "    def __init__(self, word2vec=None):\n",
        "        self.word2vec = word2vec\n",
        "        if not self.word2vec:\n",
        "            self.word2vec = gensim.models.Word2Vec.load('/content/drive/MyDrive/Yan/w2vmodelu')\n",
        "        # if a text is empty we should return a vector of zeros\n",
        "        # with the same dimensionality as all the other vectors\n",
        "        self.dim = len(self.word2vec.wv.syn0[0])\n",
        "\n",
        "    def fit(self, X, y=None):\n",
        "        return self\n",
        "\n",
        "    def transform(self, X):\n",
        "        X = MyTokenizer().fit_transform(X)\n",
        "        \n",
        "        emb = np.array([\n",
        "            np.mean([self.word2vec.wv[w] for w in words if w in self.word2vec.wv]\n",
        "                    or [np.zeros(self.dim)], axis=0)\n",
        "            for words in X\n",
        "        ])\n",
        "\n",
        "        return np.mean(emb, axis = 0)\n",
        "    \n",
        "    def fit_transform(self, X, y=None):\n",
        "        return self.transform(X)\n",
        "\n",
        "class MySentences(object):\n",
        "    \"\"\"MySentences is a generator to produce a list of tokenized sentences \n",
        "    \n",
        "    Takes a list of numpy arrays containing documents.\n",
        "    \n",
        "    Args:\n",
        "        arrays: List of arrays, where each element in the array contains a document.\n",
        "    \"\"\"\n",
        "    def __init__(self, *arrays):\n",
        "        self.arrays = arrays\n",
        " \n",
        "    def __iter__(self):\n",
        "        for array in self.arrays:\n",
        "            for document in array:\n",
        "                for sent in nltk.sent_tokenize(document):\n",
        "                    yield nltk.word_tokenize(sent)\n",
        "\n",
        "def get_word2vec(sentences, location):\n",
        "    \"\"\"Returns trained word2vec\n",
        "    \n",
        "    Args:\n",
        "        sentences: iterator for sentences\n",
        "        \n",
        "        location (str): Path to save/load word2vec\n",
        "    \"\"\"\n",
        "    if os.path.exists(location):\n",
        "        print('Found {}'.format(location))\n",
        "        model = gensim.models.Word2Vec.load(location)\n",
        "        return model\n",
        "    \n",
        "    print('{} not found. training model'.format(location))\n",
        "    model = gensim.models.Word2Vec(sentences, size=100, window=5, min_count=5, workers=4)\n",
        "    print('Model done training. Saving to disk')\n",
        "    model.save(location)\n",
        "    return model\n",
        "#w2vec = get_word2vec(MySentences(str([test])), '/content/drive/MyDrive/Yan/w2vmodelu')\n",
        "\n",
        "def evaluate_plt(x_test, y_test, clf):\n",
        "    # print probas\n",
        "    y_preds=clf.predict(x_test)\n",
        "    \n",
        "    #pred_indices = np.argmax(probas, axis=1)\n",
        "    #classes = np.unique(y)\n",
        "    #preds = classes[pred_indices]\n",
        "    #print('Train Log loss: {}'.format(log_loss(y, probas)))\n",
        "    print('Accuracy: {}'.format(accuracy_score(y_test, y_preds)))\n",
        "    print(\"f1_score:{}\".format(f1_score(y_test, y_preds)))\n",
        "    print(\"precision_score:{}\".format(precision_score(y_test, y_preds)))\n",
        "    print(\"recall_score:{}\".format(recall_score(y_test, y_preds)))\n",
        "    print(\"loss:{}\".format(log_loss(y_test, y_preds)))\n",
        "    skplt.plot_confusion_matrix(y_test, y_preds)\n",
        "    return clf\n"
      ],
      "execution_count": null,
      "outputs": []
    },
    {
      "cell_type": "code",
      "metadata": {
        "id": "pagjp4d7ftYe",
        "colab": {
          "base_uri": "https://localhost:8080/"
        },
        "outputId": "da943af7-c2b7-4b43-dccc-89ec284bbbf7"
      },
      "source": [
        "import nltk\n",
        "nltk.download('punkt')\n",
        "nltk.download('vader_lexicon')"
      ],
      "execution_count": null,
      "outputs": [
        {
          "output_type": "stream",
          "name": "stdout",
          "text": [
            "[nltk_data] Downloading package punkt to /root/nltk_data...\n",
            "[nltk_data]   Unzipping tokenizers/punkt.zip.\n",
            "[nltk_data] Downloading package vader_lexicon to /root/nltk_data...\n"
          ]
        },
        {
          "output_type": "execute_result",
          "data": {
            "text/plain": [
              "True"
            ]
          },
          "metadata": {},
          "execution_count": 3
        }
      ]
    },
    {
      "cell_type": "markdown",
      "metadata": {
        "id": "ULpDIDYqvnCb"
      },
      "source": [
        "# relationship_detection"
      ]
    },
    {
      "cell_type": "markdown",
      "metadata": {
        "id": "8Xo_8ZKAYvpv"
      },
      "source": [
        "## reading data"
      ]
    },
    {
      "cell_type": "code",
      "metadata": {
        "id": "dt3AgmKXUbNn"
      },
      "source": [
        "import numpy as np\n",
        "import pandas as pd\n",
        "import string\n",
        "import nltk\n",
        "from sklearn.linear_model import LogisticRegression\n",
        "#from utils import MyTokenizer, MySentences, MeanEmbeddingVectorizer, evaluate_train"
      ],
      "execution_count": null,
      "outputs": []
    },
    {
      "cell_type": "code",
      "metadata": {
        "id": "XM5p76QjUiH5"
      },
      "source": [
        "claimDF = pd.read_excel('/content/drive/MyDrive/Yan/2014_ibm_Claim_Evidence_UR_data_c.xlsx')\n",
        "#claimDF = pd.read_csv('/content/drive/MyDrive/Yan/2014_ibm_Claim_Evidence_UR_data_c.csv',encoding= 'unicode_escape')"
      ],
      "execution_count": null,
      "outputs": []
    },
    {
      "cell_type": "code",
      "metadata": {
        "colab": {
          "base_uri": "https://localhost:8080/",
          "height": 143
        },
        "id": "YSueaz1C-GHt",
        "outputId": "fe51e45c-e30f-4955-c800-06641367f4a8"
      },
      "source": [
        "claimDF[:1].T"
      ],
      "execution_count": null,
      "outputs": [
        {
          "output_type": "execute_result",
          "data": {
            "text/html": [
              "\n",
              "  <div id=\"df-cd5c44c2-698a-4ccf-9b59-6185773af769\">\n",
              "    <div class=\"colab-df-container\">\n",
              "      <div>\n",
              "<style scoped>\n",
              "    .dataframe tbody tr th:only-of-type {\n",
              "        vertical-align: middle;\n",
              "    }\n",
              "\n",
              "    .dataframe tbody tr th {\n",
              "        vertical-align: top;\n",
              "    }\n",
              "\n",
              "    .dataframe thead th {\n",
              "        text-align: right;\n",
              "    }\n",
              "</style>\n",
              "<table border=\"1\" class=\"dataframe\">\n",
              "  <thead>\n",
              "    <tr style=\"text-align: right;\">\n",
              "      <th></th>\n",
              "      <th>0</th>\n",
              "    </tr>\n",
              "  </thead>\n",
              "  <tbody>\n",
              "    <tr>\n",
              "      <th>claims</th>\n",
              "      <td>exposure to violent video games causes at leas...</td>\n",
              "    </tr>\n",
              "    <tr>\n",
              "      <th>evidences</th>\n",
              "      <td>several major studies by groups such as The Ha...</td>\n",
              "    </tr>\n",
              "    <tr>\n",
              "      <th>undercut_Relation</th>\n",
              "      <td>1</td>\n",
              "    </tr>\n",
              "  </tbody>\n",
              "</table>\n",
              "</div>\n",
              "      <button class=\"colab-df-convert\" onclick=\"convertToInteractive('df-cd5c44c2-698a-4ccf-9b59-6185773af769')\"\n",
              "              title=\"Convert this dataframe to an interactive table.\"\n",
              "              style=\"display:none;\">\n",
              "        \n",
              "  <svg xmlns=\"http://www.w3.org/2000/svg\" height=\"24px\"viewBox=\"0 0 24 24\"\n",
              "       width=\"24px\">\n",
              "    <path d=\"M0 0h24v24H0V0z\" fill=\"none\"/>\n",
              "    <path d=\"M18.56 5.44l.94 2.06.94-2.06 2.06-.94-2.06-.94-.94-2.06-.94 2.06-2.06.94zm-11 1L8.5 8.5l.94-2.06 2.06-.94-2.06-.94L8.5 2.5l-.94 2.06-2.06.94zm10 10l.94 2.06.94-2.06 2.06-.94-2.06-.94-.94-2.06-.94 2.06-2.06.94z\"/><path d=\"M17.41 7.96l-1.37-1.37c-.4-.4-.92-.59-1.43-.59-.52 0-1.04.2-1.43.59L10.3 9.45l-7.72 7.72c-.78.78-.78 2.05 0 2.83L4 21.41c.39.39.9.59 1.41.59.51 0 1.02-.2 1.41-.59l7.78-7.78 2.81-2.81c.8-.78.8-2.07 0-2.86zM5.41 20L4 18.59l7.72-7.72 1.47 1.35L5.41 20z\"/>\n",
              "  </svg>\n",
              "      </button>\n",
              "      \n",
              "  <style>\n",
              "    .colab-df-container {\n",
              "      display:flex;\n",
              "      flex-wrap:wrap;\n",
              "      gap: 12px;\n",
              "    }\n",
              "\n",
              "    .colab-df-convert {\n",
              "      background-color: #E8F0FE;\n",
              "      border: none;\n",
              "      border-radius: 50%;\n",
              "      cursor: pointer;\n",
              "      display: none;\n",
              "      fill: #1967D2;\n",
              "      height: 32px;\n",
              "      padding: 0 0 0 0;\n",
              "      width: 32px;\n",
              "    }\n",
              "\n",
              "    .colab-df-convert:hover {\n",
              "      background-color: #E2EBFA;\n",
              "      box-shadow: 0px 1px 2px rgba(60, 64, 67, 0.3), 0px 1px 3px 1px rgba(60, 64, 67, 0.15);\n",
              "      fill: #174EA6;\n",
              "    }\n",
              "\n",
              "    [theme=dark] .colab-df-convert {\n",
              "      background-color: #3B4455;\n",
              "      fill: #D2E3FC;\n",
              "    }\n",
              "\n",
              "    [theme=dark] .colab-df-convert:hover {\n",
              "      background-color: #434B5C;\n",
              "      box-shadow: 0px 1px 3px 1px rgba(0, 0, 0, 0.15);\n",
              "      filter: drop-shadow(0px 1px 2px rgba(0, 0, 0, 0.3));\n",
              "      fill: #FFFFFF;\n",
              "    }\n",
              "  </style>\n",
              "\n",
              "      <script>\n",
              "        const buttonEl =\n",
              "          document.querySelector('#df-cd5c44c2-698a-4ccf-9b59-6185773af769 button.colab-df-convert');\n",
              "        buttonEl.style.display =\n",
              "          google.colab.kernel.accessAllowed ? 'block' : 'none';\n",
              "\n",
              "        async function convertToInteractive(key) {\n",
              "          const element = document.querySelector('#df-cd5c44c2-698a-4ccf-9b59-6185773af769');\n",
              "          const dataTable =\n",
              "            await google.colab.kernel.invokeFunction('convertToInteractive',\n",
              "                                                     [key], {});\n",
              "          if (!dataTable) return;\n",
              "\n",
              "          const docLinkHtml = 'Like what you see? Visit the ' +\n",
              "            '<a target=\"_blank\" href=https://colab.research.google.com/notebooks/data_table.ipynb>data table notebook</a>'\n",
              "            + ' to learn more about interactive tables.';\n",
              "          element.innerHTML = '';\n",
              "          dataTable['output_type'] = 'display_data';\n",
              "          await google.colab.output.renderOutput(dataTable, element);\n",
              "          const docLink = document.createElement('div');\n",
              "          docLink.innerHTML = docLinkHtml;\n",
              "          element.appendChild(docLink);\n",
              "        }\n",
              "      </script>\n",
              "    </div>\n",
              "  </div>\n",
              "  "
            ],
            "text/plain": [
              "                                                                   0\n",
              "claims             exposure to violent video games causes at leas...\n",
              "evidences          several major studies by groups such as The Ha...\n",
              "undercut_Relation                                                  1"
            ]
          },
          "metadata": {},
          "execution_count": 6
        }
      ]
    },
    {
      "cell_type": "code",
      "metadata": {
        "id": "FRZaJTE8AZr4"
      },
      "source": [
        "# 1040\n",
        "# create dataset\n",
        "#test = claimDF[[ 'claims', 'evidences', 'undercut_Relation']]\n",
        "texts = claimDF[['claims','evidences','undercut_Relation']]\n",
        "\n"
      ],
      "execution_count": null,
      "outputs": []
    },
    {
      "cell_type": "code",
      "source": [
        "from nltk.text import Text\n",
        "from sklearn.model_selection import train_test_split\n",
        "train, test = train_test_split(texts, test_size=0.2)"
      ],
      "metadata": {
        "id": "hTH2QeX0WN7A"
      },
      "execution_count": null,
      "outputs": []
    },
    {
      "cell_type": "code",
      "source": [
        "train['evidences'][20]"
      ],
      "metadata": {
        "id": "Vj0XqHGPymfM"
      },
      "execution_count": null,
      "outputs": []
    },
    {
      "cell_type": "code",
      "source": [
        "train['claims'][20]"
      ],
      "metadata": {
        "id": "JjMxZdzTywPJ"
      },
      "execution_count": null,
      "outputs": []
    },
    {
      "cell_type": "markdown",
      "metadata": {
        "id": "gfkIVoGQY4Ma"
      },
      "source": [
        "## embedding"
      ]
    },
    {
      "cell_type": "code",
      "source": [
        "mean_embedding_vectorizer = MeanEmbeddingVectorizer(None)\n",
        "\n",
        "train['train_claim_token'] = train['claims'].apply(lambda x: nltk.word_tokenize(str(x).lower()))\n",
        "train['train_claim_mean']= train['train_claim_token'].apply(lambda x: mean_embedding_vectorizer.transform(str(x)))\n",
        "\n",
        "test['test_claim_token'] = test['claims'].apply(lambda x: nltk.word_tokenize(str(x).lower()))\n",
        "test['test_claim_mean']= test['test_claim_token'].apply(lambda x: mean_embedding_vectorizer.transform(str(x)))\n"
      ],
      "metadata": {
        "colab": {
          "base_uri": "https://localhost:8080/"
        },
        "id": "-JC1tISszseZ",
        "outputId": "4ae2ca92-ce56-48fd-e822-87fd4f9b919d"
      },
      "execution_count": null,
      "outputs": [
        {
          "output_type": "stream",
          "name": "stderr",
          "text": [
            "/usr/local/lib/python3.7/dist-packages/ipykernel_launcher.py:43: DeprecationWarning: Call to deprecated `syn0` (Attribute will be removed in 4.0.0, use self.wv.vectors instead).\n",
            "/usr/local/lib/python3.7/dist-packages/ipykernel_launcher.py:31: VisibleDeprecationWarning: Creating an ndarray from ragged nested sequences (which is a list-or-tuple of lists-or-tuples-or ndarrays with different lengths or shapes) is deprecated. If you meant to do this, you must specify 'dtype=object' when creating the ndarray\n"
          ]
        }
      ]
    },
    {
      "cell_type": "code",
      "source": [
        "train['train_evidence_token'] = train['evidences'].apply(lambda x: nltk.word_tokenize(str(x).lower()))\n",
        "train['train_evidence_mean']= train['train_evidence_token'].apply(lambda x: mean_embedding_vectorizer.transform(str(x)))\n",
        "\n",
        "test['test_evidence_token'] = test['evidences'].apply(lambda x: nltk.word_tokenize(str(x).lower()))\n",
        "test['test_evidence_mean']= test['test_evidence_token'].apply(lambda x: mean_embedding_vectorizer.transform(str(x)))\n",
        "train['train_final_embedding'] = train.apply(lambda x: [np.append(x['train_claim_mean'], x['train_evidence_mean'])], axis=1)\n",
        "test['test_final_embedding'] = test.apply(lambda x: [np.append(x['test_claim_mean'], x['test_evidence_mean'])], axis=1)\n",
        "train['train_relation'] = train['undercut_Relation'].apply(lambda x: 0 if x == 0 else 1)\n",
        "test['test_relation'] = test['undercut_Relation'].apply(lambda x: 0 if x == 0 else 1)"
      ],
      "metadata": {
        "colab": {
          "base_uri": "https://localhost:8080/"
        },
        "id": "bOBeS7yy14sj",
        "outputId": "d21e90c0-1325-4747-c09b-6ecef1b1ddf3"
      },
      "execution_count": null,
      "outputs": [
        {
          "output_type": "stream",
          "name": "stderr",
          "text": [
            "/usr/local/lib/python3.7/dist-packages/ipykernel_launcher.py:31: VisibleDeprecationWarning: Creating an ndarray from ragged nested sequences (which is a list-or-tuple of lists-or-tuples-or ndarrays with different lengths or shapes) is deprecated. If you meant to do this, you must specify 'dtype=object' when creating the ndarray\n"
          ]
        }
      ]
    },
    {
      "cell_type": "code",
      "metadata": {
        "id": "qmOZQwFBAZkA"
      },
      "source": [
        "#from sklearn.model_selection import cross_val_predict\n",
        "from sklearn.model_selection import StratifiedKFold\n",
        "\n",
        "x_train = np.vstack(train['train_final_embedding'].values)\n",
        "y_train = train['train_relation'].values.ravel()\n",
        "\n",
        "x_test = np.vstack(test['test_final_embedding'].values)\n",
        "y_test = test['test_relation'].values.ravel()\n"
      ],
      "execution_count": null,
      "outputs": []
    },
    {
      "cell_type": "code",
      "source": [
        "y_test.shape"
      ],
      "metadata": {
        "id": "pKaPq-cocKaY",
        "outputId": "57a6dafe-c800-40cf-db39-f4e49fe2eb8a",
        "colab": {
          "base_uri": "https://localhost:8080/"
        }
      },
      "execution_count": null,
      "outputs": [
        {
          "output_type": "execute_result",
          "data": {
            "text/plain": [
              "(208,)"
            ]
          },
          "metadata": {},
          "execution_count": 17
        }
      ]
    },
    {
      "cell_type": "markdown",
      "metadata": {
        "id": "zpVhEJNuZAq8"
      },
      "source": [
        "## Randomforest"
      ]
    },
    {
      "cell_type": "code",
      "source": [
        "from sklearn.model_selection import GridSearchCV\n",
        "from sklearn.ensemble import RandomForestClassifier"
      ],
      "metadata": {
        "id": "lqSQ2lPb4ueh"
      },
      "execution_count": null,
      "outputs": []
    },
    {
      "cell_type": "code",
      "metadata": {
        "id": "IVh8eyVxAZa5",
        "colab": {
          "base_uri": "https://localhost:8080/"
        },
        "outputId": "34d0b1bf-c93e-4320-ff29-c1065c845945"
      },
      "source": [
        "\n",
        "clf0=RandomForestClassifier(oob_score=True,random_state=10)\n",
        "clf0.fit(x_train,y_train)\n",
        "\n",
        "print(clf0.oob_score_)\n",
        "print(\"accuracy:%f\"%clf0.oob_score_)\n",
        "y_pred=clf0.predict(x_test)"
      ],
      "execution_count": null,
      "outputs": [
        {
          "output_type": "stream",
          "name": "stdout",
          "text": [
            "0.8641826923076923\n",
            "accuracy:0.864183\n"
          ]
        }
      ]
    },
    {
      "cell_type": "code",
      "source": [
        "param_test1 = {\"n_estimators\":range(1,101,5)}\n",
        "gsearch1 = GridSearchCV(estimator=RandomForestClassifier(),param_grid=param_test1,\n",
        "                        scoring='roc_auc',cv=10)\n",
        "gsearch1.fit(x_train,y_train)\n",
        "\n",
        "#print(gsearch1.grid_scores_)\n",
        "print(gsearch1.best_params_)\n",
        "print(\"best accuracy:%f\" % gsearch1.best_score_)"
      ],
      "metadata": {
        "colab": {
          "base_uri": "https://localhost:8080/"
        },
        "id": "TXpTanh-4T7i",
        "outputId": "d4bb4b41-7fda-4369-ca89-ccd8c858337e"
      },
      "execution_count": null,
      "outputs": [
        {
          "output_type": "stream",
          "name": "stdout",
          "text": [
            "{'n_estimators': 61}\n",
            "best accuracy:0.936425\n"
          ]
        }
      ]
    },
    {
      "cell_type": "code",
      "source": [
        "param_test2 = {\"max_features\":range(1,11,1)}\n",
        "gsearch1 = GridSearchCV(estimator=RandomForestClassifier(n_estimators=86,\n",
        "                        random_state=10),\n",
        "                        param_grid = param_test2,scoring='roc_auc',cv=10)\n",
        "gsearch1.fit(x_train,y_train)\n",
        "#print(gsearch1.grid_scores_)\n",
        "print(gsearch1.best_params_)\n",
        "print('best accuracy:%f' % gsearch1.best_score_)"
      ],
      "metadata": {
        "colab": {
          "base_uri": "https://localhost:8080/"
        },
        "id": "GY5kX_ffXSsJ",
        "outputId": "1908381b-279e-4d2c-a377-42192cb59cd3"
      },
      "execution_count": null,
      "outputs": [
        {
          "output_type": "stream",
          "name": "stdout",
          "text": [
            "{'max_features': 10}\n",
            "best accuracy:0.935460\n"
          ]
        }
      ]
    },
    {
      "cell_type": "code",
      "source": [
        "uclf = RandomForestClassifier(n_estimators=61,max_features=10,\n",
        "                             oob_score=True,random_state=10)\n",
        "uclf.fit(x_train,y_train)\n",
        "#print(clf0.oob_score_)\n",
        "print(\"accuracy: %f\" % uclf.oob_score_)"
      ],
      "metadata": {
        "colab": {
          "base_uri": "https://localhost:8080/"
        },
        "id": "k7DhgcMEaTnH",
        "outputId": "7c193c1b-f5cd-44fd-c23c-cdf215d2e25b"
      },
      "execution_count": null,
      "outputs": [
        {
          "output_type": "stream",
          "name": "stdout",
          "text": [
            "accuracy: 0.867788\n"
          ]
        }
      ]
    },
    {
      "cell_type": "code",
      "source": [
        "#save model\n",
        "f = open('/content/drive/MyDrive/Yan/saved_model/uclf.pickle','wb')\n",
        "pickle.dump(uclf,f)\n",
        "f.close()"
      ],
      "metadata": {
        "id": "pNYBpHlgG-T4"
      },
      "execution_count": null,
      "outputs": []
    },
    {
      "cell_type": "code",
      "source": [
        "f = open('/content/drive/MyDrive/Yan/saved_model/uclf.pickle','rb')\n",
        "uclf1 = pickle.load(f)\n",
        "f.close()\n",
        "predictions=uclf1.predict(x_test)\n",
        "#print(predictions)"
      ],
      "metadata": {
        "id": "dBwqcTDrgV8y"
      },
      "execution_count": null,
      "outputs": []
    },
    {
      "cell_type": "code",
      "metadata": {
        "colab": {
          "base_uri": "https://localhost:8080/",
          "height": 471
        },
        "id": "T96w09FmRl6a",
        "outputId": "0110d963-1b82-4ada-8046-fa1f6f946610"
      },
      "source": [
        "#randomforestU\n",
        "evaluate_plt(x_test,y_test,uclf1)"
      ],
      "execution_count": null,
      "outputs": [
        {
          "output_type": "stream",
          "name": "stdout",
          "text": [
            "Accuracy: 0.8798076923076923\n",
            "f1_score:0.9158249158249158\n",
            "precision_score:0.8831168831168831\n",
            "recall_score:0.951048951048951\n",
            "loss:4.151364435704378\n"
          ]
        },
        {
          "output_type": "stream",
          "name": "stderr",
          "text": [
            "/usr/local/lib/python3.7/dist-packages/sklearn/utils/deprecation.py:87: FutureWarning: Function plot_confusion_matrix is deprecated; This will be removed in v0.4.0. Please use scikitplot.metrics.plot_confusion_matrix instead.\n",
            "  warnings.warn(msg, category=FutureWarning)\n"
          ]
        },
        {
          "output_type": "execute_result",
          "data": {
            "text/plain": [
              "RandomForestClassifier(max_features=10, n_estimators=61, oob_score=True,\n",
              "                       random_state=10)"
            ]
          },
          "metadata": {},
          "execution_count": 35
        },
        {
          "output_type": "display_data",
          "data": {
            "image/png": "[encoded data removed]",
            "text/plain": [
              "<Figure size 432x288 with 2 Axes>"
            ]
          },
          "metadata": {
            "needs_background": "light"
          }
        }
      ]
    },
    {
      "cell_type": "markdown",
      "source": [
        "## LogisticRegression"
      ],
      "metadata": {
        "id": "OxvLXfqHmf__"
      }
    },
    {
      "cell_type": "code",
      "source": [
        "from sklearn.linear_model import LogisticRegression\n",
        "clf_logist0 = LogisticRegression(random_state=0).fit(x_train,y_train)\n",
        "\n",
        "print(clf_logist0.score(x_test,y_test))\n",
        "print(\"accuracy:%f\"%clf_logist0.score(x_test,y_test))\n",
        "y_pred_logist=clf_logist0.predict(x_test)"
      ],
      "metadata": {
        "colab": {
          "base_uri": "https://localhost:8080/"
        },
        "id": "Czd4Uc8Rx91N",
        "outputId": "957d5a20-3c49-4dc0-b1c1-da725f92b402"
      },
      "execution_count": null,
      "outputs": [
        {
          "output_type": "stream",
          "name": "stdout",
          "text": [
            "0.6875\n",
            "accuracy:0.687500\n"
          ]
        }
      ]
    },
    {
      "cell_type": "code",
      "source": [
        "from sklearn.metrics import f1_score,accuracy_score,precision_score,recall_score\n",
        "print(\"f1_score:\",f1_score(y_test, y_pred_logist))\n",
        "print(\"accuracy_score\",accuracy_score(y_test, y_pred_logist))\n",
        "print(\"precision_score\",precision_score(y_test, y_pred_logist))\n",
        "print(\"recall_score\",recall_score(y_test, y_pred_logist))"
      ],
      "metadata": {
        "colab": {
          "base_uri": "https://localhost:8080/"
        },
        "id": "YxM-lYTLhDQB",
        "outputId": "718d0d7f-f5d7-43ff-9a37-64cb8ab464b3"
      },
      "execution_count": null,
      "outputs": [
        {
          "output_type": "stream",
          "name": "stdout",
          "text": [
            "f1_score: 0.8148148148148148\n",
            "accuracy_score 0.6875\n",
            "precision_score 0.6875\n",
            "recall_score 1.0\n"
          ]
        }
      ]
    },
    {
      "cell_type": "code",
      "source": [
        "best_ting = {\n",
        "    'max_iter':[10,20,40,60,80,100],\n",
        "    'C':[0.01,0.1,1,10]\n",
        "}"
      ],
      "metadata": {
        "id": "CNP6kshdDO-i"
      },
      "execution_count": null,
      "outputs": []
    },
    {
      "cell_type": "code",
      "source": [
        "param_test=GridSearchCV(LogisticRegression(random_state=0),best_ting,cv=5)"
      ],
      "metadata": {
        "id": "BmfIAID5DOyI"
      },
      "execution_count": null,
      "outputs": []
    },
    {
      "cell_type": "code",
      "source": [
        "param_test.fit(x_train,y_train)"
      ],
      "metadata": {
        "id": "Sb7TnXgyDOuA"
      },
      "execution_count": null,
      "outputs": []
    },
    {
      "cell_type": "code",
      "source": [
        "print(param_test.best_params_)"
      ],
      "metadata": {
        "colab": {
          "base_uri": "https://localhost:8080/"
        },
        "id": "KQvdGZq9sBDA",
        "outputId": "eafa71e3-642d-4266-e48c-0fea9653fe40"
      },
      "execution_count": null,
      "outputs": [
        {
          "output_type": "stream",
          "name": "stdout",
          "text": [
            "{'C': 0.01, 'max_iter': 10}\n"
          ]
        }
      ]
    },
    {
      "cell_type": "code",
      "source": [
        "uclf_logist=LogisticRegression(max_iter=10,C=0.1).fit(x_train,y_train)"
      ],
      "metadata": {
        "id": "9sjtMDBAswUW"
      },
      "execution_count": null,
      "outputs": []
    },
    {
      "cell_type": "code",
      "source": [
        "#save model\n",
        "f = open('/content/drive/MyDrive/Yan/saved_model/uclf_logist.pickle','wb')\n",
        "pickle.dump(uclf_logist,f)\n",
        "f.close()"
      ],
      "metadata": {
        "id": "m9IBpkRVlrEC"
      },
      "execution_count": null,
      "outputs": []
    },
    {
      "cell_type": "code",
      "source": [
        "f = open('/content/drive/MyDrive/Yan/saved_model/uclf_logist.pickle','rb')\n",
        "uclf_logist1 = pickle.load(f)\n",
        "f.close()\n",
        "#predictions=uclf1.predict(x_test)\n",
        "#print(predictions)"
      ],
      "metadata": {
        "id": "KR7UrvRHUcWV"
      },
      "execution_count": null,
      "outputs": []
    },
    {
      "cell_type": "code",
      "metadata": {
        "id": "VT6zLpErAZeS",
        "colab": {
          "base_uri": "https://localhost:8080/",
          "height": 454
        },
        "outputId": "d350b70b-9b18-43ab-b6c2-765f2e3f6f54"
      },
      "source": [
        "#logisticregressionU\n",
        "evaluate_plt(x_test,y_test,uclf_logist1 )"
      ],
      "execution_count": null,
      "outputs": [
        {
          "output_type": "stream",
          "name": "stdout",
          "text": [
            "Accuracy: 0.6875\n",
            "f1_score:0.8148148148148148\n",
            "precision_score:0.6875\n",
            "recall_score:1.0\n",
            "loss:10.793617497606524\n"
          ]
        },
        {
          "output_type": "stream",
          "name": "stderr",
          "text": [
            "/usr/local/lib/python3.7/dist-packages/sklearn/utils/deprecation.py:87: FutureWarning: Function plot_confusion_matrix is deprecated; This will be removed in v0.4.0. Please use scikitplot.metrics.plot_confusion_matrix instead.\n",
            "  warnings.warn(msg, category=FutureWarning)\n"
          ]
        },
        {
          "output_type": "execute_result",
          "data": {
            "text/plain": [
              "LogisticRegression(C=0.1, max_iter=10)"
            ]
          },
          "metadata": {},
          "execution_count": 54
        },
        {
          "output_type": "display_data",
          "data": {
            "image/png": "[encoded data removed]",
            "text/plain": [
              "<Figure size 432x288 with 2 Axes>"
            ]
          },
          "metadata": {
            "needs_background": "light"
          }
        }
      ]
    },
    {
      "cell_type": "markdown",
      "source": [
        "## predicted result"
      ],
      "metadata": {
        "id": "6AynBqZxhBfA"
      }
    },
    {
      "cell_type": "code",
      "source": [
        "!pip install xlsxwriter"
      ],
      "metadata": {
        "colab": {
          "base_uri": "https://localhost:8080/"
        },
        "id": "qSNq_xOUDFAP",
        "outputId": "e4ec8655-b618-45d2-b8bf-b4f3e2e25ec2"
      },
      "execution_count": null,
      "outputs": [
        {
          "output_type": "stream",
          "name": "stdout",
          "text": [
            "Collecting xlsxwriter\n",
            "  Downloading XlsxWriter-3.0.2-py3-none-any.whl (149 kB)\n",
            "\u001b[?25l\r\u001b[K     |██▏                             | 10 kB 25.6 MB/s eta 0:00:01\r\u001b[K     |████▍                           | 20 kB 27.8 MB/s eta 0:00:01\r\u001b[K     |██████▋                         | 30 kB 19.9 MB/s eta 0:00:01\r\u001b[K     |████████▊                       | 40 kB 12.9 MB/s eta 0:00:01\r\u001b[K     |███████████                     | 51 kB 6.7 MB/s eta 0:00:01\r\u001b[K     |█████████████▏                  | 61 kB 7.8 MB/s eta 0:00:01\r\u001b[K     |███████████████▎                | 71 kB 7.9 MB/s eta 0:00:01\r\u001b[K     |█████████████████▌              | 81 kB 7.5 MB/s eta 0:00:01\r\u001b[K     |███████████████████▊            | 92 kB 8.3 MB/s eta 0:00:01\r\u001b[K     |█████████████████████▉          | 102 kB 7.4 MB/s eta 0:00:01\r\u001b[K     |████████████████████████        | 112 kB 7.4 MB/s eta 0:00:01\r\u001b[K     |██████████████████████████▎     | 122 kB 7.4 MB/s eta 0:00:01\r\u001b[K     |████████████████████████████▍   | 133 kB 7.4 MB/s eta 0:00:01\r\u001b[K     |██████████████████████████████▋ | 143 kB 7.4 MB/s eta 0:00:01\r\u001b[K     |████████████████████████████████| 149 kB 7.4 MB/s \n",
            "\u001b[?25hInstalling collected packages: xlsxwriter\n",
            "Successfully installed xlsxwriter-3.0.2\n"
          ]
        }
      ]
    },
    {
      "cell_type": "code",
      "source": [
        "predicted_result_u = {}\n",
        "predicted_result_u['result'] = []\n",
        "# predict_eval = clf1.predict(x_test).tolist()\n",
        "\n",
        "for claims, evidences, predicted_label in zip(test['claims'], test['evidences'], predictions):\n",
        "    if predicted_label == 1:\n",
        "        predicted_result_u['result'].append({\n",
        "            \"predicted_claims\": claims,\n",
        "            \"predicted_evidences\": evidences,\n",
        "            \"predicted_label\": predicted_label\n",
        "        })"
      ],
      "metadata": {
        "id": "l6t-wtx4uoPg"
      },
      "execution_count": null,
      "outputs": []
    },
    {
      "cell_type": "code",
      "source": [
        "#predict != truth\n",
        "predicted_miss_u ={}\n",
        "predicted_miss_u ['miss_result'] =[]\n",
        "\n",
        "for claims, evidences, predicted_label, truth in zip(test['claims'], test['evidences'], predictions, y_test):\n",
        "    if predicted_label != truth:\n",
        "        predicted_miss_u['miss_result'].append({\n",
        "            \"predicted_claims\": claims,\n",
        "            \"predicted_evidences\": evidences,\n",
        "            \"predicted_label\": predicted_label,\n",
        "            \"truth\" : truth\n",
        "        })\n"
      ],
      "metadata": {
        "id": "31AcXGeFz6f8"
      },
      "execution_count": null,
      "outputs": []
    },
    {
      "cell_type": "code",
      "source": [
        "#Only predict=1 truth=1\n",
        "predicted_true_u = {}\n",
        "predicted_true_u['true_result'] = []\n",
        "\n",
        "for claims, evidences, predicted_label, truth in zip(test['claims'], test['evidences'], predictions, y_test):\n",
        "    if predicted_label == 1 and truth == 1:\n",
        "        predicted_true_u['true_result'].append({\n",
        "            \"predicted_claims\": claims,\n",
        "            \"predicted_evidences\": evidences,\n",
        "            \"predicted_label\": predicted_label,\n",
        "            \"truth\" : truth\n",
        "        })"
      ],
      "metadata": {
        "id": "zNezcGxpK5Z8"
      },
      "execution_count": null,
      "outputs": []
    },
    {
      "cell_type": "code",
      "source": [
        "len(predicted_true_u['true_result'])"
      ],
      "metadata": {
        "colab": {
          "base_uri": "https://localhost:8080/"
        },
        "id": "_W-FEFMFzhPb",
        "outputId": "bb23a96e-5d7e-4778-8739-2d57a2f75d72"
      },
      "execution_count": null,
      "outputs": [
        {
          "output_type": "execute_result",
          "data": {
            "text/plain": [
              "138"
            ]
          },
          "metadata": {},
          "execution_count": 23
        }
      ]
    },
    {
      "cell_type": "code",
      "source": [
        "len(predicted_miss_u ['miss_result'])"
      ],
      "metadata": {
        "colab": {
          "base_uri": "https://localhost:8080/"
        },
        "id": "YMDQkZXGx3NN",
        "outputId": "553cbd21-4652-4e7d-dbe4-142b77f19b1b"
      },
      "execution_count": null,
      "outputs": [
        {
          "output_type": "execute_result",
          "data": {
            "text/plain": [
              "25"
            ]
          },
          "metadata": {},
          "execution_count": 56
        }
      ]
    },
    {
      "cell_type": "code",
      "source": [
        "data = predicted_result_u['result']\n",
        "df = pd.DataFrame(data)\n",
        "writer = pd.ExcelWriter('/content/drive/MyDrive/Yan/predicted_result_u.xlsx', engine='xlsxwriter')\n",
        "df.to_excel(writer, index = False )\n",
        "writer.save()"
      ],
      "metadata": {
        "id": "yMjjkkTnEK8y"
      },
      "execution_count": null,
      "outputs": []
    },
    {
      "cell_type": "code",
      "source": [
        "data =predicted_true_u['true_result']\n",
        "df = pd.DataFrame(data)\n",
        "writer = pd.ExcelWriter('/content/drive/MyDrive/Yan/predicted_true_u.xlsx', engine='xlsxwriter')\n",
        "df.to_excel(writer, index = False )\n",
        "writer.save()"
      ],
      "metadata": {
        "id": "f-H0_hLFVcfM"
      },
      "execution_count": null,
      "outputs": []
    },
    {
      "cell_type": "code",
      "source": [
        "data =predicted_miss_u ['miss_result']\n",
        "df = pd.DataFrame(data)\n",
        "writer = pd.ExcelWriter('/content/drive/MyDrive/Yan/predicted_miss_u.xlsx', engine='xlsxwriter')\n",
        "df.to_excel(writer, index = False )\n",
        "writer.save()"
      ],
      "metadata": {
        "id": "hsymUUDn2C9h"
      },
      "execution_count": null,
      "outputs": []
    },
    {
      "cell_type": "code",
      "source": [
        "len(predicted_true_u['true_result'])"
      ],
      "metadata": {
        "colab": {
          "base_uri": "https://localhost:8080/"
        },
        "id": "y0KZdB9cVvdL",
        "outputId": "24f19813-5c40-46e9-d1a3-84a36bd522f3"
      },
      "execution_count": null,
      "outputs": [
        {
          "output_type": "execute_result",
          "data": {
            "text/plain": [
              "136"
            ]
          },
          "metadata": {},
          "execution_count": 61
        }
      ]
    }
  ]
}