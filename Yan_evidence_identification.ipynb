{
  "cells": [
    {
      "cell_type": "markdown",
      "metadata": {
        "id": "view-in-github",
        "colab_type": "text"
      },
      "source": [
        "<a href=\"https://colab.research.google.com/github/carol1521/2-tier-Argumentation-Framework/blob/main/Yan_evidence_identification.ipynb\" target=\"_parent\"><img src=\"https://colab.research.google.com/assets/colab-badge.svg\" alt=\"Open In Colab\"/></a>"
      ]
    },
    {
      "cell_type": "markdown",
      "metadata": {
        "id": "EnMtDZFn6jow"
      },
      "source": [
        "# Evidences_detection"
      ]
    },
    {
      "cell_type": "markdown",
      "metadata": {
        "id": "wdOyU5HX7V2I"
      },
      "source": [
        "## Reading_data"
      ]
    },
    {
      "cell_type": "code",
      "execution_count": null,
      "metadata": {
        "id": "wUdDFPMCN6Xf"
      },
      "outputs": [],
      "source": [
        "!pip install scikit-plot"
      ]
    },
    {
      "cell_type": "code",
      "execution_count": null,
      "metadata": {
        "id": "cHEwUD-12q3B"
      },
      "outputs": [],
      "source": [
        "import tensorflow as tf"
      ]
    },
    {
      "cell_type": "code",
      "execution_count": null,
      "metadata": {
        "colab": {
          "base_uri": "https://localhost:8080/"
        },
        "id": "RiwvzWrQORbT",
        "outputId": "b50f0764-07f8-4951-8653-be8db207e825"
      },
      "outputs": [
        {
          "output_type": "stream",
          "name": "stdout",
          "text": [
            "/content/drive/MyDrive/Yan/IBM_Debater_(R)_CE-ACL-2014.v0\n"
          ]
        }
      ],
      "source": [
        "import numpy as np\n",
        "import pandas as pd\n",
        "import string\n",
        "import nltk\n",
        "import gensim\n",
        "import os\n",
        "import warnings\n",
        "import matplotlib.pyplot as plt\n",
        "import scikitplot as skplt\n",
        "import networkx as nx\n",
        " \n",
        "from nltk.tokenize.punkt import PunktSentenceTokenizer\n",
        "from sklearn.feature_extraction.text import TfidfTransformer, CountVectorizer\n",
        "\n",
        "from sklearn.model_selection import train_test_split\n",
        "from sklearn.metrics.pairwise import cosine_similarity\n",
        "\n",
        "from keras.models import load_model\n",
        "from keras.models import Sequential\n",
        "from keras.layers import Dense, Flatten,TimeDistributed,LSTM\n",
        "from keras.callbacks import EarlyStopping, ModelCheckpoint\n",
        "\n",
        "%notebook inline\n",
        "warnings.filterwarnings(\"ignore\")\n",
        "root = os.getcwd() + '/drive/MyDrive/Yan/IBM_Debater_(R)_CE-ACL-2014.v0'\n",
        "print(root)"
      ]
    },
    {
      "cell_type": "code",
      "execution_count": null,
      "metadata": {
        "id": "X8vkH1htORo9"
      },
      "outputs": [],
      "source": [
        "def read_file(filename):\n",
        "    data = []\n",
        "    with open(filename, 'r') as f:\n",
        "        text = f.read().split('\\n')\n",
        "        for parag in text:\n",
        "            if len(parag) >2:\n",
        "                data = data + [a for a in parag.split('. ') if len(a)>0]\n",
        "                \n",
        "    return data"
      ]
    },
    {
      "cell_type": "code",
      "execution_count": null,
      "metadata": {
        "id": "ko9nrDHXORtm"
      },
      "outputs": [],
      "source": [
        "articles = dict()\n",
        "for subdir, dirs, files in os.walk('/content/drive/MyDrive/Yan/IBM_Debater_(R)_CE-ACL-2014.v0/wiki12_articles'):\n",
        " \n",
        "\n",
        "    for file in files:\n",
        "        #if file[-3:] == 'txt' and file[:5] == 'clean':\n",
        "        filename = os.path.join(subdir, file)\n",
        "        print(filename)\n",
        "        articles[file] = read_file(filename)\n"
      ]
    },
    {
      "cell_type": "code",
      "execution_count": null,
      "metadata": {
        "colab": {
          "base_uri": "https://localhost:8080/"
        },
        "id": "khp8WOLbVvxH",
        "outputId": "59b59b76-a540-4dfe-db47-0666b0d4c7f2"
      },
      "outputs": [
        {
          "output_type": "stream",
          "name": "stdout",
          "text": [
            "Requirement already satisfied: xlrd in /usr/local/lib/python3.7/dist-packages (1.1.0)\n"
          ]
        }
      ],
      "source": [
        "!pip install xlrd"
      ]
    },
    {
      "cell_type": "code",
      "execution_count": null,
      "metadata": {
        "colab": {
          "base_uri": "https://localhost:8080/",
          "height": 269
        },
        "id": "fP1RcCj0Wrxk",
        "outputId": "e60ee565-d979-47f6-e273-a3de648150fe"
      },
      "outputs": [
        {
          "output_type": "execute_result",
          "data": {
            "text/html": [
              "\n",
              "  <div id=\"df-21cf58a7-6966-4aa8-93a7-33a975eab279\">\n",
              "    <div class=\"colab-df-container\">\n",
              "      <div>\n",
              "<style scoped>\n",
              "    .dataframe tbody tr th:only-of-type {\n",
              "        vertical-align: middle;\n",
              "    }\n",
              "\n",
              "    .dataframe tbody tr th {\n",
              "        vertical-align: top;\n",
              "    }\n",
              "\n",
              "    .dataframe thead th {\n",
              "        text-align: right;\n",
              "    }\n",
              "</style>\n",
              "<table border=\"1\" class=\"dataframe\">\n",
              "  <thead>\n",
              "    <tr style=\"text-align: right;\">\n",
              "      <th></th>\n",
              "      <th>0</th>\n",
              "    </tr>\n",
              "  </thead>\n",
              "  <tbody>\n",
              "    <tr>\n",
              "      <th>topic</th>\n",
              "      <td>We should limit executive compensation</td>\n",
              "    </tr>\n",
              "    <tr>\n",
              "      <th>the concept of the topic</th>\n",
              "      <td>executive compensation</td>\n",
              "    </tr>\n",
              "    <tr>\n",
              "      <th>candidate</th>\n",
              "      <td>A say on pay - a non-binding vote of the gener...</td>\n",
              "    </tr>\n",
              "    <tr>\n",
              "      <th>candidate masked</th>\n",
              "      <td>A say on pay - a non-binding vote of the gener...</td>\n",
              "    </tr>\n",
              "    <tr>\n",
              "      <th>label</th>\n",
              "      <td>0</td>\n",
              "    </tr>\n",
              "    <tr>\n",
              "      <th>wikipedia article name</th>\n",
              "      <td>Executive pay</td>\n",
              "    </tr>\n",
              "    <tr>\n",
              "      <th>wikipedia url</th>\n",
              "      <td>https://en.wikipedia.org/wiki/Executive_pay</td>\n",
              "    </tr>\n",
              "  </tbody>\n",
              "</table>\n",
              "</div>\n",
              "      <button class=\"colab-df-convert\" onclick=\"convertToInteractive('df-21cf58a7-6966-4aa8-93a7-33a975eab279')\"\n",
              "              title=\"Convert this dataframe to an interactive table.\"\n",
              "              style=\"display:none;\">\n",
              "        \n",
              "  <svg xmlns=\"http://www.w3.org/2000/svg\" height=\"24px\"viewBox=\"0 0 24 24\"\n",
              "       width=\"24px\">\n",
              "    <path d=\"M0 0h24v24H0V0z\" fill=\"none\"/>\n",
              "    <path d=\"M18.56 5.44l.94 2.06.94-2.06 2.06-.94-2.06-.94-.94-2.06-.94 2.06-2.06.94zm-11 1L8.5 8.5l.94-2.06 2.06-.94-2.06-.94L8.5 2.5l-.94 2.06-2.06.94zm10 10l.94 2.06.94-2.06 2.06-.94-2.06-.94-.94-2.06-.94 2.06-2.06.94z\"/><path d=\"M17.41 7.96l-1.37-1.37c-.4-.4-.92-.59-1.43-.59-.52 0-1.04.2-1.43.59L10.3 9.45l-7.72 7.72c-.78.78-.78 2.05 0 2.83L4 21.41c.39.39.9.59 1.41.59.51 0 1.02-.2 1.41-.59l7.78-7.78 2.81-2.81c.8-.78.8-2.07 0-2.86zM5.41 20L4 18.59l7.72-7.72 1.47 1.35L5.41 20z\"/>\n",
              "  </svg>\n",
              "      </button>\n",
              "      \n",
              "  <style>\n",
              "    .colab-df-container {\n",
              "      display:flex;\n",
              "      flex-wrap:wrap;\n",
              "      gap: 12px;\n",
              "    }\n",
              "\n",
              "    .colab-df-convert {\n",
              "      background-color: #E8F0FE;\n",
              "      border: none;\n",
              "      border-radius: 50%;\n",
              "      cursor: pointer;\n",
              "      display: none;\n",
              "      fill: #1967D2;\n",
              "      height: 32px;\n",
              "      padding: 0 0 0 0;\n",
              "      width: 32px;\n",
              "    }\n",
              "\n",
              "    .colab-df-convert:hover {\n",
              "      background-color: #E2EBFA;\n",
              "      box-shadow: 0px 1px 2px rgba(60, 64, 67, 0.3), 0px 1px 3px 1px rgba(60, 64, 67, 0.15);\n",
              "      fill: #174EA6;\n",
              "    }\n",
              "\n",
              "    [theme=dark] .colab-df-convert {\n",
              "      background-color: #3B4455;\n",
              "      fill: #D2E3FC;\n",
              "    }\n",
              "\n",
              "    [theme=dark] .colab-df-convert:hover {\n",
              "      background-color: #434B5C;\n",
              "      box-shadow: 0px 1px 3px 1px rgba(0, 0, 0, 0.15);\n",
              "      filter: drop-shadow(0px 1px 2px rgba(0, 0, 0, 0.3));\n",
              "      fill: #FFFFFF;\n",
              "    }\n",
              "  </style>\n",
              "\n",
              "      <script>\n",
              "        const buttonEl =\n",
              "          document.querySelector('#df-21cf58a7-6966-4aa8-93a7-33a975eab279 button.colab-df-convert');\n",
              "        buttonEl.style.display =\n",
              "          google.colab.kernel.accessAllowed ? 'block' : 'none';\n",
              "\n",
              "        async function convertToInteractive(key) {\n",
              "          const element = document.querySelector('#df-21cf58a7-6966-4aa8-93a7-33a975eab279');\n",
              "          const dataTable =\n",
              "            await google.colab.kernel.invokeFunction('convertToInteractive',\n",
              "                                                     [key], {});\n",
              "          if (!dataTable) return;\n",
              "\n",
              "          const docLinkHtml = 'Like what you see? Visit the ' +\n",
              "            '<a target=\"_blank\" href=https://colab.research.google.com/notebooks/data_table.ipynb>data table notebook</a>'\n",
              "            + ' to learn more about interactive tables.';\n",
              "          element.innerHTML = '';\n",
              "          dataTable['output_type'] = 'display_data';\n",
              "          await google.colab.output.renderOutput(dataTable, element);\n",
              "          const docLink = document.createElement('div');\n",
              "          docLink.innerHTML = docLinkHtml;\n",
              "          element.appendChild(docLink);\n",
              "        }\n",
              "      </script>\n",
              "    </div>\n",
              "  </div>\n",
              "  "
            ],
            "text/plain": [
              "                                                                          0\n",
              "topic                                We should limit executive compensation\n",
              "the concept of the topic                             executive compensation\n",
              "candidate                 A say on pay - a non-binding vote of the gener...\n",
              "candidate masked          A say on pay - a non-binding vote of the gener...\n",
              "label                                                                     0\n",
              "wikipedia article name                                        Executive pay\n",
              "wikipedia url                   https://en.wikipedia.org/wiki/Executive_pay"
            ]
          },
          "metadata": {},
          "execution_count": 7
        }
      ],
      "source": [
        "evidence_trainDF = pd.read_csv(\"/content/drive/MyDrive/Yan/IBMDebaterEvidenceSentences 3/train.csv\")\n",
        "evidence_trainDF[:1].T"
      ]
    },
    {
      "cell_type": "code",
      "execution_count": null,
      "metadata": {
        "id": "WMtVCpd0ORxe"
      },
      "outputs": [],
      "source": [
        "evidence_testDF = pd.read_excel(\"/content/drive/MyDrive/Yan/IBM_Debater_(R)_CE-ACL-2014.v0/2014_7_18_ibm_CDE(1)data.xlsx\")\n",
        "article_paths = set(evidence_testDF['Article'])\n",
        "print(article_paths)"
      ]
    },
    {
      "cell_type": "code",
      "execution_count": null,
      "metadata": {
        "colab": {
          "base_uri": "https://localhost:8080/",
          "height": 269
        },
        "id": "mqAvq98ZOR0v",
        "outputId": "00673a42-30cb-4089-c97d-1ebd0cacb8a7"
      },
      "outputs": [
        {
          "output_type": "execute_result",
          "data": {
            "text/html": [
              "\n",
              "  <div id=\"df-3543f1ff-84ee-46cb-b4ec-6e2b3ae313b9\">\n",
              "    <div class=\"colab-df-container\">\n",
              "      <div>\n",
              "<style scoped>\n",
              "    .dataframe tbody tr th:only-of-type {\n",
              "        vertical-align: middle;\n",
              "    }\n",
              "\n",
              "    .dataframe tbody tr th {\n",
              "        vertical-align: top;\n",
              "    }\n",
              "\n",
              "    .dataframe thead th {\n",
              "        text-align: right;\n",
              "    }\n",
              "</style>\n",
              "<table border=\"1\" class=\"dataframe\">\n",
              "  <thead>\n",
              "    <tr style=\"text-align: right;\">\n",
              "      <th></th>\n",
              "      <th>0</th>\n",
              "    </tr>\n",
              "  </thead>\n",
              "  <tbody>\n",
              "    <tr>\n",
              "      <th>Topic</th>\n",
              "      <td>the sale of violent video games to minors</td>\n",
              "    </tr>\n",
              "    <tr>\n",
              "      <th>Article</th>\n",
              "      <td>Video_game_controversies</td>\n",
              "    </tr>\n",
              "    <tr>\n",
              "      <th>Claim</th>\n",
              "      <td>exposure to violent video games causes at leas...</td>\n",
              "    </tr>\n",
              "    <tr>\n",
              "      <th>CDE</th>\n",
              "      <td>The most recent large scale meta-anlysis-- exa...</td>\n",
              "    </tr>\n",
              "    <tr>\n",
              "      <th>Type 1</th>\n",
              "      <td>STUDY</td>\n",
              "    </tr>\n",
              "    <tr>\n",
              "      <th>Type 2</th>\n",
              "      <td>NaN</td>\n",
              "    </tr>\n",
              "    <tr>\n",
              "      <th>Unnamed: 6</th>\n",
              "      <td>NaN</td>\n",
              "    </tr>\n",
              "  </tbody>\n",
              "</table>\n",
              "</div>\n",
              "      <button class=\"colab-df-convert\" onclick=\"convertToInteractive('df-3543f1ff-84ee-46cb-b4ec-6e2b3ae313b9')\"\n",
              "              title=\"Convert this dataframe to an interactive table.\"\n",
              "              style=\"display:none;\">\n",
              "        \n",
              "  <svg xmlns=\"http://www.w3.org/2000/svg\" height=\"24px\"viewBox=\"0 0 24 24\"\n",
              "       width=\"24px\">\n",
              "    <path d=\"M0 0h24v24H0V0z\" fill=\"none\"/>\n",
              "    <path d=\"M18.56 5.44l.94 2.06.94-2.06 2.06-.94-2.06-.94-.94-2.06-.94 2.06-2.06.94zm-11 1L8.5 8.5l.94-2.06 2.06-.94-2.06-.94L8.5 2.5l-.94 2.06-2.06.94zm10 10l.94 2.06.94-2.06 2.06-.94-2.06-.94-.94-2.06-.94 2.06-2.06.94z\"/><path d=\"M17.41 7.96l-1.37-1.37c-.4-.4-.92-.59-1.43-.59-.52 0-1.04.2-1.43.59L10.3 9.45l-7.72 7.72c-.78.78-.78 2.05 0 2.83L4 21.41c.39.39.9.59 1.41.59.51 0 1.02-.2 1.41-.59l7.78-7.78 2.81-2.81c.8-.78.8-2.07 0-2.86zM5.41 20L4 18.59l7.72-7.72 1.47 1.35L5.41 20z\"/>\n",
              "  </svg>\n",
              "      </button>\n",
              "      \n",
              "  <style>\n",
              "    .colab-df-container {\n",
              "      display:flex;\n",
              "      flex-wrap:wrap;\n",
              "      gap: 12px;\n",
              "    }\n",
              "\n",
              "    .colab-df-convert {\n",
              "      background-color: #E8F0FE;\n",
              "      border: none;\n",
              "      border-radius: 50%;\n",
              "      cursor: pointer;\n",
              "      display: none;\n",
              "      fill: #1967D2;\n",
              "      height: 32px;\n",
              "      padding: 0 0 0 0;\n",
              "      width: 32px;\n",
              "    }\n",
              "\n",
              "    .colab-df-convert:hover {\n",
              "      background-color: #E2EBFA;\n",
              "      box-shadow: 0px 1px 2px rgba(60, 64, 67, 0.3), 0px 1px 3px 1px rgba(60, 64, 67, 0.15);\n",
              "      fill: #174EA6;\n",
              "    }\n",
              "\n",
              "    [theme=dark] .colab-df-convert {\n",
              "      background-color: #3B4455;\n",
              "      fill: #D2E3FC;\n",
              "    }\n",
              "\n",
              "    [theme=dark] .colab-df-convert:hover {\n",
              "      background-color: #434B5C;\n",
              "      box-shadow: 0px 1px 3px 1px rgba(0, 0, 0, 0.15);\n",
              "      filter: drop-shadow(0px 1px 2px rgba(0, 0, 0, 0.3));\n",
              "      fill: #FFFFFF;\n",
              "    }\n",
              "  </style>\n",
              "\n",
              "      <script>\n",
              "        const buttonEl =\n",
              "          document.querySelector('#df-3543f1ff-84ee-46cb-b4ec-6e2b3ae313b9 button.colab-df-convert');\n",
              "        buttonEl.style.display =\n",
              "          google.colab.kernel.accessAllowed ? 'block' : 'none';\n",
              "\n",
              "        async function convertToInteractive(key) {\n",
              "          const element = document.querySelector('#df-3543f1ff-84ee-46cb-b4ec-6e2b3ae313b9');\n",
              "          const dataTable =\n",
              "            await google.colab.kernel.invokeFunction('convertToInteractive',\n",
              "                                                     [key], {});\n",
              "          if (!dataTable) return;\n",
              "\n",
              "          const docLinkHtml = 'Like what you see? Visit the ' +\n",
              "            '<a target=\"_blank\" href=https://colab.research.google.com/notebooks/data_table.ipynb>data table notebook</a>'\n",
              "            + ' to learn more about interactive tables.';\n",
              "          element.innerHTML = '';\n",
              "          dataTable['output_type'] = 'display_data';\n",
              "          await google.colab.output.renderOutput(dataTable, element);\n",
              "          const docLink = document.createElement('div');\n",
              "          docLink.innerHTML = docLinkHtml;\n",
              "          element.appendChild(docLink);\n",
              "        }\n",
              "      </script>\n",
              "    </div>\n",
              "  </div>\n",
              "  "
            ],
            "text/plain": [
              "                                                            0\n",
              "Topic              the sale of violent video games to minors \n",
              "Article                              Video_game_controversies\n",
              "Claim       exposure to violent video games causes at leas...\n",
              "CDE         The most recent large scale meta-anlysis-- exa...\n",
              "Type 1                                                  STUDY\n",
              "Type 2                                                    NaN\n",
              "Unnamed: 6                                                NaN"
            ]
          },
          "metadata": {},
          "execution_count": 9
        }
      ],
      "source": [
        "evidence_testDF[:1].T"
      ]
    },
    {
      "cell_type": "code",
      "execution_count": null,
      "metadata": {
        "id": "gFCFWKqPOR35"
      },
      "outputs": [],
      "source": [
        "def textrank(sentences):\n",
        "#     sentence_tokenizer = PunktSentenceTokenizer()\n",
        "#     sentences = sentence_tokenizer.tokenize(document)\n",
        " \n",
        "    bow_matrix = CountVectorizer().fit_transform(sentences)\n",
        "    normalized = TfidfTransformer().fit_transform(bow_matrix)\n",
        " \n",
        "    similarity_graph = normalized * normalized.T\n",
        " \n",
        "    nx_graph = nx.from_scipy_sparse_matrix(similarity_graph)\n",
        "    scores = nx.pagerank(nx_graph)\n",
        "    \n",
        "    return dict((s, scores[i]) for i,s in enumerate(sentences))"
      ]
    },
    {
      "cell_type": "code",
      "execution_count": null,
      "metadata": {
        "id": "a3vRgAndVD-q"
      },
      "outputs": [],
      "source": [
        "articles_tags_test = []\n",
        "#articles_sent_length = []\n",
        "sentences_test = []\n",
        "topics_test = []\n",
        "#article_locs = []\n",
        "#article_rank = []\n"
      ]
    },
    {
      "cell_type": "code",
      "execution_count": null,
      "metadata": {
        "id": "XayyZrpBOR7K"
      },
      "outputs": [],
      "source": [
        "\n",
        "for a in article_paths:\n",
        "    article_name = a.split('/')[-1]\n",
        "    print(article_name)\n",
        "    #print(articles)\n",
        "    \n",
        "    sents = articles[article_name]\n",
        "    #rank_dict = textrank(sents)\n",
        "    evidences = list(evidence_testDF[evidence_testDF['Article'] == a]['CDE'])\n",
        "    topic = list(evidence_testDF[evidence_testDF['Article'] == a]['Topic'])[0]\n",
        "    tags = []\n",
        "    #sent_length = []\n",
        "    #locs = []\n",
        "    #rank = []\n",
        "    \n",
        "    for i, sent in enumerate(sents):\n",
        "        '''\n",
        "        # get normalized location\n",
        "        locs.append(i+1/float(len(sents)))\n",
        "        \n",
        "        # get text rank score\n",
        "        r = rank_dict[sent]\n",
        "        rank.append(r)\n",
        "        \n",
        "        # get sent length\n",
        "        tokens = [a for a in sent.split() if a != '']\n",
        "        sent_length.append(len(tokens))\n",
        "        '''\n",
        "    \n",
        "        topics_test.append(topic)\n",
        "        flag = False\n",
        "        for evidence in evidences:\n",
        "            if evidence in sent:\n",
        "                tags.append(1)\n",
        "                evidences.remove(evidence)\n",
        "                flag = True\n",
        "                break\n",
        "        if not flag:\n",
        "            tags.append(0)  \n",
        "    \n",
        "    sentences_test.append(sents)\n",
        "    articles_tags_test.append(tags)\n",
        "    #article_locs.append(locs)\n",
        "    #articles_sent_length.append(sent_length)\n",
        "    #article_rank.append(rank)"
      ]
    },
    {
      "cell_type": "code",
      "execution_count": null,
      "metadata": {
        "id": "Vcq90r9XivmJ"
      },
      "outputs": [],
      "source": [
        "d_train = {'sentences': evidence_trainDF['candidate'],\n",
        "           'topic': evidence_trainDF['topic'],\n",
        "           'label': evidence_trainDF['label']\n",
        "           }\n",
        "df_train = pd.DataFrame(d_train)           "
      ]
    },
    {
      "cell_type": "code",
      "execution_count": null,
      "metadata": {
        "colab": {
          "base_uri": "https://localhost:8080/"
        },
        "id": "VaMkaz6Li1N9",
        "outputId": "427a93a6-6f0a-44de-9c8c-05885e57998d"
      },
      "outputs": [
        {
          "output_type": "execute_result",
          "data": {
            "text/plain": [
              "(4065, 3)"
            ]
          },
          "metadata": {},
          "execution_count": 14
        }
      ],
      "source": [
        "df_train.shape"
      ]
    },
    {
      "cell_type": "code",
      "execution_count": null,
      "metadata": {
        "id": "9zU2BNUMOR-T"
      },
      "outputs": [],
      "source": [
        "d_test = {'sentences': sum(sentences_test, []), \n",
        "     'topic': topics_test, \n",
        "     'label': sum(articles_tags_test, [])}\n",
        "df_test = pd.DataFrame(d_test)"
      ]
    },
    {
      "cell_type": "code",
      "execution_count": null,
      "metadata": {
        "id": "WYLFJBaSOSBY"
      },
      "outputs": [],
      "source": [
        "test_data = list(zip(sum(sentences_test, []), topics_test,\\\n",
        "                     sum(articles_tags_test, [])))\n",
        "\n",
        "# sentence, topic, label"
      ]
    },
    {
      "cell_type": "code",
      "execution_count": null,
      "metadata": {
        "id": "mmcHEbwuOSN6"
      },
      "outputs": [],
      "source": [
        "def flatten(L):\n",
        "    for item in L:\n",
        "        try:\n",
        "            yield from flatten(item)\n",
        "        except TypeError:\n",
        "            yield item"
      ]
    },
    {
      "cell_type": "code",
      "execution_count": null,
      "metadata": {
        "colab": {
          "base_uri": "https://localhost:8080/"
        },
        "id": "Di6XVr4gQBNT",
        "outputId": "5f686537-b7eb-47e6-d247-8bd97f1bd2fe"
      },
      "outputs": [
        {
          "output_type": "stream",
          "name": "stdout",
          "text": [
            "[nltk_data] Downloading package punkt to /root/nltk_data...\n",
            "[nltk_data]   Unzipping tokenizers/punkt.zip.\n"
          ]
        },
        {
          "output_type": "execute_result",
          "data": {
            "text/plain": [
              "True"
            ]
          },
          "metadata": {},
          "execution_count": 18
        }
      ],
      "source": [
        "import nltk\n",
        "nltk.download('punkt')"
      ]
    },
    {
      "cell_type": "code",
      "execution_count": null,
      "metadata": {
        "colab": {
          "base_uri": "https://localhost:8080/"
        },
        "id": "F9UkJMXu3xIL",
        "outputId": "4252c591-34be-4771-d815-c5bce413924b"
      },
      "outputs": [
        {
          "output_type": "execute_result",
          "data": {
            "text/plain": [
              "2566"
            ]
          },
          "metadata": {},
          "execution_count": 19
        }
      ],
      "source": [
        "#train set\n",
        "len(df_train[df_train.label==0])\n",
        "#len(df_train[df_train.label_train==1])"
      ]
    },
    {
      "cell_type": "code",
      "execution_count": null,
      "metadata": {
        "id": "M3pIfgiJin3n"
      },
      "outputs": [],
      "source": [
        "#test set \n",
        "#Separate majority and minority classes\n",
        "df_majority = df_test[df_test.label==0]#not evidence\n",
        "df_minority = df_test[df_test.label==1]#evidence"
      ]
    },
    {
      "cell_type": "code",
      "execution_count": null,
      "metadata": {
        "colab": {
          "base_uri": "https://localhost:8080/"
        },
        "id": "ipBUreyYioGt",
        "outputId": "c0ad1b79-62e1-443f-dedf-609da669b180"
      },
      "outputs": [
        {
          "output_type": "execute_result",
          "data": {
            "text/plain": [
              "17370"
            ]
          },
          "metadata": {},
          "execution_count": 21
        }
      ],
      "source": [
        "len(df_majority)"
      ]
    },
    {
      "cell_type": "code",
      "execution_count": null,
      "metadata": {
        "colab": {
          "base_uri": "https://localhost:8080/"
        },
        "id": "l9k_DviVionT",
        "outputId": "72757f77-04b1-4366-d947-2d38278eb4cf"
      },
      "outputs": [
        {
          "output_type": "execute_result",
          "data": {
            "text/plain": [
              "404"
            ]
          },
          "metadata": {},
          "execution_count": 22
        }
      ],
      "source": [
        "len(df_minority)"
      ]
    },
    {
      "cell_type": "code",
      "execution_count": null,
      "metadata": {
        "id": "_OMca16ZinmB"
      },
      "outputs": [],
      "source": [
        "from sklearn.utils import resample"
      ]
    },
    {
      "cell_type": "code",
      "source": [
        "len(df_majority_train)"
      ],
      "metadata": {
        "colab": {
          "base_uri": "https://localhost:8080/"
        },
        "id": "peXSDHhOTKpv",
        "outputId": "46c041d0-339f-448b-ea4b-324ea4fee6ef"
      },
      "execution_count": null,
      "outputs": [
        {
          "output_type": "execute_result",
          "data": {
            "text/plain": [
              "2566"
            ]
          },
          "metadata": {},
          "execution_count": 27
        }
      ]
    },
    {
      "cell_type": "code",
      "source": [
        "len(df_minority_train)"
      ],
      "metadata": {
        "colab": {
          "base_uri": "https://localhost:8080/"
        },
        "id": "nM1nLLr2TKdr",
        "outputId": "60763f6d-c8db-4ad8-e074-132a72fb7c2a"
      },
      "execution_count": null,
      "outputs": [
        {
          "output_type": "execute_result",
          "data": {
            "text/plain": [
              "1499"
            ]
          },
          "metadata": {},
          "execution_count": 28
        }
      ]
    },
    {
      "cell_type": "code",
      "execution_count": null,
      "metadata": {
        "id": "5xq_TxdGf55C"
      },
      "outputs": [],
      "source": [
        "#train\n",
        "df_majority_train = df_train[df_train.label==0]#not evidence\n",
        "df_minority_train = df_train[df_train.label==1]#evidence"
      ]
    },
    {
      "cell_type": "code",
      "execution_count": null,
      "metadata": {
        "id": "flYe-utRgSjo"
      },
      "outputs": [],
      "source": [
        "#train\n",
        "NUMBER_PER_CLASS = 10000\n",
        "# Upsample minority class\n",
        "df_minority_upsampled_train = resample(df_minority_train, \n",
        "                                 replace=True,     # sample with replacement\n",
        "                                 n_samples=NUMBER_PER_CLASS,    # to match majority class\n",
        "                                 random_state=123) # reproducible results\n",
        "\n",
        "df_majority_upsampled_train =  resample(df_majority_train, \n",
        "                                 replace=True,     # sample with replacement\n",
        "                                 n_samples=NUMBER_PER_CLASS,    # to match majority class\n",
        "                                 random_state=123) # reproducible results\n",
        "\n",
        "\n",
        "# Combine majority class with upsampled minority class\n",
        "df_upsampled_train = pd.concat([df_majority_upsampled_train, df_minority_upsampled_train])"
      ]
    },
    {
      "cell_type": "code",
      "execution_count": null,
      "metadata": {
        "id": "BpntmrrJi-l6"
      },
      "outputs": [],
      "source": [
        "#test\n",
        "NUMBER_PER_CLASS = 3500\n",
        "# Upsample minority class\n",
        "df_minority_upsampled = resample(df_minority, \n",
        "                                 replace=True,     # sample with replacement\n",
        "                                 n_samples=NUMBER_PER_CLASS,    # to match majority class\n",
        "                                 random_state=123) # reproducible results\n",
        "\n",
        "df_majority_downsampled = df_majority.sample(NUMBER_PER_CLASS)\n",
        "\n",
        "\n",
        "# Combine majority class with upsampled minority class\n",
        "df_upsampled = pd.concat([df_majority_downsampled, df_minority_upsampled])"
      ]
    },
    {
      "cell_type": "code",
      "execution_count": null,
      "metadata": {
        "id": "QvBLqKvSi-4Q"
      },
      "outputs": [],
      "source": [
        "#train, test = train_test_split(df_upsampled, test_size=0.2)\n",
        "train = df_upsampled_train\n",
        "test = df_upsampled"
      ]
    },
    {
      "cell_type": "code",
      "execution_count": null,
      "metadata": {
        "colab": {
          "base_uri": "https://localhost:8080/"
        },
        "id": "m94yrH7Dijfr",
        "outputId": "895e9662-3ed8-4546-802b-226c69c232fc"
      },
      "outputs": [
        {
          "output_type": "execute_result",
          "data": {
            "text/plain": [
              "(20000, 3)"
            ]
          },
          "metadata": {},
          "execution_count": 32
        }
      ],
      "source": [
        "train.shape"
      ]
    },
    {
      "cell_type": "code",
      "execution_count": null,
      "metadata": {
        "colab": {
          "base_uri": "https://localhost:8080/"
        },
        "id": "n8jk1w9YWwJn",
        "outputId": "6ac6767c-62a1-4ab8-ab34-9bed4d10b1ae"
      },
      "outputs": [
        {
          "data": {
            "text/plain": [
              "(5600, 104)"
            ]
          },
          "execution_count": 28,
          "metadata": {},
          "output_type": "execute_result"
        }
      ],
      "source": [
        "#train_X.shape"
      ]
    },
    {
      "cell_type": "markdown",
      "metadata": {
        "id": "1yvt5Km47jWh"
      },
      "source": [
        "## embedding"
      ]
    },
    {
      "cell_type": "code",
      "execution_count": null,
      "metadata": {
        "id": "gLxBO938OSEg"
      },
      "outputs": [],
      "source": [
        "def get_word2vec(sentences, location):\n",
        "    \"\"\"Returns trained word2vec\n",
        "    \n",
        "    Args:\n",
        "        sentences: iterator for sentences\n",
        "        \n",
        "        location (str): Path to save/load word2vec\n",
        "    \"\"\"\n",
        "    if os.path.exists(location):\n",
        "        print('Found {}'.format(location))\n",
        "        model = gensim.models.Word2Vec.load(location)\n",
        "        return model\n",
        "    \n",
        "    print('{} not found. training model'.format(location))\n",
        "    model = gensim.models.Word2Vec(sentences, size=100, window=5, min_count=5, workers=4)\n",
        "    print('Model done training. Saving to disk')\n",
        "    model.save(location)\n",
        "    return model\n",
        "\n",
        "class MeanEmbeddingVectorizer(object):\n",
        "    def __init__(self, word2vec):\n",
        "        self.word2vec = word2vec\n",
        "        # if a text is empty we should return a vector of zeros\n",
        "        # with the same dimensionality as all the other vectors\n",
        "        self.dim = len(word2vec.wv.syn0[0])\n",
        "\n",
        "    def fit(self, X, y=None):\n",
        "        return self\n",
        "\n",
        "    def transform(self, X):\n",
        "#         X = MyTokenizer().fit_transform(X)\n",
        "\n",
        "        X = X.split(' ')\n",
        "        emb = []\n",
        "        for word in X:\n",
        "            if word in self.word2vec.wv:\n",
        "                emb.append(self.word2vec.wv[word])\n",
        "            else:\n",
        "                emb.append(np.zeros(self.dim))\n",
        "        return np.mean(emb, axis = 0) #.reshape(1, 100)[0]\n",
        "        \n",
        "    \n",
        "    def fit_transform(self, X, y=None):\n",
        "        return self.transform(X)"
      ]
    },
    {
      "cell_type": "code",
      "execution_count": null,
      "metadata": {
        "colab": {
          "base_uri": "https://localhost:8080/"
        },
        "id": "KdB3PoAWOSHe",
        "outputId": "ab69bd72-e3b3-4393-d035-b883ff7d3a77"
      },
      "outputs": [
        {
          "output_type": "stream",
          "name": "stdout",
          "text": [
            "Found /content/drive/MyDrive/Yan/w2vmodel\n"
          ]
        }
      ],
      "source": [
        "x = []\n",
        "w2vec = get_word2vec(x, '/content/drive/MyDrive/Yan/w2vmodel')     #note, model is trained in 2_data_cleaning_word2vec script"
      ]
    },
    {
      "cell_type": "code",
      "execution_count": null,
      "metadata": {
        "id": "tn5dGMngOSKX"
      },
      "outputs": [],
      "source": [
        "mean_embedding_vectorizer = MeanEmbeddingVectorizer(w2vec)"
      ]
    },
    {
      "cell_type": "code",
      "execution_count": null,
      "metadata": {
        "id": "ac0Kc3w2inUz"
      },
      "outputs": [],
      "source": [
        "def prepare_data(tmp, mean_embedding_vectorizer = mean_embedding_vectorizer):\n",
        "    tmp['embed_sent'] = tmp['sentences'].apply(lambda x: mean_embedding_vectorizer.transform(x))\n",
        "    tmp['embed_t']= tmp['topic'].apply(lambda x: mean_embedding_vectorizer.transform(x))\n",
        "    tmp['similarity'] = tmp.apply(lambda x: cosine_similarity(x['embed_t'].reshape(1, -1),\\\n",
        "                                                              x['embed_sent'].reshape(1, -1))[0][0],1)\n",
        "    \n",
        "    tmp_y = list(tmp['label'])\n",
        "    y = np.zeros((len(tmp_y), 2))\n",
        "    for i, a in enumerate(tmp_y):\n",
        "        y[i][a] = 1\n",
        "    \n",
        "    \n",
        "    col = ['embed_sent', 'similarity']\n",
        "    X = tmp[col].apply(lambda x: list(flatten(x)),1)\n",
        "    X = np.array(list(X))\n",
        "    \n",
        "    return (X, y)"
      ]
    },
    {
      "cell_type": "code",
      "execution_count": null,
      "metadata": {
        "id": "MZBFJzUoi_Py"
      },
      "outputs": [],
      "source": [
        "train_X, train_y = prepare_data(train)\n",
        "test_X, test_y = prepare_data(test)"
      ]
    },
    {
      "cell_type": "markdown",
      "metadata": {
        "id": "9qzA89OfVvSv"
      },
      "source": [
        "## Model"
      ]
    },
    {
      "cell_type": "code",
      "execution_count": null,
      "metadata": {
        "id": "h55VvNmh0KcQ"
      },
      "outputs": [],
      "source": [
        "from keras import backend as K\n",
        "\n",
        "def recall_m(y_true, y_pred):\n",
        "    true_positives = K.sum(K.round(K.clip(y_true * y_pred, 0, 1)))\n",
        "    possible_positives = K.sum(K.round(K.clip(y_true, 0, 1)))\n",
        "    recall = true_positives / (possible_positives + K.epsilon())\n",
        "    return recall\n",
        "\n",
        "def precision_m(y_true, y_pred):\n",
        "    true_positives = K.sum(K.round(K.clip(y_true * y_pred, 0, 1)))\n",
        "    predicted_positives = K.sum(K.round(K.clip(y_pred, 0, 1)))\n",
        "    precision = true_positives / (predicted_positives + K.epsilon())\n",
        "    return precision\n",
        "\n",
        "def f1_m(y_true, y_pred):\n",
        "    precision = precision_m(y_true, y_pred)\n",
        "    recall = recall_m(y_true, y_pred)\n",
        "    return 2*((precision*recall)/(precision+recall+K.epsilon()))\n",
        "\n",
        "# compile the model\n",
        "#best_model.compile(optimizer='adam', loss='binary_crossentropy', metrics=['acc',f1_m,precision_m, recall_m])\n",
        "\n",
        "# fit the model\n",
        "#history = best_model.fit(train_X, train_y, validation_split=0.3, epochs=10, verbose=0)\n",
        "\n",
        "# evaluate the model\n",
        "#loss,accuracy, f1_score, precision, recall = best_model.evaluate(test_X, test_y, verbose=0)\n",
        "\n"
      ]
    },
    {
      "cell_type": "code",
      "execution_count": null,
      "metadata": {
        "id": "OLfHAWFRXrZJ"
      },
      "outputs": [],
      "source": [
        "def model_evaluation_plt(model, test_X, test):\n",
        "    res = model.predict(test_X)\n",
        "    y_pred = res.argmax(1)\n",
        "    y_true = list(test['label'])\n",
        "    skplt.metrics.plot_confusion_matrix(y_true, y_pred)\n",
        "    #f1 = f1_m(y_true, y_pred)\n",
        "    #print(f1)\n",
        "    tensor_true, tensor_pred = K.variable(y_true), K.variable(y_pred)\n",
        "    f1 = K.get_value(f1_m(tensor_true, tensor_pred))\n",
        "    precision = K.get_value(precision_m(tensor_true, tensor_pred))\n",
        "    recall = K.get_value(recall_m (tensor_true, tensor_pred))\n",
        "    accuracy= model.evaluate(test_X, test_y, verbose=0)\n",
        "    print('f1 score:',f1)\n",
        "    print('precision :',precision)\n",
        "    print('recall:',recall)\n",
        "    print('accuracy:',accuracy[1])"
      ]
    },
    {
      "cell_type": "markdown",
      "metadata": {
        "id": "2gHvlzwF8CzW"
      },
      "source": [
        "### model_1_Feedforward neural network"
      ]
    },
    {
      "cell_type": "code",
      "execution_count": null,
      "metadata": {
        "id": "T7VQqgxujAo1"
      },
      "outputs": [],
      "source": [
        "def wrapper(name = 'm', w = 1, n_hidden = 1, layer_width = 128, activ_func = 'tanh', input_dim = 101):\n",
        "    \n",
        "    path =  name\n",
        "    callbacks = [\n",
        "    EarlyStopping(monitor='val_acc', patience=0, min_delta=0.01, verbose=100, mode='auto'),\n",
        "    ModelCheckpoint(filepath = path, monitor='val_acc', verbose=0, \\\n",
        "                                    save_best_only= True, save_weights_only=False, mode='max', period=1),]\n",
        "    \n",
        "    model = Sequential() \n",
        "    \n",
        "    if activ_func == 'identity':\n",
        "        activ_func = None\n",
        "    \n",
        "    # set number of hidden layer\n",
        "    for i in range(n_hidden):\n",
        "        model.add(Dense(units= layer_width, activation= activ_func, input_dim= input_dim)) \n",
        "    \n",
        "    # make sure input_dim is initiated if there's no hidden layer\n",
        "    if n_hidden == 0:\n",
        "        input_dim = input_dim\n",
        "    else:\n",
        "        input_dim = layer_width\n",
        "        \n",
        "    model.add(Dense(2, activation='softmax', input_dim = input_dim)) \n",
        "    model.compile(loss='categorical_crossentropy', optimizer='sgd', metrics=['accuracy'])\n",
        "    history = model.fit(train_X, train_y, batch_size=32, epochs=50, verbose=0,\\\n",
        "        callbacks=callbacks) \n",
        "\n",
        "    score = model.evaluate(test_X, test_y, verbose= 0)\n",
        "    print('Accuracy on test:', score[1])\n",
        "#     model_evaluation(model, test_X, test)\n",
        "    return (model,score[1])\n"
      ]
    },
    {
      "cell_type": "code",
      "execution_count": null,
      "metadata": {
        "id": "bVgLhIoKUKvN"
      },
      "outputs": [],
      "source": [
        "name = 'nn_default.h5'\n",
        "m = wrapper(name)\n",
        "# model = load_model('my_model.h5')\n"
      ]
    },
    {
      "cell_type": "code",
      "execution_count": null,
      "metadata": {
        "colab": {
          "background_save": true
        },
        "id": "b0WV75TUUPWo"
      },
      "outputs": [],
      "source": [
        "model_list = []\n",
        "acc_list = []\n",
        "for n_hidden in range(1,4):\n",
        "    for i in [256,512, 1024]:\n",
        "        for f in ['identity', 'tanh', 'relu', 'sigmoid']:\n",
        "            print('Number of hidden layers:', n_hidden)\n",
        "            print('Layer width:', i)\n",
        "            print('Activation function:', f)\n",
        "            \n",
        "            m, s = wrapper(n_hidden = n_hidden, layer_width = i, activ_func = f)\n",
        "            model_list.append(m)\n",
        "            acc_list.append(s)\n",
        "            print('-'*28)\n"
      ]
    },
    {
      "cell_type": "code",
      "execution_count": null,
      "metadata": {
        "id": "-iAPQv63ZXL7"
      },
      "outputs": [],
      "source": [
        "best_finalE = model_list[acc_list.index(max(acc_list))]# "
      ]
    },
    {
      "cell_type": "code",
      "execution_count": null,
      "metadata": {
        "id": "sLu_QTgLfRoN"
      },
      "outputs": [],
      "source": [
        "model = best_finalE\n",
        "\n",
        "model.summary()\n",
        "print(\"##Number of layers\", len(model.layers))# Number of layers = n_hidden + 1(output layer)\n",
        "for layer in model.layers:\n",
        "    for weight in layer.weights:\n",
        "        print(weight.name, weight.shape)"
      ]
    },
    {
      "cell_type": "code",
      "execution_count": null,
      "metadata": {
        "id": "JWdZ7F4nUSVi",
        "colab": {
          "base_uri": "https://localhost:8080/",
          "height": 364
        },
        "outputId": "a1eb717c-445a-4327-9389-4019efa3861e"
      },
      "outputs": [
        {
          "output_type": "stream",
          "name": "stdout",
          "text": [
            "f1 score: 0.55561006\n",
            "precision : 0.65105563\n",
            "recall: 0.48457143\n",
            "accuracy: 0.6124285459518433\n"
          ]
        },
        {
          "output_type": "display_data",
          "data": {
            "image/png": "[encoded data removed]",
            "text/plain": [
              "<Figure size 432x288 with 2 Axes>"
            ]
          },
          "metadata": {
            "needs_background": "light"
          }
        }
      ],
      "source": [
        "#best_score = best_model.evaluate(test_X, test_y, verbose= 0)\n",
        "#print(len(best_score))\n",
        "#print('Accuracy on test:', best_score[2])\n",
        "\n",
        "#model_evaluation_plt(best_finalE, test_X, test)\n",
        "model_evaluation_plt(modelE_1, test_X, test)"
      ]
    },
    {
      "cell_type": "code",
      "execution_count": null,
      "metadata": {
        "id": "mEY4o1ftUXMc",
        "colab": {
          "base_uri": "https://localhost:8080/"
        },
        "outputId": "835e98ee-0bcf-48cc-e56d-60937c1de2b5"
      },
      "outputs": [
        {
          "output_type": "stream",
          "name": "stdout",
          "text": [
            "INFO:tensorflow:Assets written to: /content/drive/MyDrive/Yan/saved_model/best_finalE/assets\n"
          ]
        }
      ],
      "source": [
        "!mkdir -p saved_model\n",
        "best_finalE.save('/content/drive/MyDrive/Yan/saved_model/best_finalE')"
      ]
    },
    {
      "cell_type": "code",
      "execution_count": null,
      "metadata": {
        "id": "ZBr9a7INA8IY"
      },
      "outputs": [],
      "source": [
        "modelE_1 = tf.keras.models.load_model('/content/drive/MyDrive/Yan/saved_model/best_finalE')\n",
        "predicts=modelE_1.predict(test_X)\n",
        "predictions=predicts.argmax(1)"
      ]
    },
    {
      "cell_type": "code",
      "execution_count": null,
      "metadata": {
        "colab": {
          "base_uri": "https://localhost:8080/"
        },
        "id": "7UH3RfYHKYMQ",
        "outputId": "6e5f06da-17ef-4287-917c-1bbae0f71bd8"
      },
      "outputs": [
        {
          "output_type": "stream",
          "name": "stdout",
          "text": [
            "Model: \"sequential_26\"\n",
            "_________________________________________________________________\n",
            " Layer (type)                Output Shape              Param #   \n",
            "=================================================================\n",
            " dense_66 (Dense)            (None, 256)               26112     \n",
            "                                                                 \n",
            " dense_67 (Dense)            (None, 256)               65792     \n",
            "                                                                 \n",
            " dense_68 (Dense)            (None, 256)               65792     \n",
            "                                                                 \n",
            " dense_69 (Dense)            (None, 2)                 514       \n",
            "                                                                 \n",
            "=================================================================\n",
            "Total params: 158,210\n",
            "Trainable params: 158,210\n",
            "Non-trainable params: 0\n",
            "_________________________________________________________________\n",
            "##Number of layers 4\n",
            "dense_66/kernel:0 (101, 256)\n",
            "dense_66/bias:0 (256,)\n",
            "dense_67/kernel:0 (256, 256)\n",
            "dense_67/bias:0 (256,)\n",
            "dense_68/kernel:0 (256, 256)\n",
            "dense_68/bias:0 (256,)\n",
            "dense_69/kernel:0 (256, 2)\n",
            "dense_69/bias:0 (2,)\n"
          ]
        }
      ],
      "source": [
        "model = modelE_1\n",
        "model.summary()\n",
        "print(\"##Number of layers\", len(model.layers))# Number of layers = n_hidden + 1(output layer)\n",
        "for layer in model.layers:\n",
        "    for weight in layer.weights:\n",
        "        print(weight.name, weight.shape)"
      ]
    },
    {
      "cell_type": "code",
      "execution_count": null,
      "metadata": {
        "id": "-N1YIRPRTnMl"
      },
      "outputs": [],
      "source": [
        "predicted_result_e = {}\n",
        "predicted_result_e['result'] = []\n",
        "# predict_eval = clf1.predict(x_test).tolist()\n",
        "\n",
        "for evidence, predicted_label in zip(test['sentences'], predictions):\n",
        "    if predicted_label == 1:\n",
        "        predicted_result_e['result'].append({\n",
        "            \"predicted_evidences\": evidence,\n",
        "            \"predicted_label\": predicted_label\n",
        "        })"
      ]
    },
    {
      "cell_type": "code",
      "execution_count": null,
      "metadata": {
        "id": "i9qcAIwD3dnx"
      },
      "outputs": [],
      "source": [
        "!pip install xlsxwriter"
      ]
    },
    {
      "cell_type": "code",
      "execution_count": null,
      "metadata": {
        "id": "7Dz8j_873iNi"
      },
      "outputs": [],
      "source": [
        "data = predicted_result_e['result']\n",
        "df = pd.DataFrame(data)\n",
        "writer = pd.ExcelWriter('/content/drive/MyDrive/Yan/predicted_result_e.xlsx', engine='xlsxwriter')\n",
        "df.to_excel(writer, index = False )\n",
        "writer.save()"
      ]
    },
    {
      "cell_type": "code",
      "execution_count": null,
      "metadata": {
        "id": "1T7egm5Fd8z9"
      },
      "outputs": [],
      "source": [
        "#Only predict true\n",
        "predicted_true_e = {}\n",
        "predicted_true_e['true_result'] = []\n",
        "y_true = list(test['label'])\n",
        "for evidence, predicted_label, truth in zip(test['sentences'], predictions, y_true):\n",
        "    if predicted_label == 1 and truth == 1:\n",
        "        predicted_true_e['true_result'].append({\n",
        "            \"predicted_evidences\": evidence,\n",
        "            \"predicted_label\": predicted_label,\n",
        "            \"truth\" : truth\n",
        "        })"
      ]
    },
    {
      "cell_type": "code",
      "execution_count": null,
      "metadata": {
        "id": "0BRlgxhuMNXh"
      },
      "outputs": [],
      "source": [
        "data = predicted_true_e['true_result']# \n",
        "df = pd.DataFrame(data)\n",
        "writer = pd.ExcelWriter('/content/drive/MyDrive/Yan/predicted_e.xlsx', engine='xlsxwriter')\n",
        "df.to_excel(writer, index = False )\n",
        "writer.save()"
      ]
    },
    {
      "cell_type": "code",
      "execution_count": null,
      "metadata": {
        "colab": {
          "base_uri": "https://localhost:8080/"
        },
        "id": "dQA1-gJCHoIG",
        "outputId": "4fce31fc-788c-42e7-bdfa-4c907629d32b"
      },
      "outputs": [
        {
          "output_type": "execute_result",
          "data": {
            "text/plain": [
              "1759"
            ]
          },
          "metadata": {},
          "execution_count": 58
        }
      ],
      "source": [
        "len(predicted_true_e['true_result'] )"
      ]
    },
    {
      "cell_type": "code",
      "source": [
        "#predict != truth"
      ],
      "metadata": {
        "id": "3lHBAoye-FkE"
      },
      "execution_count": null,
      "outputs": []
    },
    {
      "cell_type": "code",
      "source": [
        "predicted_miss_e = {}\n",
        "predicted_miss_e['miss_result'] = []\n",
        "y_true = list(test['label'])\n",
        "for evidence, predicted_label, truth in zip(test['sentences'], predictions, y_true):\n",
        "    if predicted_label != truth:\n",
        "        predicted_miss_e['miss_result'].append({\n",
        "            \"predicted_evidences\": evidence,\n",
        "            \"predicted_label\": predicted_label,\n",
        "            \"truth\" : truth\n",
        "        })"
      ],
      "metadata": {
        "id": "tSxh2wlZ-FWs"
      },
      "execution_count": null,
      "outputs": []
    },
    {
      "cell_type": "code",
      "source": [
        "data = predicted_miss_e['miss_result']# \n",
        "df = pd.DataFrame(data)\n",
        "writer = pd.ExcelWriter('/content/drive/MyDrive/Yan/predicted_miss_e.xlsx', engine='xlsxwriter')\n",
        "df.to_excel(writer, index = False )\n",
        "writer.save()"
      ],
      "metadata": {
        "id": "5Giqw-ZA-E_M"
      },
      "execution_count": null,
      "outputs": []
    },
    {
      "cell_type": "code",
      "source": [
        "len(predicted_miss_e['miss_result'])"
      ],
      "metadata": {
        "colab": {
          "base_uri": "https://localhost:8080/"
        },
        "id": "o7vKLCfD-7Cy",
        "outputId": "ce4a7706-0a35-4ed6-bc81-b4c4f56b6ccd"
      },
      "execution_count": null,
      "outputs": [
        {
          "output_type": "execute_result",
          "data": {
            "text/plain": [
              "2713"
            ]
          },
          "metadata": {},
          "execution_count": 48
        }
      ]
    },
    {
      "cell_type": "markdown",
      "metadata": {
        "id": "u_TYfToy8JgM"
      },
      "source": [
        "### model_2_LSTM"
      ]
    },
    {
      "cell_type": "code",
      "execution_count": null,
      "metadata": {
        "id": "XUGOZN_hk456"
      },
      "outputs": [],
      "source": [
        "train_X_ = np.expand_dims(train_X, axis=1)\n",
        "test_X_ = np.expand_dims(test_X, axis=1)"
      ]
    },
    {
      "cell_type": "code",
      "execution_count": null,
      "metadata": {
        "id": "V1NVBL8Lk4uw"
      },
      "outputs": [],
      "source": [
        "def wrapper_lstm(name = 'm', w = 1, n_hidden = 2, layer_width = 512, activ_func = 'relu', input_dim = 101):\n",
        "    \n",
        "    path =  name\n",
        "    callbacks = [\n",
        "    EarlyStopping(monitor='val_acc', patience=0, min_delta=0.01, verbose=100, mode='auto'),\n",
        "    ModelCheckpoint(filepath = path, monitor='val_acc', verbose=0, \\\n",
        "                                    save_best_only= True, save_weights_only=False, mode='max', period=1),]\n",
        "    \n",
        "    model = Sequential() \n",
        "    \n",
        "    if activ_func == 'identity':\n",
        "        activ_func = None\n",
        "        \n",
        "    model.add(LSTM(layer_width, input_dim=input_dim))\n",
        "    # set number of hidden layer\n",
        "    for i in range(n_hidden):\n",
        "        model.add(Dense(units= layer_width, activation= activ_func, input_dim= input_dim)) \n",
        "        \n",
        "    # make sure input_dim is initiated if there's no hidden layer\n",
        "    if n_hidden == 0:\n",
        "        input_dim = input_dim\n",
        "    else:\n",
        "        input_dim = layer_width\n",
        "        \n",
        "    model.add(Dense(2, activation='softmax', input_dim = input_dim)) \n",
        "    model.compile(loss='categorical_crossentropy', optimizer='sgd', metrics=['accuracy'])\n",
        "    history = model.fit(train_X_, train_y, batch_size=32, epochs=50, verbose=0,\\\n",
        "        callbacks=callbacks) \n",
        "\n",
        "    score = model.evaluate(test_X_, test_y, verbose= 0)\n",
        "    print('Accuracy on test:', score[1])\n",
        "#     model_evaluation(model, test_X, test)\n",
        "    return (model,score[1])"
      ]
    },
    {
      "cell_type": "code",
      "execution_count": null,
      "metadata": {
        "id": "62Y5tHeHk4e0"
      },
      "outputs": [],
      "source": [
        "model_list_lstm = []\n",
        "acc_list_lstm = []\n",
        "for n_hidden in range(1,3):\n",
        "    for i in [128,256,512]:\n",
        "        for f in ['identity', 'tanh', 'relu', 'sigmoid']:\n",
        "            print('Number of hidden layers:', n_hidden)\n",
        "            print('Layer width:', i)\n",
        "            print('Activation function:', f)\n",
        "            \n",
        "            m, s = wrapper_lstm(n_hidden = n_hidden, layer_width = i, activ_func = f)\n",
        "            model_list_lstm.append(m)\n",
        "            acc_list_lstm.append(s)\n",
        "            print('-'*28)"
      ]
    },
    {
      "cell_type": "code",
      "execution_count": null,
      "metadata": {
        "id": "cmvQ8_seaN-1"
      },
      "outputs": [],
      "source": [
        "#best model\n",
        "lstm_best_finalE= model_list_lstm[acc_list_lstm.index(max(acc_list_lstm))]##hidden layers:2, width 512, relu"
      ]
    },
    {
      "cell_type": "code",
      "execution_count": null,
      "metadata": {
        "id": "vuQUb5IzetYA"
      },
      "outputs": [],
      "source": [
        "#0.6971428394317627 identity\n",
        "#0.6885714530944824 tanh\n",
        "#"
      ]
    },
    {
      "cell_type": "code",
      "execution_count": null,
      "metadata": {
        "id": "mqewiO3NcEwI"
      },
      "outputs": [],
      "source": [
        "model = lstm_best_finalE\n",
        "model.summary()\n",
        "print(\"##Number of layers\", len(model.layers)) # Number of layers = n_hidden + 2(output layer + LSTM)\n",
        "for layer in model.layers:\n",
        "    for weight in layer.weights:\n",
        "        print(weight.name, weight.shape)\n"
      ]
    },
    {
      "cell_type": "code",
      "source": [
        "model = modelE_LSTM_1\n",
        "model.summary()\n",
        "print(\"##Number of layers\", len(model.layers)) # Number of layers = n_hidden + 2(output layer + LSTM)\n",
        "for layer in model.layers:\n",
        "    for weight in layer.weights:\n",
        "        print(weight.name, weight.shape)"
      ],
      "metadata": {
        "id": "8c4GVjN6_-dv"
      },
      "execution_count": null,
      "outputs": []
    },
    {
      "cell_type": "code",
      "execution_count": null,
      "metadata": {
        "id": "rEwlkYd2CSwA"
      },
      "outputs": [],
      "source": [
        "# evaluate the model\n",
        "lstm_best_score = lstm_best_finalE.evaluate(test_X_, test_y, verbose= 0)\n"
      ]
    },
    {
      "cell_type": "code",
      "execution_count": null,
      "metadata": {
        "colab": {
          "base_uri": "https://localhost:8080/",
          "height": 364
        },
        "id": "4AlEhjGelFEH",
        "outputId": "141e8eee-4eb6-43f7-aa9c-aa5e98a1960a"
      },
      "outputs": [
        {
          "output_type": "stream",
          "name": "stdout",
          "text": [
            "f1 score: 0.56136745\n",
            "precision : 0.6987234\n",
            "recall: 0.46914285\n",
            "accuracy: 0.6334285736083984\n"
          ]
        },
        {
          "output_type": "display_data",
          "data": {
            "image/png": "[encoded data removed]",
            "text/plain": [
              "<Figure size 432x288 with 2 Axes>"
            ]
          },
          "metadata": {
            "needs_background": "light"
          }
        }
      ],
      "source": [
        "#print('Accuracy on test:', lstm_score[1])\n",
        "model_evaluation_plt(modelE_LSTM_1, test_X_, test)"
      ]
    },
    {
      "cell_type": "code",
      "execution_count": null,
      "metadata": {
        "id": "5b_EjFOWfK-F"
      },
      "outputs": [],
      "source": [
        "#predicts=lstm_best_model_final.predict(test_X)\n",
        "res = lstm_best_finalE.predict(test_X_)"
      ]
    },
    {
      "cell_type": "code",
      "execution_count": null,
      "metadata": {
        "colab": {
          "base_uri": "https://localhost:8080/"
        },
        "id": "KEKyETzJlO4A",
        "outputId": "31f1d0eb-4523-4813-a7fb-d8b81f601857"
      },
      "outputs": [
        {
          "output_type": "stream",
          "name": "stderr",
          "text": [
            "WARNING:absl:Found untraced functions such as lstm_cell_15_layer_call_fn, lstm_cell_15_layer_call_and_return_conditional_losses, lstm_cell_15_layer_call_fn, lstm_cell_15_layer_call_and_return_conditional_losses, lstm_cell_15_layer_call_and_return_conditional_losses while saving (showing 5 of 5). These functions will not be directly callable after loading.\n"
          ]
        },
        {
          "output_type": "stream",
          "name": "stdout",
          "text": [
            "INFO:tensorflow:Assets written to: /content/drive/MyDrive/Yan/saved_model/lstm_best_finalE/assets\n"
          ]
        },
        {
          "output_type": "stream",
          "name": "stderr",
          "text": [
            "INFO:tensorflow:Assets written to: /content/drive/MyDrive/Yan/saved_model/lstm_best_finalE/assets\n",
            "WARNING:absl:<keras.layers.recurrent.LSTMCell object at 0x7f520955b690> has the same name 'LSTMCell' as a built-in Keras object. Consider renaming <class 'keras.layers.recurrent.LSTMCell'> to avoid naming conflicts when loading with `tf.keras.models.load_model`. If renaming is not possible, pass the object in the `custom_objects` parameter of the load function.\n"
          ]
        }
      ],
      "source": [
        "lstm_best_finalE.save('/content/drive/MyDrive/Yan/saved_model/lstm_best_finalE')"
      ]
    },
    {
      "cell_type": "code",
      "execution_count": null,
      "metadata": {
        "id": "cJfZflTe3-gV"
      },
      "outputs": [],
      "source": [
        "modelE_LSTM_1 = tf.keras.models.load_model('/content/drive/MyDrive/Yan/saved_model/lstm_best_finalE')\n",
        "\n",
        "#predictions=predicts.argmax(1)"
      ]
    },
    {
      "cell_type": "code",
      "execution_count": null,
      "metadata": {
        "id": "RmI-ffoSeEXu"
      },
      "outputs": [],
      "source": [
        ""
      ]
    },
    {
      "cell_type": "markdown",
      "metadata": {
        "id": "ZT4y-SCDQcab"
      },
      "source": [
        "# data_cleaning_word2vec"
      ]
    },
    {
      "cell_type": "code",
      "execution_count": null,
      "metadata": {
        "id": "1Rv3MTh9f-et"
      },
      "outputs": [],
      "source": [
        "import nltk, os, gensim\n",
        "import numpy as np\n",
        "import pandas as pd"
      ]
    },
    {
      "cell_type": "code",
      "execution_count": null,
      "metadata": {
        "colab": {
          "base_uri": "https://localhost:8080/"
        },
        "id": "x4QLuleQf-y2",
        "outputId": "5f6c0951-161c-4ae3-a324-2bce6ed00fe3"
      },
      "outputs": [
        {
          "name": "stdout",
          "output_type": "stream",
          "text": [
            "[nltk_data] Downloading package punkt to /root/nltk_data...\n",
            "[nltk_data]   Unzipping tokenizers/punkt.zip.\n"
          ]
        },
        {
          "data": {
            "text/plain": [
              "True"
            ]
          },
          "execution_count": 2,
          "metadata": {},
          "output_type": "execute_result"
        }
      ],
      "source": [
        "nltk.download('punkt')"
      ]
    },
    {
      "cell_type": "code",
      "execution_count": null,
      "metadata": {
        "colab": {
          "base_uri": "https://localhost:8080/",
          "height": 269
        },
        "id": "maiLQBNsK-qT",
        "outputId": "28fdc6e9-4651-4214-dca8-1c1218823367"
      },
      "outputs": [
        {
          "data": {
            "text/html": [
              "\n",
              "  <div id=\"df-a32424e7-a2f4-4ed0-ac65-26523d5e6726\">\n",
              "    <div class=\"colab-df-container\">\n",
              "      <div>\n",
              "<style scoped>\n",
              "    .dataframe tbody tr th:only-of-type {\n",
              "        vertical-align: middle;\n",
              "    }\n",
              "\n",
              "    .dataframe tbody tr th {\n",
              "        vertical-align: top;\n",
              "    }\n",
              "\n",
              "    .dataframe thead th {\n",
              "        text-align: right;\n",
              "    }\n",
              "</style>\n",
              "<table border=\"1\" class=\"dataframe\">\n",
              "  <thead>\n",
              "    <tr style=\"text-align: right;\">\n",
              "      <th></th>\n",
              "      <th>0</th>\n",
              "    </tr>\n",
              "  </thead>\n",
              "  <tbody>\n",
              "    <tr>\n",
              "      <th>topic</th>\n",
              "      <td>We should limit the Internet of things</td>\n",
              "    </tr>\n",
              "    <tr>\n",
              "      <th>the concept of the topic</th>\n",
              "      <td>the Internet of things</td>\n",
              "    </tr>\n",
              "    <tr>\n",
              "      <th>candidate</th>\n",
              "      <td>In an ambient intelligence world, devices work...</td>\n",
              "    </tr>\n",
              "    <tr>\n",
              "      <th>candidate masked</th>\n",
              "      <td>In an ambient intelligence world, devices work...</td>\n",
              "    </tr>\n",
              "    <tr>\n",
              "      <th>label</th>\n",
              "      <td>0</td>\n",
              "    </tr>\n",
              "    <tr>\n",
              "      <th>wikipedia article name</th>\n",
              "      <td>Ambient intelligence</td>\n",
              "    </tr>\n",
              "    <tr>\n",
              "      <th>wikipedia url</th>\n",
              "      <td>https://en.wikipedia.org/wiki/Ambient_intellig...</td>\n",
              "    </tr>\n",
              "  </tbody>\n",
              "</table>\n",
              "</div>\n",
              "      <button class=\"colab-df-convert\" onclick=\"convertToInteractive('df-a32424e7-a2f4-4ed0-ac65-26523d5e6726')\"\n",
              "              title=\"Convert this dataframe to an interactive table.\"\n",
              "              style=\"display:none;\">\n",
              "        \n",
              "  <svg xmlns=\"http://www.w3.org/2000/svg\" height=\"24px\"viewBox=\"0 0 24 24\"\n",
              "       width=\"24px\">\n",
              "    <path d=\"M0 0h24v24H0V0z\" fill=\"none\"/>\n",
              "    <path d=\"M18.56 5.44l.94 2.06.94-2.06 2.06-.94-2.06-.94-.94-2.06-.94 2.06-2.06.94zm-11 1L8.5 8.5l.94-2.06 2.06-.94-2.06-.94L8.5 2.5l-.94 2.06-2.06.94zm10 10l.94 2.06.94-2.06 2.06-.94-2.06-.94-.94-2.06-.94 2.06-2.06.94z\"/><path d=\"M17.41 7.96l-1.37-1.37c-.4-.4-.92-.59-1.43-.59-.52 0-1.04.2-1.43.59L10.3 9.45l-7.72 7.72c-.78.78-.78 2.05 0 2.83L4 21.41c.39.39.9.59 1.41.59.51 0 1.02-.2 1.41-.59l7.78-7.78 2.81-2.81c.8-.78.8-2.07 0-2.86zM5.41 20L4 18.59l7.72-7.72 1.47 1.35L5.41 20z\"/>\n",
              "  </svg>\n",
              "      </button>\n",
              "      \n",
              "  <style>\n",
              "    .colab-df-container {\n",
              "      display:flex;\n",
              "      flex-wrap:wrap;\n",
              "      gap: 12px;\n",
              "    }\n",
              "\n",
              "    .colab-df-convert {\n",
              "      background-color: #E8F0FE;\n",
              "      border: none;\n",
              "      border-radius: 50%;\n",
              "      cursor: pointer;\n",
              "      display: none;\n",
              "      fill: #1967D2;\n",
              "      height: 32px;\n",
              "      padding: 0 0 0 0;\n",
              "      width: 32px;\n",
              "    }\n",
              "\n",
              "    .colab-df-convert:hover {\n",
              "      background-color: #E2EBFA;\n",
              "      box-shadow: 0px 1px 2px rgba(60, 64, 67, 0.3), 0px 1px 3px 1px rgba(60, 64, 67, 0.15);\n",
              "      fill: #174EA6;\n",
              "    }\n",
              "\n",
              "    [theme=dark] .colab-df-convert {\n",
              "      background-color: #3B4455;\n",
              "      fill: #D2E3FC;\n",
              "    }\n",
              "\n",
              "    [theme=dark] .colab-df-convert:hover {\n",
              "      background-color: #434B5C;\n",
              "      box-shadow: 0px 1px 3px 1px rgba(0, 0, 0, 0.15);\n",
              "      filter: drop-shadow(0px 1px 2px rgba(0, 0, 0, 0.3));\n",
              "      fill: #FFFFFF;\n",
              "    }\n",
              "  </style>\n",
              "\n",
              "      <script>\n",
              "        const buttonEl =\n",
              "          document.querySelector('#df-a32424e7-a2f4-4ed0-ac65-26523d5e6726 button.colab-df-convert');\n",
              "        buttonEl.style.display =\n",
              "          google.colab.kernel.accessAllowed ? 'block' : 'none';\n",
              "\n",
              "        async function convertToInteractive(key) {\n",
              "          const element = document.querySelector('#df-a32424e7-a2f4-4ed0-ac65-26523d5e6726');\n",
              "          const dataTable =\n",
              "            await google.colab.kernel.invokeFunction('convertToInteractive',\n",
              "                                                     [key], {});\n",
              "          if (!dataTable) return;\n",
              "\n",
              "          const docLinkHtml = 'Like what you see? Visit the ' +\n",
              "            '<a target=\"_blank\" href=https://colab.research.google.com/notebooks/data_table.ipynb>data table notebook</a>'\n",
              "            + ' to learn more about interactive tables.';\n",
              "          element.innerHTML = '';\n",
              "          dataTable['output_type'] = 'display_data';\n",
              "          await google.colab.output.renderOutput(dataTable, element);\n",
              "          const docLink = document.createElement('div');\n",
              "          docLink.innerHTML = docLinkHtml;\n",
              "          element.appendChild(docLink);\n",
              "        }\n",
              "      </script>\n",
              "    </div>\n",
              "  </div>\n",
              "  "
            ],
            "text/plain": [
              "                                                                          0\n",
              "topic                                We should limit the Internet of things\n",
              "the concept of the topic                             the Internet of things\n",
              "candidate                 In an ambient intelligence world, devices work...\n",
              "candidate masked          In an ambient intelligence world, devices work...\n",
              "label                                                                     0\n",
              "wikipedia article name                                 Ambient intelligence\n",
              "wikipedia url             https://en.wikipedia.org/wiki/Ambient_intellig..."
            ]
          },
          "execution_count": 4,
          "metadata": {},
          "output_type": "execute_result"
        }
      ],
      "source": [
        "evidence_trainDF = pd.read_csv(\"/content/drive/MyDrive/Yan/IBMDebaterEvidenceSentences 3/test.csv\")\n",
        "evidence_trainDF[:1].T"
      ]
    },
    {
      "cell_type": "code",
      "execution_count": null,
      "metadata": {
        "id": "TQWm8DKeMkRZ"
      },
      "outputs": [],
      "source": [
        "train_text = evidence_trainDF[['topic' , 'candidate' ,'label' ]]"
      ]
    },
    {
      "cell_type": "code",
      "execution_count": null,
      "metadata": {
        "colab": {
          "base_uri": "https://localhost:8080/",
          "height": 269
        },
        "id": "xlzu9-XQf_Id",
        "outputId": "883f3dcf-c385-4af9-c15e-84ca781cfdf1"
      },
      "outputs": [
        {
          "data": {
            "text/html": [
              "\n",
              "  <div id=\"df-2ac148fc-658b-420a-9bf3-ee2706457404\">\n",
              "    <div class=\"colab-df-container\">\n",
              "      <div>\n",
              "<style scoped>\n",
              "    .dataframe tbody tr th:only-of-type {\n",
              "        vertical-align: middle;\n",
              "    }\n",
              "\n",
              "    .dataframe tbody tr th {\n",
              "        vertical-align: top;\n",
              "    }\n",
              "\n",
              "    .dataframe thead th {\n",
              "        text-align: right;\n",
              "    }\n",
              "</style>\n",
              "<table border=\"1\" class=\"dataframe\">\n",
              "  <thead>\n",
              "    <tr style=\"text-align: right;\">\n",
              "      <th></th>\n",
              "      <th>0</th>\n",
              "    </tr>\n",
              "  </thead>\n",
              "  <tbody>\n",
              "    <tr>\n",
              "      <th>Topic</th>\n",
              "      <td>the sale of violent video games to minors</td>\n",
              "    </tr>\n",
              "    <tr>\n",
              "      <th>Article</th>\n",
              "      <td>Video_game_controversies</td>\n",
              "    </tr>\n",
              "    <tr>\n",
              "      <th>Claim</th>\n",
              "      <td>exposure to violent video games causes at leas...</td>\n",
              "    </tr>\n",
              "    <tr>\n",
              "      <th>CDE</th>\n",
              "      <td>The most recent large scale meta-anlysis-- exa...</td>\n",
              "    </tr>\n",
              "    <tr>\n",
              "      <th>Type 1</th>\n",
              "      <td>STUDY</td>\n",
              "    </tr>\n",
              "    <tr>\n",
              "      <th>Type 2</th>\n",
              "      <td>NaN</td>\n",
              "    </tr>\n",
              "    <tr>\n",
              "      <th>Unnamed: 6</th>\n",
              "      <td>NaN</td>\n",
              "    </tr>\n",
              "  </tbody>\n",
              "</table>\n",
              "</div>\n",
              "      <button class=\"colab-df-convert\" onclick=\"convertToInteractive('df-2ac148fc-658b-420a-9bf3-ee2706457404')\"\n",
              "              title=\"Convert this dataframe to an interactive table.\"\n",
              "              style=\"display:none;\">\n",
              "        \n",
              "  <svg xmlns=\"http://www.w3.org/2000/svg\" height=\"24px\"viewBox=\"0 0 24 24\"\n",
              "       width=\"24px\">\n",
              "    <path d=\"M0 0h24v24H0V0z\" fill=\"none\"/>\n",
              "    <path d=\"M18.56 5.44l.94 2.06.94-2.06 2.06-.94-2.06-.94-.94-2.06-.94 2.06-2.06.94zm-11 1L8.5 8.5l.94-2.06 2.06-.94-2.06-.94L8.5 2.5l-.94 2.06-2.06.94zm10 10l.94 2.06.94-2.06 2.06-.94-2.06-.94-.94-2.06-.94 2.06-2.06.94z\"/><path d=\"M17.41 7.96l-1.37-1.37c-.4-.4-.92-.59-1.43-.59-.52 0-1.04.2-1.43.59L10.3 9.45l-7.72 7.72c-.78.78-.78 2.05 0 2.83L4 21.41c.39.39.9.59 1.41.59.51 0 1.02-.2 1.41-.59l7.78-7.78 2.81-2.81c.8-.78.8-2.07 0-2.86zM5.41 20L4 18.59l7.72-7.72 1.47 1.35L5.41 20z\"/>\n",
              "  </svg>\n",
              "      </button>\n",
              "      \n",
              "  <style>\n",
              "    .colab-df-container {\n",
              "      display:flex;\n",
              "      flex-wrap:wrap;\n",
              "      gap: 12px;\n",
              "    }\n",
              "\n",
              "    .colab-df-convert {\n",
              "      background-color: #E8F0FE;\n",
              "      border: none;\n",
              "      border-radius: 50%;\n",
              "      cursor: pointer;\n",
              "      display: none;\n",
              "      fill: #1967D2;\n",
              "      height: 32px;\n",
              "      padding: 0 0 0 0;\n",
              "      width: 32px;\n",
              "    }\n",
              "\n",
              "    .colab-df-convert:hover {\n",
              "      background-color: #E2EBFA;\n",
              "      box-shadow: 0px 1px 2px rgba(60, 64, 67, 0.3), 0px 1px 3px 1px rgba(60, 64, 67, 0.15);\n",
              "      fill: #174EA6;\n",
              "    }\n",
              "\n",
              "    [theme=dark] .colab-df-convert {\n",
              "      background-color: #3B4455;\n",
              "      fill: #D2E3FC;\n",
              "    }\n",
              "\n",
              "    [theme=dark] .colab-df-convert:hover {\n",
              "      background-color: #434B5C;\n",
              "      box-shadow: 0px 1px 3px 1px rgba(0, 0, 0, 0.15);\n",
              "      filter: drop-shadow(0px 1px 2px rgba(0, 0, 0, 0.3));\n",
              "      fill: #FFFFFF;\n",
              "    }\n",
              "  </style>\n",
              "\n",
              "      <script>\n",
              "        const buttonEl =\n",
              "          document.querySelector('#df-2ac148fc-658b-420a-9bf3-ee2706457404 button.colab-df-convert');\n",
              "        buttonEl.style.display =\n",
              "          google.colab.kernel.accessAllowed ? 'block' : 'none';\n",
              "\n",
              "        async function convertToInteractive(key) {\n",
              "          const element = document.querySelector('#df-2ac148fc-658b-420a-9bf3-ee2706457404');\n",
              "          const dataTable =\n",
              "            await google.colab.kernel.invokeFunction('convertToInteractive',\n",
              "                                                     [key], {});\n",
              "          if (!dataTable) return;\n",
              "\n",
              "          const docLinkHtml = 'Like what you see? Visit the ' +\n",
              "            '<a target=\"_blank\" href=https://colab.research.google.com/notebooks/data_table.ipynb>data table notebook</a>'\n",
              "            + ' to learn more about interactive tables.';\n",
              "          element.innerHTML = '';\n",
              "          dataTable['output_type'] = 'display_data';\n",
              "          await google.colab.output.renderOutput(dataTable, element);\n",
              "          const docLink = document.createElement('div');\n",
              "          docLink.innerHTML = docLinkHtml;\n",
              "          element.appendChild(docLink);\n",
              "        }\n",
              "      </script>\n",
              "    </div>\n",
              "  </div>\n",
              "  "
            ],
            "text/plain": [
              "                                                            0\n",
              "Topic              the sale of violent video games to minors \n",
              "Article                              Video_game_controversies\n",
              "Claim       exposure to violent video games causes at leas...\n",
              "CDE         The most recent large scale meta-anlysis-- exa...\n",
              "Type 1                                                  STUDY\n",
              "Type 2                                                    NaN\n",
              "Unnamed: 6                                                NaN"
            ]
          },
          "execution_count": 229,
          "metadata": {},
          "output_type": "execute_result"
        }
      ],
      "source": [
        "evidence_testDF = pd.read_excel(\"/content/drive/MyDrive/Yan/IBM_Debater_(R)_CE-ACL-2014.v0/2014_7_18_ibm_CDE(1)data.xlsx\")\n",
        "evidence_testDF[:1].T"
      ]
    },
    {
      "cell_type": "code",
      "execution_count": null,
      "metadata": {
        "id": "bD-aX87tf_ec"
      },
      "outputs": [],
      "source": [
        "with open('/content/drive/MyDrive/Yan/IBM_Debater_(R)_CE-ACL-2014.v0/wiki12_articles/2007_Burmese_anti-government_protests') as f:\n",
        "    test_text = f.read()\n",
        "    print (test[418: 568])"
      ]
    },
    {
      "cell_type": "code",
      "execution_count": null,
      "metadata": {
        "id": "6A_mDcjAhNbl"
      },
      "outputs": [],
      "source": [
        "# functions from https://www.kaggle.com/reiinakano/basic-nlp-bag-of-words-tf-idf-word2vec-lstm\n",
        "class MyTokenizer:\n",
        "    def __init__(self):\n",
        "        pass\n",
        "    \n",
        "    def fit(self, X, y=None):\n",
        "        return self\n",
        "    \n",
        "    def transform(self, X):\n",
        "        transformed_X = []\n",
        "        for document in X:\n",
        "            tokenized_doc = []\n",
        "            for sent in nltk.sent_tokenize(document):\n",
        "                tokenized_doc += nltk.word_tokenize(sent)\n",
        "            transformed_X.append(np.array(tokenized_doc))\n",
        "        return np.array(transformed_X)\n",
        "    \n",
        "    def fit_transform(self, X, y=None):\n",
        "        return self.transform(X)\n",
        "\n",
        "class MeanEmbeddingVectorizer(object):\n",
        "    def __init__(self, word2vec):\n",
        "        self.word2vec = word2vec\n",
        "        # if a text is empty we should return a vector of zeros\n",
        "        # with the same dimensionality as all the other vectors\n",
        "        self.dim = len(word2vec.wv.syn0[0])\n",
        "\n",
        "    def fit(self, X, y=None):\n",
        "        return self\n",
        "\n",
        "    def transform(self, X):\n",
        "        X = MyTokenizer().fit_transform(X)\n",
        "        \n",
        "        return np.array([\n",
        "            np.mean([self.word2vec.wv[w] for w in words if w in self.word2vec.wv]\n",
        "                    or [np.zeros(self.dim)], axis=0)\n",
        "            for words in X\n",
        "        ])\n",
        "    \n",
        "    def fit_transform(self, X, y=None):\n",
        "        return self.transform(X)"
      ]
    },
    {
      "cell_type": "code",
      "execution_count": null,
      "metadata": {
        "colab": {
          "base_uri": "https://localhost:8080/"
        },
        "id": "zuQjHFxahU82",
        "outputId": "1ee3ee99-2652-4d6c-f025-ece168233291"
      },
      "outputs": [
        {
          "name": "stdout",
          "output_type": "stream",
          "text": [
            "Found out /content/drive/MyDrive/Yan/w2vmodel\n"
          ]
        }
      ],
      "source": [
        "class MySentences(object):\n",
        "    \"\"\"MySentences is a generator to produce a list of tokenized sentences \n",
        "    \n",
        "    Takes a list of numpy arrays containing documents.\n",
        "    \n",
        "    Args:\n",
        "        arrays: List of arrays, where each element in the array contains a document.\n",
        "    \"\"\"\n",
        "    def __init__(self, *arrays):\n",
        "        self.arrays = arrays\n",
        " \n",
        "    def __iter__(self):\n",
        "        for array in self.arrays:\n",
        "            for document in array:\n",
        "                for sent in nltk.sent_tokenize(document):\n",
        "                    yield nltk.word_tokenize(sent)\n",
        "\n",
        "def get_word2vec(sentences, location):\n",
        "    \"\"\"Returns trained word2vec\n",
        "    \n",
        "    Args:\n",
        "        sentences: iterator for sentences\n",
        "        \n",
        "        location (str): Path to save/load word2vec\n",
        "    \"\"\"\n",
        "    if os.path.exists(location):\n",
        "        print('Found out {}'.format(location))\n",
        "        model = gensim.models.Word2Vec.load(location)\n",
        "        return model\n",
        "    \n",
        "    print('{} not found. training model'.format(location))\n",
        "    model = gensim.models.Word2Vec(sentences, size=100, window=5, min_count=5, workers=4)\n",
        "    print('Model done training. Saving to disk')\n",
        "    model.save(location)\n",
        "    return model\n",
        "\n",
        "\n",
        "w2vec = get_word2vec(MySentences([test_text]), '/content/drive/MyDrive/Yan/w2vmodel')"
      ]
    },
    {
      "cell_type": "code",
      "execution_count": null,
      "metadata": {
        "colab": {
          "base_uri": "https://localhost:8080/"
        },
        "id": "C90hhqFF8f5a",
        "outputId": "c3aea8d1-7319-4496-f44f-4e67c0dde8ce"
      },
      "outputs": [
        {
          "name": "stdout",
          "output_type": "stream",
          "text": [
            "Found out /content/drive/MyDrive/Yan/w2vmodel\n"
          ]
        }
      ],
      "source": [
        "w2vec = get_word2vec(MySentences([train_text]), '/content/drive/MyDrive/Yan/w2vmodel')"
      ]
    }
  ],
  "metadata": {
    "colab": {
      "collapsed_sections": [],
      "name": "Yan_evidence_identification",
      "provenance": [],
      "mount_file_id": "1vhOBMkkwMG8dCP9yrLePjJWw15qXiisz",
      "authorship_tag": "ABX9TyN6/7DaAD8Zndealf8wCyna",
      "include_colab_link": true
    },
    "kernelspec": {
      "display_name": "Python 3",
      "name": "python3"
    },
    "language_info": {
      "name": "python"
    }
  },
  "nbformat": 4,
  "nbformat_minor": 0
}