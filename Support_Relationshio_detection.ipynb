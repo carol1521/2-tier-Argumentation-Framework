{
  "nbformat": 4,
  "nbformat_minor": 0,
  "metadata": {
    "colab": {
      "name": "Support_Relationshio_detection.ipynb",
      "provenance": [],
      "collapsed_sections": [],
      "mount_file_id": "1ogdEx4kWTlB4ceHoauZKBr5Ztpaps-zE",
      "authorship_tag": "ABX9TyMzsYdGzVOHkKVxkdNsUv+I",
      "include_colab_link": true
    },
    "kernelspec": {
      "name": "python3",
      "display_name": "Python 3"
    },
    "language_info": {
      "name": "python"
    }
  },
  "cells": [
    {
      "cell_type": "markdown",
      "metadata": {
        "id": "view-in-github",
        "colab_type": "text"
      },
      "source": [
        "<a href=\"https://colab.research.google.com/github/carol1521/2-tier-Argumentation-Framework/blob/main/Support_Relationshio_detection.ipynb\" target=\"_parent\"><img src=\"https://colab.research.google.com/assets/colab-badge.svg\" alt=\"Open In Colab\"/></a>"
      ]
    },
    {
      "cell_type": "code",
      "metadata": {
        "colab": {
          "base_uri": "https://localhost:8080/"
        },
        "id": "OXUrSfXBTRCL",
        "outputId": "36ef0f00-f349-423e-efe9-80f1fbb5f539"
      },
      "source": [
        "!pip install scikit-plot"
      ],
      "execution_count": null,
      "outputs": [
        {
          "output_type": "stream",
          "name": "stdout",
          "text": [
            "Collecting scikit-plot\n",
            "  Downloading scikit_plot-0.3.7-py3-none-any.whl (33 kB)\n",
            "Requirement already satisfied: matplotlib>=1.4.0 in /usr/local/lib/python3.7/dist-packages (from scikit-plot) (3.2.2)\n",
            "Requirement already satisfied: scikit-learn>=0.18 in /usr/local/lib/python3.7/dist-packages (from scikit-plot) (1.0.2)\n",
            "Requirement already satisfied: joblib>=0.10 in /usr/local/lib/python3.7/dist-packages (from scikit-plot) (1.1.0)\n",
            "Requirement already satisfied: scipy>=0.9 in /usr/local/lib/python3.7/dist-packages (from scikit-plot) (1.4.1)\n",
            "Requirement already satisfied: numpy>=1.11 in /usr/local/lib/python3.7/dist-packages (from matplotlib>=1.4.0->scikit-plot) (1.19.5)\n",
            "Requirement already satisfied: pyparsing!=2.0.4,!=2.1.2,!=2.1.6,>=2.0.1 in /usr/local/lib/python3.7/dist-packages (from matplotlib>=1.4.0->scikit-plot) (3.0.7)\n",
            "Requirement already satisfied: python-dateutil>=2.1 in /usr/local/lib/python3.7/dist-packages (from matplotlib>=1.4.0->scikit-plot) (2.8.2)\n",
            "Requirement already satisfied: kiwisolver>=1.0.1 in /usr/local/lib/python3.7/dist-packages (from matplotlib>=1.4.0->scikit-plot) (1.3.2)\n",
            "Requirement already satisfied: cycler>=0.10 in /usr/local/lib/python3.7/dist-packages (from matplotlib>=1.4.0->scikit-plot) (0.11.0)\n",
            "Requirement already satisfied: six>=1.5 in /usr/local/lib/python3.7/dist-packages (from python-dateutil>=2.1->matplotlib>=1.4.0->scikit-plot) (1.15.0)\n",
            "Requirement already satisfied: threadpoolctl>=2.0.0 in /usr/local/lib/python3.7/dist-packages (from scikit-learn>=0.18->scikit-plot) (3.0.0)\n",
            "Installing collected packages: scikit-plot\n",
            "Successfully installed scikit-plot-0.3.7\n"
          ]
        }
      ]
    },
    {
      "cell_type": "code",
      "source": [
        "!pip install xlsxwriter"
      ],
      "metadata": {
        "id": "BMzY5GOcsabr",
        "colab": {
          "base_uri": "https://localhost:8080/"
        },
        "outputId": "bff50511-3327-4fca-d158-89ca9241f554"
      },
      "execution_count": null,
      "outputs": [
        {
          "output_type": "stream",
          "name": "stdout",
          "text": [
            "Collecting xlsxwriter\n",
            "  Downloading XlsxWriter-3.0.2-py3-none-any.whl (149 kB)\n",
            "\u001b[?25l\r\u001b[K     |██▏                             | 10 kB 19.7 MB/s eta 0:00:01\r\u001b[K     |████▍                           | 20 kB 12.3 MB/s eta 0:00:01\r\u001b[K     |██████▋                         | 30 kB 9.3 MB/s eta 0:00:01\r\u001b[K     |████████▊                       | 40 kB 8.4 MB/s eta 0:00:01\r\u001b[K     |███████████                     | 51 kB 5.4 MB/s eta 0:00:01\r\u001b[K     |█████████████▏                  | 61 kB 5.5 MB/s eta 0:00:01\r\u001b[K     |███████████████▎                | 71 kB 5.3 MB/s eta 0:00:01\r\u001b[K     |█████████████████▌              | 81 kB 5.9 MB/s eta 0:00:01\r\u001b[K     |███████████████████▊            | 92 kB 6.0 MB/s eta 0:00:01\r\u001b[K     |█████████████████████▉          | 102 kB 5.1 MB/s eta 0:00:01\r\u001b[K     |████████████████████████        | 112 kB 5.1 MB/s eta 0:00:01\r\u001b[K     |██████████████████████████▎     | 122 kB 5.1 MB/s eta 0:00:01\r\u001b[K     |████████████████████████████▍   | 133 kB 5.1 MB/s eta 0:00:01\r\u001b[K     |██████████████████████████████▋ | 143 kB 5.1 MB/s eta 0:00:01\r\u001b[K     |████████████████████████████████| 149 kB 5.1 MB/s \n",
            "\u001b[?25hInstalling collected packages: xlsxwriter\n",
            "Successfully installed xlsxwriter-3.0.2\n"
          ]
        }
      ]
    },
    {
      "cell_type": "code",
      "metadata": {
        "id": "pagjp4d7ftYe",
        "colab": {
          "base_uri": "https://localhost:8080/"
        },
        "outputId": "f7c59f9e-af51-4868-c028-19338c69e5b9"
      },
      "source": [
        "import nltk\n",
        "nltk.download('punkt')\n",
        "nltk.download('vader_lexicon')"
      ],
      "execution_count": null,
      "outputs": [
        {
          "output_type": "stream",
          "name": "stdout",
          "text": [
            "[nltk_data] Downloading package punkt to /root/nltk_data...\n",
            "[nltk_data]   Unzipping tokenizers/punkt.zip.\n",
            "[nltk_data] Downloading package vader_lexicon to /root/nltk_data...\n"
          ]
        },
        {
          "output_type": "execute_result",
          "data": {
            "text/plain": [
              "True"
            ]
          },
          "metadata": {},
          "execution_count": 4
        }
      ]
    },
    {
      "cell_type": "code",
      "source": [
        "from keras.models import load_model\n",
        "from keras.models import Sequential\n",
        "from keras.layers import Dense, Flatten,TimeDistributed,LSTM\n",
        "from keras.callbacks import EarlyStopping, ModelCheckpoint\n"
      ],
      "metadata": {
        "id": "ZKjBk63TBswY"
      },
      "execution_count": null,
      "outputs": []
    },
    {
      "cell_type": "code",
      "metadata": {
        "id": "1BTK3ibzfeyG"
      },
      "source": [
        "import nltk, os, gensim\n",
        "import numpy as np\n",
        "import pickle\n",
        "import pandas as pd\n",
        "from sklearn.linear_model import LogisticRegression\n",
        "from sklearn.model_selection import cross_val_predict\n",
        "from sklearn.model_selection import StratifiedKFold\n",
        "from sklearn.metrics import log_loss, accuracy_score, f1_score, precision_score, recall_score\n",
        "import scikitplot.plotters as skplt\n",
        "import pickle\n",
        "\n",
        "# functions from https://www.kaggle.com/reiinakano/basic-nlp-bag-of-words-tf-idf-word2vec-lstm\n",
        "class MyTokenizer:\n",
        "    def __init__(self):\n",
        "        pass\n",
        "    \n",
        "    def fit(self, X, y=None):\n",
        "        return self\n",
        "    \n",
        "    def transform(self, X):\n",
        "        transformed_X = []\n",
        "        for document in X:\n",
        "            tokenized_doc = []\n",
        "            for sent in nltk.sent_tokenize(document):\n",
        "                tokenized_doc += nltk.word_tokenize(sent)\n",
        "            transformed_X.append(np.array(tokenized_doc))\n",
        "        return np.array(transformed_X)\n",
        "    \n",
        "    def fit_transform(self, X, y=None):\n",
        "        return self.transform(X)\n",
        "\n",
        "class MeanEmbeddingVectorizer(object):\n",
        "    def __init__(self, word2vec=None):\n",
        "        self.word2vec = word2vec\n",
        "        if not self.word2vec:\n",
        "            self.word2vec = gensim.models.Word2Vec.load('/content/drive/MyDrive/Yan/w2vmodel')\n",
        "        # if a text is empty we should return a vector of zeros\n",
        "        # with the same dimensionality as all the other vectors\n",
        "        self.dim = len(self.word2vec.wv.syn0[0])\n",
        "\n",
        "    def fit(self, X, y=None):\n",
        "        return self\n",
        "\n",
        "    def transform(self, X):\n",
        "        X = MyTokenizer().fit_transform(X)\n",
        "        \n",
        "        emb = np.array([\n",
        "            np.mean([self.word2vec.wv[w] for w in words if w in self.word2vec.wv]\n",
        "                    or [np.zeros(self.dim)], axis=0)\n",
        "            for words in X\n",
        "        ])\n",
        "\n",
        "        return np.mean(emb, axis = 0)\n",
        "    \n",
        "    def fit_transform(self, X, y=None):\n",
        "        return self.transform(X)\n",
        "\n",
        "class MySentences(object):\n",
        "    \"\"\"MySentences is a generator to produce a list of tokenized sentences \n",
        "    \n",
        "    Takes a list of numpy arrays containing documents.\n",
        "    \n",
        "    Args:\n",
        "        arrays: List of arrays, where each element in the array contains a document.\n",
        "    \"\"\"\n",
        "    def __init__(self, *arrays):\n",
        "        self.arrays = arrays\n",
        " \n",
        "    def __iter__(self):\n",
        "        for array in self.arrays:\n",
        "            for document in array:\n",
        "                for sent in nltk.sent_tokenize(document):\n",
        "                    yield nltk.word_tokenize(sent)\n",
        "\n",
        "def get_word2vec(sentences, location):\n",
        "    \"\"\"Returns trained word2vec\n",
        "    \n",
        "    Args:\n",
        "        sentences: iterator for sentences\n",
        "        \n",
        "        location (str): Path to save/load word2vec\n",
        "    \"\"\"\n",
        "    if os.path.exists(location):\n",
        "        print('Found {}'.format(location))\n",
        "        model = gensim.models.Word2Vec.load(location)\n",
        "        return model\n",
        "    \n",
        "    print('{} not found. training model'.format(location))\n",
        "    model = gensim.models.Word2Vec(sentences, size=100, window=5, min_count=5, workers=4)\n",
        "    print('Model done training. Saving to disk')\n",
        "    model.save(location)\n",
        "    return model\n",
        "#w2vec = get_word2vec(MySentences(str([test])), '/content/drive/MyDrive/Yan/w2vmodelu')\n",
        "\n",
        "def evaluate_plt(x_test, y_test, clf):\n",
        "    # print probas\n",
        "    y_preds=clf.predict(x_test)\n",
        "    \n",
        "    #pred_indices = np.argmax(probas, axis=1)\n",
        "    #classes = np.unique(y)\n",
        "    #preds = classes[pred_indices]\n",
        "    #print('Train Log loss: {}'.format(log_loss(y, probas)))\n",
        "    print('Accuracy: {}'.format(accuracy_score(y_test, y_preds)))\n",
        "    print(\"f1_score:{}\".format(f1_score(y_test, y_preds)))\n",
        "    print(\"precision_score:{}\".format(precision_score(y_test, y_preds)))\n",
        "    print(\"recall_score:{}\".format(recall_score(y_test, y_preds)))\n",
        "    print(\"loss:{}\".format(log_loss(y_test, y_preds)))\n",
        "    skplt.plot_confusion_matrix(y_test, y_preds)\n",
        "    return clf\n"
      ],
      "execution_count": null,
      "outputs": []
    },
    {
      "cell_type": "markdown",
      "metadata": {
        "id": "ULpDIDYqvnCb"
      },
      "source": [
        "# relationship_detection"
      ]
    },
    {
      "cell_type": "markdown",
      "metadata": {
        "id": "8Xo_8ZKAYvpv"
      },
      "source": [
        "## reading data"
      ]
    },
    {
      "cell_type": "code",
      "metadata": {
        "id": "dt3AgmKXUbNn"
      },
      "source": [
        "import numpy as np\n",
        "import pandas as pd\n",
        "import string\n",
        "import nltk\n",
        "from sklearn.linear_model import LogisticRegression\n",
        "#from utils import MyTokenizer, MySentences, MeanEmbeddingVectorizer, evaluate_train"
      ],
      "execution_count": null,
      "outputs": []
    },
    {
      "cell_type": "code",
      "metadata": {
        "id": "XM5p76QjUiH5"
      },
      "source": [
        "claimDF = pd.read_excel('/content/drive/MyDrive/Yan/Claims_Evidence_Support_Relationship.xlsx')\n",
        "#claimDF = pd.read_csv('/content/drive/MyDrive/Yan/2014_ibm_Claim_Evidence_UR_data_c.csv',encoding= 'unicode_escape')"
      ],
      "execution_count": null,
      "outputs": []
    },
    {
      "cell_type": "code",
      "metadata": {
        "colab": {
          "base_uri": "https://localhost:8080/",
          "height": 143
        },
        "id": "YSueaz1C-GHt",
        "outputId": "eb2e420c-eb0f-4bde-ce59-9bfb687de591"
      },
      "source": [
        "claimDF[:1].T"
      ],
      "execution_count": null,
      "outputs": [
        {
          "output_type": "execute_result",
          "data": {
            "text/html": [
              "\n",
              "  <div id=\"df-489a57ea-3715-41bc-99f3-51e581abe346\">\n",
              "    <div class=\"colab-df-container\">\n",
              "      <div>\n",
              "<style scoped>\n",
              "    .dataframe tbody tr th:only-of-type {\n",
              "        vertical-align: middle;\n",
              "    }\n",
              "\n",
              "    .dataframe tbody tr th {\n",
              "        vertical-align: top;\n",
              "    }\n",
              "\n",
              "    .dataframe thead th {\n",
              "        text-align: right;\n",
              "    }\n",
              "</style>\n",
              "<table border=\"1\" class=\"dataframe\">\n",
              "  <thead>\n",
              "    <tr style=\"text-align: right;\">\n",
              "      <th></th>\n",
              "      <th>0</th>\n",
              "    </tr>\n",
              "  </thead>\n",
              "  <tbody>\n",
              "    <tr>\n",
              "      <th>Claim</th>\n",
              "      <td>exposure to violent video games causes at leas...</td>\n",
              "    </tr>\n",
              "    <tr>\n",
              "      <th>CDE</th>\n",
              "      <td>The most recent large scale meta-anlysis-- exa...</td>\n",
              "    </tr>\n",
              "    <tr>\n",
              "      <th>Support</th>\n",
              "      <td>1</td>\n",
              "    </tr>\n",
              "  </tbody>\n",
              "</table>\n",
              "</div>\n",
              "      <button class=\"colab-df-convert\" onclick=\"convertToInteractive('df-489a57ea-3715-41bc-99f3-51e581abe346')\"\n",
              "              title=\"Convert this dataframe to an interactive table.\"\n",
              "              style=\"display:none;\">\n",
              "        \n",
              "  <svg xmlns=\"http://www.w3.org/2000/svg\" height=\"24px\"viewBox=\"0 0 24 24\"\n",
              "       width=\"24px\">\n",
              "    <path d=\"M0 0h24v24H0V0z\" fill=\"none\"/>\n",
              "    <path d=\"M18.56 5.44l.94 2.06.94-2.06 2.06-.94-2.06-.94-.94-2.06-.94 2.06-2.06.94zm-11 1L8.5 8.5l.94-2.06 2.06-.94-2.06-.94L8.5 2.5l-.94 2.06-2.06.94zm10 10l.94 2.06.94-2.06 2.06-.94-2.06-.94-.94-2.06-.94 2.06-2.06.94z\"/><path d=\"M17.41 7.96l-1.37-1.37c-.4-.4-.92-.59-1.43-.59-.52 0-1.04.2-1.43.59L10.3 9.45l-7.72 7.72c-.78.78-.78 2.05 0 2.83L4 21.41c.39.39.9.59 1.41.59.51 0 1.02-.2 1.41-.59l7.78-7.78 2.81-2.81c.8-.78.8-2.07 0-2.86zM5.41 20L4 18.59l7.72-7.72 1.47 1.35L5.41 20z\"/>\n",
              "  </svg>\n",
              "      </button>\n",
              "      \n",
              "  <style>\n",
              "    .colab-df-container {\n",
              "      display:flex;\n",
              "      flex-wrap:wrap;\n",
              "      gap: 12px;\n",
              "    }\n",
              "\n",
              "    .colab-df-convert {\n",
              "      background-color: #E8F0FE;\n",
              "      border: none;\n",
              "      border-radius: 50%;\n",
              "      cursor: pointer;\n",
              "      display: none;\n",
              "      fill: #1967D2;\n",
              "      height: 32px;\n",
              "      padding: 0 0 0 0;\n",
              "      width: 32px;\n",
              "    }\n",
              "\n",
              "    .colab-df-convert:hover {\n",
              "      background-color: #E2EBFA;\n",
              "      box-shadow: 0px 1px 2px rgba(60, 64, 67, 0.3), 0px 1px 3px 1px rgba(60, 64, 67, 0.15);\n",
              "      fill: #174EA6;\n",
              "    }\n",
              "\n",
              "    [theme=dark] .colab-df-convert {\n",
              "      background-color: #3B4455;\n",
              "      fill: #D2E3FC;\n",
              "    }\n",
              "\n",
              "    [theme=dark] .colab-df-convert:hover {\n",
              "      background-color: #434B5C;\n",
              "      box-shadow: 0px 1px 3px 1px rgba(0, 0, 0, 0.15);\n",
              "      filter: drop-shadow(0px 1px 2px rgba(0, 0, 0, 0.3));\n",
              "      fill: #FFFFFF;\n",
              "    }\n",
              "  </style>\n",
              "\n",
              "      <script>\n",
              "        const buttonEl =\n",
              "          document.querySelector('#df-489a57ea-3715-41bc-99f3-51e581abe346 button.colab-df-convert');\n",
              "        buttonEl.style.display =\n",
              "          google.colab.kernel.accessAllowed ? 'block' : 'none';\n",
              "\n",
              "        async function convertToInteractive(key) {\n",
              "          const element = document.querySelector('#df-489a57ea-3715-41bc-99f3-51e581abe346');\n",
              "          const dataTable =\n",
              "            await google.colab.kernel.invokeFunction('convertToInteractive',\n",
              "                                                     [key], {});\n",
              "          if (!dataTable) return;\n",
              "\n",
              "          const docLinkHtml = 'Like what you see? Visit the ' +\n",
              "            '<a target=\"_blank\" href=https://colab.research.google.com/notebooks/data_table.ipynb>data table notebook</a>'\n",
              "            + ' to learn more about interactive tables.';\n",
              "          element.innerHTML = '';\n",
              "          dataTable['output_type'] = 'display_data';\n",
              "          await google.colab.output.renderOutput(dataTable, element);\n",
              "          const docLink = document.createElement('div');\n",
              "          docLink.innerHTML = docLinkHtml;\n",
              "          element.appendChild(docLink);\n",
              "        }\n",
              "      </script>\n",
              "    </div>\n",
              "  </div>\n",
              "  "
            ],
            "text/plain": [
              "                                                         0\n",
              "Claim    exposure to violent video games causes at leas...\n",
              "CDE      The most recent large scale meta-anlysis-- exa...\n",
              "Support                                                  1"
            ]
          },
          "metadata": {},
          "execution_count": 8
        }
      ]
    },
    {
      "cell_type": "code",
      "source": [
        ""
      ],
      "metadata": {
        "id": "yj8ZArtuQk5y"
      },
      "execution_count": null,
      "outputs": []
    },
    {
      "cell_type": "code",
      "metadata": {
        "id": "FRZaJTE8AZr4"
      },
      "source": [
        "# create dataset\n",
        "#test = claimDF[[ 'claims', 'evidences', 'undercut_Relation']]\n",
        "texts = claimDF[['Claim','CDE','Support']]\n",
        "\n"
      ],
      "execution_count": null,
      "outputs": []
    },
    {
      "cell_type": "code",
      "source": [
        "print(len(texts))"
      ],
      "metadata": {
        "colab": {
          "base_uri": "https://localhost:8080/"
        },
        "id": "YENov9t-QohH",
        "outputId": "6bd98379-19ea-4efc-e573-ab8fe3c5f3a9"
      },
      "execution_count": null,
      "outputs": [
        {
          "output_type": "stream",
          "name": "stdout",
          "text": [
            "2170\n"
          ]
        }
      ]
    },
    {
      "cell_type": "code",
      "source": [
        "from nltk.text import Text\n",
        "from sklearn.model_selection import train_test_split\n",
        "train, test = train_test_split(texts, test_size=0.2)"
      ],
      "metadata": {
        "id": "OdWntES0i0x9"
      },
      "execution_count": null,
      "outputs": []
    },
    {
      "cell_type": "code",
      "source": [
        "test['CDE']"
      ],
      "metadata": {
        "colab": {
          "base_uri": "https://localhost:8080/"
        },
        "id": "IEEZ7B-Bi7Zu",
        "outputId": "bcb375b6-80b2-4168-fa85-5df2a308ed48"
      },
      "execution_count": null,
      "outputs": [
        {
          "output_type": "execute_result",
          "data": {
            "text/plain": [
              "673     John Roemer who used the term nondiscriminatio...\n",
              "1887    The UN delegations of the United Kingdom, the ...\n",
              "1379    In District of Columbia v. Heller, the U.S. Su...\n",
              "2091    The Anti-Defamation League has stated that \"Ho...\n",
              "798     The English case of R v. Coney in 1882 found t...\n",
              "                              ...                        \n",
              "1766    the Ministry of Foreign Affairs of Cyprus also...\n",
              "814     Combat sports are first recorded during the Ol...\n",
              "200     On April 20, 1999, 18-year-old Eric Harris and...\n",
              "372     Justice Thomas, in his dissent, considered tha...\n",
              "259     On April 20, 1999, 18-year-old Eric Harris and...\n",
              "Name: CDE, Length: 434, dtype: object"
            ]
          },
          "metadata": {},
          "execution_count": 15
        }
      ]
    },
    {
      "cell_type": "markdown",
      "source": [
        "## embedding"
      ],
      "metadata": {
        "id": "2kp69YGvjLOc"
      }
    },
    {
      "cell_type": "code",
      "metadata": {
        "id": "fqIqi5gSAZmw",
        "colab": {
          "base_uri": "https://localhost:8080/"
        },
        "outputId": "b6b67bf3-2285-49cf-ca5c-9d98e0c779a2"
      },
      "source": [
        "mean_embedding_vectorizer = MeanEmbeddingVectorizer(None)\n",
        "\n",
        "train['train_claim_token'] = train['Claim'].apply(lambda x: nltk.word_tokenize( str(x).lower()))\n",
        "train['train_claim_mean']  = train['train_claim_token'].apply(lambda x: mean_embedding_vectorizer.transform(str(x)))\n",
        "\n",
        "test['test_claim_token'] = test['Claim'].apply(lambda x: nltk.word_tokenize(str(x).lower()))\n",
        "test['test_claim_mean']  = test['test_claim_token'].apply(lambda x: mean_embedding_vectorizer.transform(str(x)))\n",
        "\n"
      ],
      "execution_count": null,
      "outputs": [
        {
          "output_type": "stream",
          "name": "stderr",
          "text": [
            "/usr/local/lib/python3.7/dist-packages/ipykernel_launcher.py:39: DeprecationWarning: Call to deprecated `syn0` (Attribute will be removed in 4.0.0, use self.wv.vectors instead).\n",
            "/usr/local/lib/python3.7/dist-packages/ipykernel_launcher.py:27: VisibleDeprecationWarning: Creating an ndarray from ragged nested sequences (which is a list-or-tuple of lists-or-tuples-or ndarrays with different lengths or shapes) is deprecated. If you meant to do this, you must specify 'dtype=object' when creating the ndarray\n"
          ]
        }
      ]
    },
    {
      "cell_type": "code",
      "source": [
        "train['train_evidence_token'] = train['CDE'].apply(lambda x: nltk.word_tokenize( str(x).lower()))\n",
        "train['train_evidence_mean']= train['train_evidence_token'].apply(lambda x: mean_embedding_vectorizer.transform(str(x)))\n",
        "\n",
        "test['test_evidence_token'] = test['CDE'].apply(lambda x: nltk.word_tokenize(str(x).lower()))\n",
        "test['test_evidence_mean']= test['test_evidence_token'].apply(lambda x: mean_embedding_vectorizer.transform(str(x)))"
      ],
      "metadata": {
        "colab": {
          "base_uri": "https://localhost:8080/"
        },
        "id": "faiPmd3Aj3C0",
        "outputId": "5331b087-a2d8-405f-a551-75fbeba6ccdb"
      },
      "execution_count": null,
      "outputs": [
        {
          "output_type": "stream",
          "name": "stderr",
          "text": [
            "/usr/local/lib/python3.7/dist-packages/ipykernel_launcher.py:27: VisibleDeprecationWarning: Creating an ndarray from ragged nested sequences (which is a list-or-tuple of lists-or-tuples-or ndarrays with different lengths or shapes) is deprecated. If you meant to do this, you must specify 'dtype=object' when creating the ndarray\n"
          ]
        }
      ]
    },
    {
      "cell_type": "code",
      "metadata": {
        "id": "ePobzebR7cfv"
      },
      "source": [
        "train['train_final_embedding'] = train.apply(lambda x: [np.append(x['train_claim_mean'], x['train_evidence_mean'])], axis=1)\n",
        "test['test_final_embedding'] = test.apply(lambda x: [np.append(x['test_claim_mean'], x['test_evidence_mean'])], axis=1)\n",
        "train['train_relation'] = train['Support'].apply(lambda x: 0 if x == 0 else 1)\n",
        "test['test_relation'] = test['Support'].apply(lambda x: 0 if x == 0 else 1)"
      ],
      "execution_count": null,
      "outputs": []
    },
    {
      "cell_type": "code",
      "metadata": {
        "id": "qmOZQwFBAZkA"
      },
      "source": [
        "#from sklearn.model_selection import cross_val_predict\n",
        "from sklearn.model_selection import StratifiedKFold\n",
        "\n",
        "x_train = np.vstack(train['train_final_embedding'].values)\n",
        "y_train = train['train_relation'].values.ravel()\n",
        "\n",
        "x_test = np.vstack(test['test_final_embedding'].values)\n",
        "y_test = test['test_relation'].values.ravel()\n"
      ],
      "execution_count": null,
      "outputs": []
    },
    {
      "cell_type": "code",
      "source": [
        "len(y_test)"
      ],
      "metadata": {
        "colab": {
          "base_uri": "https://localhost:8080/"
        },
        "id": "s_u1wo4bJuhh",
        "outputId": "75ca8bdc-a228-46d8-a65d-4552f3e0d74d"
      },
      "execution_count": null,
      "outputs": [
        {
          "output_type": "execute_result",
          "data": {
            "text/plain": [
              "434"
            ]
          },
          "metadata": {},
          "execution_count": 15
        }
      ]
    },
    {
      "cell_type": "code",
      "source": [
        "len(test)"
      ],
      "metadata": {
        "colab": {
          "base_uri": "https://localhost:8080/"
        },
        "id": "vPaLsvh9KMoa",
        "outputId": "b17c928a-1684-4a5e-9e94-2e6331c3b402"
      },
      "execution_count": null,
      "outputs": [
        {
          "output_type": "execute_result",
          "data": {
            "text/plain": [
              "434"
            ]
          },
          "metadata": {},
          "execution_count": 16
        }
      ]
    },
    {
      "cell_type": "markdown",
      "metadata": {
        "id": "zpVhEJNuZAq8"
      },
      "source": [
        "## Randomforest"
      ]
    },
    {
      "cell_type": "code",
      "source": [
        "from sklearn.model_selection import GridSearchCV"
      ],
      "metadata": {
        "id": "lqSQ2lPb4ueh"
      },
      "execution_count": null,
      "outputs": []
    },
    {
      "cell_type": "code",
      "metadata": {
        "id": "IVh8eyVxAZa5",
        "colab": {
          "base_uri": "https://localhost:8080/"
        },
        "outputId": "ff471210-db56-4588-b6b8-c69754ccab34"
      },
      "source": [
        "from sklearn.ensemble import RandomForestClassifier\n",
        "clf0=RandomForestClassifier(oob_score=True,random_state=10)\n",
        "clf0.fit(x_train,y_train)\n",
        "\n",
        "print(clf0.oob_score_)\n",
        "print(\"accuracy:%f\"%clf0.oob_score_)\n",
        "y_pred=clf0.predict(x_test)"
      ],
      "execution_count": null,
      "outputs": [
        {
          "output_type": "stream",
          "name": "stdout",
          "text": [
            "0.8934331797235023\n",
            "accuracy:0.893433\n"
          ]
        }
      ]
    },
    {
      "cell_type": "code",
      "source": [
        "param_test1 = {\"n_estimators\":range(1,101,5)}\n",
        "gsearch1 = GridSearchCV(estimator=RandomForestClassifier(),param_grid=param_test1,\n",
        "                        scoring='roc_auc',cv=10)\n",
        "gsearch1.fit(x_train,y_train)\n",
        "\n",
        "#print(gsearch1.grid_scores_)\n",
        "print(gsearch1.best_params_)\n",
        "print(\"best accuracy:%f\" % gsearch1.best_score_)"
      ],
      "metadata": {
        "colab": {
          "base_uri": "https://localhost:8080/"
        },
        "id": "TXpTanh-4T7i",
        "outputId": "7b022fd1-659a-42c8-841b-4c410d43ac61"
      },
      "execution_count": null,
      "outputs": [
        {
          "output_type": "stream",
          "name": "stdout",
          "text": [
            "{'n_estimators': 81}\n",
            "best accuracy:0.935569\n"
          ]
        }
      ]
    },
    {
      "cell_type": "code",
      "source": [
        "param_test2 = {\"max_features\":range(1,11,1)}\n",
        "gsearch1 = GridSearchCV(estimator=RandomForestClassifier(n_estimators=81,\n",
        "                        random_state=10),\n",
        "                        param_grid = param_test2,scoring='roc_auc',cv=10)\n",
        "gsearch1.fit(x_train,y_train)\n",
        "#print(gsearch1.grid_scores_)\n",
        "print(gsearch1.best_params_)\n",
        "print('best accuracy:%f' % gsearch1.best_score_)"
      ],
      "metadata": {
        "colab": {
          "base_uri": "https://localhost:8080/"
        },
        "id": "GY5kX_ffXSsJ",
        "outputId": "6dd43488-1f3b-4118-d4b3-4404fb36a4d0"
      },
      "execution_count": null,
      "outputs": [
        {
          "output_type": "stream",
          "name": "stdout",
          "text": [
            "{'max_features': 3}\n",
            "best accuracy:0.936069\n"
          ]
        }
      ]
    },
    {
      "cell_type": "code",
      "source": [
        "sclf = RandomForestClassifier(n_estimators=81,max_features=9,\n",
        "                             oob_score=True,random_state=10)\n",
        "sclf.fit(x_train,y_train)\n",
        "print(clf0.oob_score_)\n",
        "print(\"accuracy: %f\" % sclf.oob_score_)"
      ],
      "metadata": {
        "colab": {
          "base_uri": "https://localhost:8080/"
        },
        "id": "k7DhgcMEaTnH",
        "outputId": "fd818797-0b27-4bfd-a1d1-35f6d5294a29"
      },
      "execution_count": null,
      "outputs": [
        {
          "output_type": "stream",
          "name": "stdout",
          "text": [
            "0.8934331797235023\n",
            "accuracy: 0.885945\n"
          ]
        }
      ]
    },
    {
      "cell_type": "code",
      "source": [
        "import pickle"
      ],
      "metadata": {
        "id": "HKdl3PJ5IhdO"
      },
      "execution_count": null,
      "outputs": []
    },
    {
      "cell_type": "code",
      "source": [
        "#save model\n",
        "f = open('/content/drive/MyDrive/Yan/saved_model/sclf.pickle','wb')\n",
        "pickle.dump(sclf,f)\n",
        "f.close()"
      ],
      "metadata": {
        "id": "pNYBpHlgG-T4"
      },
      "execution_count": null,
      "outputs": []
    },
    {
      "cell_type": "code",
      "source": [
        "f = open('/content/drive/MyDrive/Yan/saved_model/sclf.pickle','rb')\n",
        "sclf1 = pickle.load(f)\n",
        "f.close()\n",
        "predictions=sclf1.predict(x_test)\n",
        "#prediction= predict_true + predict_false\n",
        "\n",
        "#print(predictions)"
      ],
      "metadata": {
        "id": "dBwqcTDrgV8y"
      },
      "execution_count": null,
      "outputs": []
    },
    {
      "cell_type": "code",
      "metadata": {
        "colab": {
          "base_uri": "https://localhost:8080/",
          "height": 471
        },
        "id": "T96w09FmRl6a",
        "outputId": "94412b60-f38f-4959-8170-6d7149bed342"
      },
      "source": [
        "#randomforestS\n",
        "evaluate_plt(x_test,y_test,sclf1)"
      ],
      "execution_count": null,
      "outputs": [
        {
          "output_type": "stream",
          "name": "stdout",
          "text": [
            "Accuracy: 0.8940092165898618\n",
            "f1_score:0.9323529411764706\n",
            "precision_score:0.8781163434903048\n",
            "recall_score:0.9937304075235109\n",
            "loss:3.660873033301429\n"
          ]
        },
        {
          "output_type": "stream",
          "name": "stderr",
          "text": [
            "/usr/local/lib/python3.7/dist-packages/sklearn/utils/deprecation.py:87: FutureWarning: Function plot_confusion_matrix is deprecated; This will be removed in v0.4.0. Please use scikitplot.metrics.plot_confusion_matrix instead.\n",
            "  warnings.warn(msg, category=FutureWarning)\n"
          ]
        },
        {
          "output_type": "execute_result",
          "data": {
            "text/plain": [
              "RandomForestClassifier(max_features=9, n_estimators=81, oob_score=True,\n",
              "                       random_state=10)"
            ]
          },
          "metadata": {},
          "execution_count": 46
        },
        {
          "output_type": "display_data",
          "data": {
            "image/png": "[encoded data removed]",
            "text/plain": [
              "<Figure size 432x288 with 2 Axes>"
            ]
          },
          "metadata": {
            "needs_background": "light"
          }
        }
      ]
    },
    {
      "cell_type": "markdown",
      "source": [
        "## LogisticRegression"
      ],
      "metadata": {
        "id": "OxvLXfqHmf__"
      }
    },
    {
      "cell_type": "code",
      "source": [
        "from sklearn.linear_model import LogisticRegression\n",
        "clf_logist0 = LogisticRegression(random_state=0).fit(x_train,y_train)\n",
        "\n",
        "print(clf_logist0.score(x_test,y_test))\n",
        "print(\"accuracy:%f\"%clf_logist0.score(x_test,y_test))\n",
        "y_pred_logist=clf_logist0.predict(x_test)"
      ],
      "metadata": {
        "colab": {
          "base_uri": "https://localhost:8080/"
        },
        "id": "Czd4Uc8Rx91N",
        "outputId": "6455a151-6505-42ff-9b27-b63ce57182e7"
      },
      "execution_count": null,
      "outputs": [
        {
          "output_type": "stream",
          "name": "stdout",
          "text": [
            "0.7580645161290323\n",
            "accuracy:0.758065\n"
          ]
        }
      ]
    },
    {
      "cell_type": "code",
      "source": [
        "best_ting = {\n",
        "     'max_iter':[10,20,40,60,80,100],\n",
        "    'C':[0.01,0.1,1,10]\n",
        "}"
      ],
      "metadata": {
        "id": "CNP6kshdDO-i"
      },
      "execution_count": null,
      "outputs": []
    },
    {
      "cell_type": "code",
      "source": [
        "param_test=GridSearchCV(LogisticRegression(random_state=0),best_ting,cv=5)"
      ],
      "metadata": {
        "id": "BmfIAID5DOyI"
      },
      "execution_count": null,
      "outputs": []
    },
    {
      "cell_type": "code",
      "source": [
        "param_test.fit(x_train,y_train)"
      ],
      "metadata": {
        "id": "Sb7TnXgyDOuA"
      },
      "execution_count": null,
      "outputs": []
    },
    {
      "cell_type": "code",
      "source": [
        "print(param_test.best_params_)"
      ],
      "metadata": {
        "colab": {
          "base_uri": "https://localhost:8080/"
        },
        "id": "KQvdGZq9sBDA",
        "outputId": "528ccf84-d1f8-4717-b542-c9582f592b4d"
      },
      "execution_count": null,
      "outputs": [
        {
          "output_type": "stream",
          "name": "stdout",
          "text": [
            "{'C': 10, 'max_iter': 100}\n"
          ]
        }
      ]
    },
    {
      "cell_type": "code",
      "source": [
        "sclf_logist=LogisticRegression(max_iter=100,C=10).fit(x_train,y_train)"
      ],
      "metadata": {
        "colab": {
          "base_uri": "https://localhost:8080/"
        },
        "id": "9sjtMDBAswUW",
        "outputId": "371648c6-416e-4798-dcc2-0031b28654cf"
      },
      "execution_count": null,
      "outputs": [
        {
          "output_type": "stream",
          "name": "stderr",
          "text": [
            "/usr/local/lib/python3.7/dist-packages/sklearn/linear_model/_logistic.py:818: ConvergenceWarning: lbfgs failed to converge (status=1):\n",
            "STOP: TOTAL NO. of ITERATIONS REACHED LIMIT.\n",
            "\n",
            "Increase the number of iterations (max_iter) or scale the data as shown in:\n",
            "    https://scikit-learn.org/stable/modules/preprocessing.html\n",
            "Please also refer to the documentation for alternative solver options:\n",
            "    https://scikit-learn.org/stable/modules/linear_model.html#logistic-regression\n",
            "  extra_warning_msg=_LOGISTIC_SOLVER_CONVERGENCE_MSG,\n"
          ]
        }
      ]
    },
    {
      "cell_type": "code",
      "metadata": {
        "id": "VT6zLpErAZeS",
        "colab": {
          "base_uri": "https://localhost:8080/",
          "height": 454
        },
        "outputId": "81dfe6ab-5fc4-4363-df01-b8424518c73b"
      },
      "source": [
        "#logisticregressionS\n",
        "evaluate_plt(x_test,y_test,sclf_logist )"
      ],
      "execution_count": null,
      "outputs": [
        {
          "output_type": "stream",
          "name": "stdout",
          "text": [
            "Accuracy: 0.7649769585253456\n",
            "f1_score:0.8559322033898306\n",
            "precision_score:0.787012987012987\n",
            "recall_score:0.9380804953560371\n",
            "loss:8.117559353157064\n"
          ]
        },
        {
          "output_type": "stream",
          "name": "stderr",
          "text": [
            "/usr/local/lib/python3.7/dist-packages/sklearn/utils/deprecation.py:87: FutureWarning: Function plot_confusion_matrix is deprecated; This will be removed in v0.4.0. Please use scikitplot.metrics.plot_confusion_matrix instead.\n",
            "  warnings.warn(msg, category=FutureWarning)\n"
          ]
        },
        {
          "output_type": "execute_result",
          "data": {
            "text/plain": [
              "LogisticRegression(C=10)"
            ]
          },
          "metadata": {},
          "execution_count": 44
        },
        {
          "output_type": "display_data",
          "data": {
            "image/png": "[encoded data removed]",
            "text/plain": [
              "<Figure size 432x288 with 2 Axes>"
            ]
          },
          "metadata": {
            "needs_background": "light"
          }
        }
      ]
    },
    {
      "cell_type": "code",
      "source": [
        "#save model\n",
        "f = open('/content/drive/MyDrive/Yan/saved_model/sclf_logist.pickle','wb')\n",
        "pickle.dump(sclf_logist,f)\n",
        "f.close()"
      ],
      "metadata": {
        "id": "m9IBpkRVlrEC"
      },
      "execution_count": null,
      "outputs": []
    },
    {
      "cell_type": "code",
      "source": [
        "f = open('/content/drive/MyDrive/Yan/saved_model/sclf_logist.pickle','rb')\n",
        "sclf_logist = pickle.load(f)\n",
        "f.close()"
      ],
      "metadata": {
        "colab": {
          "base_uri": "https://localhost:8080/",
          "height": 257
        },
        "id": "WEuPPYQI6CRS",
        "outputId": "95f1827e-ece9-4c0b-8e7d-abaeccd1d4f4"
      },
      "execution_count": null,
      "outputs": [
        {
          "output_type": "error",
          "ename": "EOFError",
          "evalue": "ignored",
          "traceback": [
            "\u001b[0;31m---------------------------------------------------------------------------\u001b[0m",
            "\u001b[0;31mEOFError\u001b[0m                                  Traceback (most recent call last)",
            "\u001b[0;32m<ipython-input-31-9cbc1395d971>\u001b[0m in \u001b[0;36m<module>\u001b[0;34m()\u001b[0m\n\u001b[1;32m      1\u001b[0m \u001b[0mf\u001b[0m \u001b[0;34m=\u001b[0m \u001b[0mopen\u001b[0m\u001b[0;34m(\u001b[0m\u001b[0;34m'/content/drive/MyDrive/Yan/saved_model/sclf_logist.pickle'\u001b[0m\u001b[0;34m,\u001b[0m\u001b[0;34m'rb'\u001b[0m\u001b[0;34m)\u001b[0m\u001b[0;34m\u001b[0m\u001b[0;34m\u001b[0m\u001b[0m\n\u001b[0;32m----> 2\u001b[0;31m \u001b[0msclf_logist\u001b[0m \u001b[0;34m=\u001b[0m \u001b[0mpickle\u001b[0m\u001b[0;34m.\u001b[0m\u001b[0mload\u001b[0m\u001b[0;34m(\u001b[0m\u001b[0mf\u001b[0m\u001b[0;34m)\u001b[0m\u001b[0;34m\u001b[0m\u001b[0;34m\u001b[0m\u001b[0m\n\u001b[0m\u001b[1;32m      3\u001b[0m \u001b[0mf\u001b[0m\u001b[0;34m.\u001b[0m\u001b[0mclose\u001b[0m\u001b[0;34m(\u001b[0m\u001b[0;34m)\u001b[0m\u001b[0;34m\u001b[0m\u001b[0;34m\u001b[0m\u001b[0m\n",
            "\u001b[0;31mEOFError\u001b[0m: Ran out of input"
          ]
        }
      ]
    },
    {
      "cell_type": "markdown",
      "source": [
        "## predicted result"
      ],
      "metadata": {
        "id": "kGMYvir4tWm_"
      }
    },
    {
      "cell_type": "code",
      "source": [
        "#All prediction\n",
        "predicted_result_s = {}\n",
        "predicted_result_s['result'] = []\n",
        "# predict_eval = clf1.predict(x_test).tolist()\n",
        "\n",
        "for claims, evidences, predicted_label in zip(test['Claim'], test['CDE'], predictions):\n",
        "    if predicted_label == 1:\n",
        "        predicted_result_s['result'].append({\n",
        "            \"predicted_claims\": claims,\n",
        "            \"predicted_evidences\": evidences,\n",
        "            \"predicted_label\": predicted_label\n",
        "        })"
      ],
      "metadata": {
        "id": "l6t-wtx4uoPg"
      },
      "execution_count": null,
      "outputs": []
    },
    {
      "cell_type": "code",
      "source": [
        "#Only predict true\n",
        "predicted_true_s = {}\n",
        "predicted_true_s['true_result'] = []\n",
        "\n",
        "for claims, evidences, predicted_label, truth in zip(test['Claim'], test['CDE'], predictions, y_test):\n",
        "    if predicted_label == 1 and truth == 1:\n",
        "        predicted_true_s['true_result'].append({\n",
        "            \"predicted_claims\": claims,\n",
        "            \"predicted_evidences\": evidences,\n",
        "            \"predicted_label\": predicted_label,\n",
        "            \"truth\" : truth\n",
        "        })"
      ],
      "metadata": {
        "id": "zNezcGxpK5Z8"
      },
      "execution_count": null,
      "outputs": []
    },
    {
      "cell_type": "code",
      "source": [
        "#predict != truth\n",
        "predicted_miss_s ={}\n",
        "predicted_miss_s ['miss_result'] =[]\n",
        "\n",
        "for claims, evidences, predicted_label, truth in zip(test['Claim'], test['CDE'], predictions, y_test):\n",
        "    if predicted_label != truth:\n",
        "        predicted_miss_s['miss_result'].append({\n",
        "            \"predicted_claims\": claims,\n",
        "            \"predicted_evidences\": evidences,\n",
        "            \"predicted_label\": predicted_label,\n",
        "            \"truth\" : truth\n",
        "        })\n"
      ],
      "metadata": {
        "id": "AVZlq_dg2fuI"
      },
      "execution_count": null,
      "outputs": []
    },
    {
      "cell_type": "code",
      "source": [
        "len(predicted_miss_s ['miss_result'])"
      ],
      "metadata": {
        "colab": {
          "base_uri": "https://localhost:8080/"
        },
        "id": "uulS27Vt354Y",
        "outputId": "4f734744-0ede-4884-d125-fc1314f926ca"
      },
      "execution_count": null,
      "outputs": [
        {
          "output_type": "execute_result",
          "data": {
            "text/plain": [
              "46"
            ]
          },
          "metadata": {},
          "execution_count": 48
        }
      ]
    },
    {
      "cell_type": "code",
      "source": [
        "data = predicted_result_s['result']\n",
        "df = pd.DataFrame(data)\n",
        "writer = pd.ExcelWriter('/content/drive/MyDrive/Yan/predicted_resul_s.xlsx', engine='xlsxwriter')\n",
        "df.to_excel(writer, index = False )\n",
        "writer.save()"
      ],
      "metadata": {
        "id": "yMjjkkTnEK8y"
      },
      "execution_count": null,
      "outputs": []
    },
    {
      "cell_type": "code",
      "source": [
        "data = predicted_true_s['true_result']#323\n",
        "df = pd.DataFrame(data)\n",
        "writer = pd.ExcelWriter('/content/drive/MyDrive/Yan/predicted_true_s.xlsx', engine='xlsxwriter')\n",
        "df.to_excel(writer, index = False )\n",
        "writer.save()"
      ],
      "metadata": {
        "id": "0BRlgxhuMNXh"
      },
      "execution_count": null,
      "outputs": []
    },
    {
      "cell_type": "code",
      "source": [
        "data =predicted_miss_s ['miss_result']\n",
        "df = pd.DataFrame(data)\n",
        "writer = pd.ExcelWriter('/content/drive/MyDrive/Yan/predicted_miss_s.xlsx', engine='xlsxwriter')\n",
        "df.to_excel(writer, index = False )\n",
        "writer.save()"
      ],
      "metadata": {
        "id": "tkNQrMSw3p4H"
      },
      "execution_count": null,
      "outputs": []
    },
    {
      "cell_type": "code",
      "source": [
        "from google.colab import drive\n",
        "drive.mount('/content/drive')"
      ],
      "metadata": {
        "id": "rHbHVoFWIXoJ"
      },
      "execution_count": null,
      "outputs": []
    },
    {
      "cell_type": "code",
      "source": [
        "print(len(predicted_result_s['result'] ))\n",
        "len(predicted_true_s['true_result'])\n"
      ],
      "metadata": {
        "colab": {
          "base_uri": "https://localhost:8080/"
        },
        "id": "EhD8tWeDvmWy",
        "outputId": "fdc2f62d-6574-4a04-f639-dc9a3831f38c"
      },
      "execution_count": null,
      "outputs": [
        {
          "output_type": "stream",
          "name": "stdout",
          "text": [
            "332\n"
          ]
        },
        {
          "output_type": "execute_result",
          "data": {
            "text/plain": [
              "323"
            ]
          },
          "metadata": {},
          "execution_count": 35
        }
      ]
    },
    {
      "cell_type": "code",
      "source": [
        "len(predicted_miss_s ['miss_result'])"
      ],
      "metadata": {
        "colab": {
          "base_uri": "https://localhost:8080/"
        },
        "id": "qkz3Oi9S7CYB",
        "outputId": "3af8ca74-a7dc-42a8-8599-7063111ca51f"
      },
      "execution_count": null,
      "outputs": [
        {
          "output_type": "execute_result",
          "data": {
            "text/plain": [
              "46"
            ]
          },
          "metadata": {},
          "execution_count": 50
        }
      ]
    }
  ]
}