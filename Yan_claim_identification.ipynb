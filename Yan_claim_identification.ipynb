{
  "cells": [
    {
      "cell_type": "markdown",
      "metadata": {
        "id": "view-in-github",
        "colab_type": "text"
      },
      "source": [
        "<a href=\"https://colab.research.google.com/github/carol1521/2-tier-Argumentation-Framework/blob/main/Yan_claim_identification.ipynb\" target=\"_parent\"><img src=\"https://colab.research.google.com/assets/colab-badge.svg\" alt=\"Open In Colab\"/></a>"
      ]
    },
    {
      "cell_type": "markdown",
      "metadata": {
        "id": "EnMtDZFn6jow"
      },
      "source": [
        "# Claim_detection"
      ]
    },
    {
      "cell_type": "markdown",
      "metadata": {
        "id": "wdOyU5HX7V2I"
      },
      "source": [
        "## Reading_data"
      ]
    },
    {
      "cell_type": "code",
      "execution_count": null,
      "metadata": {
        "id": "BL3gpWUCW6b-"
      },
      "outputs": [],
      "source": [
        "!pip install scikit-plot"
      ]
    },
    {
      "cell_type": "code",
      "execution_count": null,
      "metadata": {
        "id": "ebp0H5LmXOcw"
      },
      "outputs": [],
      "source": [
        "import tensorflow as tf"
      ]
    },
    {
      "cell_type": "code",
      "execution_count": null,
      "metadata": {
        "colab": {
          "base_uri": "https://localhost:8080/"
        },
        "id": "fgpmWR8bXb9L",
        "outputId": "0c1fb04a-5296-4f92-f9af-3a8cce421e7a"
      },
      "outputs": [
        {
          "name": "stdout",
          "output_type": "stream",
          "text": [
            "/content/gdrive/MyDrive/Yan/IBM_Debater_(R)_CS_EACL-2017.v1/\n",
            "/content/drive/MyDrive/Yan/IBM_Debater_(R)_CE-ACL-2014.v0\n"
          ]
        }
      ],
      "source": [
        "import numpy as np\n",
        "import pandas as pd\n",
        "import string\n",
        "import nltk\n",
        "import gensim\n",
        "import os\n",
        "import warnings\n",
        "import matplotlib.pyplot as plt\n",
        "import scikitplot as skplt\n",
        "import networkx as nx\n",
        " \n",
        "from nltk.tokenize.punkt import PunktSentenceTokenizer\n",
        "from sklearn.feature_extraction.text import TfidfTransformer, CountVectorizer\n",
        "\n",
        "from sklearn.model_selection import train_test_split\n",
        "from sklearn.metrics.pairwise import cosine_similarity\n",
        "from sklearn.metrics import f1_score, recall_score, precision_score\n",
        "\n",
        "from keras.models import load_model\n",
        "from keras.models import Sequential\n",
        "from keras.layers import Dense, Flatten,TimeDistributed,LSTM\n",
        "from keras.callbacks import EarlyStopping, ModelCheckpoint\n",
        "\n",
        "%notebook inline\n",
        "warnings.filterwarnings(\"ignore\")\n",
        "root_train = os.getcwd() + '/gdrive/MyDrive/Yan/IBM_Debater_(R)_CS_EACL-2017.v1/'\n",
        "root_test = os.getcwd() + '/drive/MyDrive/Yan/IBM_Debater_(R)_CE-ACL-2014.v0'\n",
        "print(root_train)\n",
        "print(root_test)"
      ]
    },
    {
      "cell_type": "code",
      "execution_count": null,
      "metadata": {
        "colab": {
          "base_uri": "https://localhost:8080/"
        },
        "id": "gdKefXYhJ1MJ",
        "outputId": "23986dce-087b-4697-e83a-b446afc4b65e"
      },
      "outputs": [
        {
          "name": "stdout",
          "output_type": "stream",
          "text": [
            "Drive already mounted at /content/drive; to attempt to forcibly remount, call drive.mount(\"/content/drive\", force_remount=True).\n"
          ]
        }
      ],
      "source": [
        "from google.colab import drive\n",
        "drive.mount('/content/drive')"
      ]
    },
    {
      "cell_type": "code",
      "execution_count": null,
      "metadata": {
        "id": "ir60PwXRXhc3"
      },
      "outputs": [],
      "source": [
        "def read_file(filename):\n",
        "    data = []\n",
        "    with open(filename, 'r') as f:\n",
        "        text = f.read().split('\\n')\n",
        "        for parag in text:\n",
        "            if len(parag) >2:\n",
        "                data = data + [a for a in parag.split('. ') if len(a)>0]\n",
        "                \n",
        "    return data"
      ]
    },
    {
      "cell_type": "code",
      "execution_count": null,
      "metadata": {
        "id": "p_XyjtR7Kb2n"
      },
      "outputs": [],
      "source": [
        "articles_train = dict()\n",
        "for subdir, dirs, files in os.walk('/content/drive/MyDrive/Yan/IBM_Debater_(R)_CS_EACL-2017.v1/articles'):\n",
        "    for file in files:\n",
        "        if file[-3:] == 'txt' and file[:5] == 'clean':\n",
        "            filename = os.path.join(subdir, file)\n",
        "            articles_train[file] = read_file(filename)"
      ]
    },
    {
      "cell_type": "code",
      "execution_count": null,
      "metadata": {
        "colab": {
          "background_save": true
        },
        "id": "XSrcsdfxXmAq"
      },
      "outputs": [],
      "source": [
        "articles_test = dict()\n",
        "for subdir, dirs, files in os.walk('/content/drive/MyDrive/Yan/IBM_Debater_(R)_CE-ACL-2014.v0/wiki12_articles'):\n",
        " \n",
        "\n",
        "    for file in files:\n",
        "        #if file[-3:] == 'txt' and file[:5] == 'clean':\n",
        "        filename = os.path.join(subdir, file)\n",
        "        print(filename)\n",
        "        articles_test[file] = read_file(filename)\n"
      ]
    },
    {
      "cell_type": "code",
      "execution_count": null,
      "metadata": {
        "colab": {
          "background_save": true
        },
        "id": "VqQk3mfXQIQV"
      },
      "outputs": [],
      "source": [
        "claimDF_train= pd.read_csv(\"/content/drive/MyDrive/Yan/IBM_Debater_(R)_CS_EACL-2017.v1/claim_stance_dataset_v1.csv\")\n",
        "article_paths_train = set(claimDF_train['claims.article.cleanFile'])\n",
        "print(article_paths_train)"
      ]
    },
    {
      "cell_type": "code",
      "execution_count": null,
      "metadata": {
        "colab": {
          "background_save": true
        },
        "id": "bogz7rJFepE3"
      },
      "outputs": [],
      "source": [
        "claimDF_test = pd.read_excel(\"/content/drive/MyDrive/Yan/IBM_Debater_(R)_CE-ACL-2014.v0/2014_7_18_ibm_CDCdata(cleaned_2).xlsx\")\n",
        "article_paths_test = set(claimDF_test['Article'])\n",
        "print(article_paths_test)"
      ]
    },
    {
      "cell_type": "code",
      "execution_count": null,
      "metadata": {
        "colab": {
          "background_save": true,
          "base_uri": "https://localhost:8080/",
          "height": 708
        },
        "id": "b3aGuuh2Qe8i",
        "outputId": "0f3fe132-cd6b-411e-9c26-d06cb39e15e5"
      },
      "outputs": [
        {
          "data": {
            "text/html": [
              "\n",
              "  <div id=\"df-3a11ac61-30a1-403f-bb65-a5dd861f9b6a\">\n",
              "    <div class=\"colab-df-container\">\n",
              "      <div>\n",
              "<style scoped>\n",
              "    .dataframe tbody tr th:only-of-type {\n",
              "        vertical-align: middle;\n",
              "    }\n",
              "\n",
              "    .dataframe tbody tr th {\n",
              "        vertical-align: top;\n",
              "    }\n",
              "\n",
              "    .dataframe thead th {\n",
              "        text-align: right;\n",
              "    }\n",
              "</style>\n",
              "<table border=\"1\" class=\"dataframe\">\n",
              "  <thead>\n",
              "    <tr style=\"text-align: right;\">\n",
              "      <th></th>\n",
              "      <th>0</th>\n",
              "    </tr>\n",
              "  </thead>\n",
              "  <tbody>\n",
              "    <tr>\n",
              "      <th>topicId</th>\n",
              "      <td>1</td>\n",
              "    </tr>\n",
              "    <tr>\n",
              "      <th>split</th>\n",
              "      <td>test</td>\n",
              "    </tr>\n",
              "    <tr>\n",
              "      <th>topicText</th>\n",
              "      <td>This house believes that the sale of violent v...</td>\n",
              "    </tr>\n",
              "    <tr>\n",
              "      <th>topicTarget</th>\n",
              "      <td>the sale of violent video games to minors</td>\n",
              "    </tr>\n",
              "    <tr>\n",
              "      <th>topicSentiment</th>\n",
              "      <td>-1</td>\n",
              "    </tr>\n",
              "    <tr>\n",
              "      <th>claims.claimId</th>\n",
              "      <td>2973</td>\n",
              "    </tr>\n",
              "    <tr>\n",
              "      <th>claims.stance</th>\n",
              "      <td>PRO</td>\n",
              "    </tr>\n",
              "    <tr>\n",
              "      <th>claims.claimCorrectedText</th>\n",
              "      <td>Exposure to violent video games causes at leas...</td>\n",
              "    </tr>\n",
              "    <tr>\n",
              "      <th>claims.claimOriginalText</th>\n",
              "      <td>exposure to violent video games causes at leas...</td>\n",
              "    </tr>\n",
              "    <tr>\n",
              "      <th>claims.article.rawFile</th>\n",
              "      <td>articles/t1/raw_1.txt</td>\n",
              "    </tr>\n",
              "    <tr>\n",
              "      <th>claims.article.rawSpan.start</th>\n",
              "      <td>490</td>\n",
              "    </tr>\n",
              "    <tr>\n",
              "      <th>claims.article.rawSpan.end</th>\n",
              "      <td>640</td>\n",
              "    </tr>\n",
              "    <tr>\n",
              "      <th>claims.article.cleanFile</th>\n",
              "      <td>articles/t1/clean_1.txt</td>\n",
              "    </tr>\n",
              "    <tr>\n",
              "      <th>claims.article.cleanSpan.start</th>\n",
              "      <td>418</td>\n",
              "    </tr>\n",
              "    <tr>\n",
              "      <th>claims.article.cleanSpan.end</th>\n",
              "      <td>568</td>\n",
              "    </tr>\n",
              "    <tr>\n",
              "      <th>claims.Compatible</th>\n",
              "      <td>yes</td>\n",
              "    </tr>\n",
              "    <tr>\n",
              "      <th>claims.claimTarget.text</th>\n",
              "      <td>Exposure to violent video games</td>\n",
              "    </tr>\n",
              "    <tr>\n",
              "      <th>claims.claimTarget.span.start</th>\n",
              "      <td>0</td>\n",
              "    </tr>\n",
              "    <tr>\n",
              "      <th>claims.claimTarget.span.end</th>\n",
              "      <td>31</td>\n",
              "    </tr>\n",
              "    <tr>\n",
              "      <th>claims.claimSentiment</th>\n",
              "      <td>-1</td>\n",
              "    </tr>\n",
              "    <tr>\n",
              "      <th>claims.targetsRelation</th>\n",
              "      <td>1</td>\n",
              "    </tr>\n",
              "  </tbody>\n",
              "</table>\n",
              "</div>\n",
              "      <button class=\"colab-df-convert\" onclick=\"convertToInteractive('df-3a11ac61-30a1-403f-bb65-a5dd861f9b6a')\"\n",
              "              title=\"Convert this dataframe to an interactive table.\"\n",
              "              style=\"display:none;\">\n",
              "        \n",
              "  <svg xmlns=\"http://www.w3.org/2000/svg\" height=\"24px\"viewBox=\"0 0 24 24\"\n",
              "       width=\"24px\">\n",
              "    <path d=\"M0 0h24v24H0V0z\" fill=\"none\"/>\n",
              "    <path d=\"M18.56 5.44l.94 2.06.94-2.06 2.06-.94-2.06-.94-.94-2.06-.94 2.06-2.06.94zm-11 1L8.5 8.5l.94-2.06 2.06-.94-2.06-.94L8.5 2.5l-.94 2.06-2.06.94zm10 10l.94 2.06.94-2.06 2.06-.94-2.06-.94-.94-2.06-.94 2.06-2.06.94z\"/><path d=\"M17.41 7.96l-1.37-1.37c-.4-.4-.92-.59-1.43-.59-.52 0-1.04.2-1.43.59L10.3 9.45l-7.72 7.72c-.78.78-.78 2.05 0 2.83L4 21.41c.39.39.9.59 1.41.59.51 0 1.02-.2 1.41-.59l7.78-7.78 2.81-2.81c.8-.78.8-2.07 0-2.86zM5.41 20L4 18.59l7.72-7.72 1.47 1.35L5.41 20z\"/>\n",
              "  </svg>\n",
              "      </button>\n",
              "      \n",
              "  <style>\n",
              "    .colab-df-container {\n",
              "      display:flex;\n",
              "      flex-wrap:wrap;\n",
              "      gap: 12px;\n",
              "    }\n",
              "\n",
              "    .colab-df-convert {\n",
              "      background-color: #E8F0FE;\n",
              "      border: none;\n",
              "      border-radius: 50%;\n",
              "      cursor: pointer;\n",
              "      display: none;\n",
              "      fill: #1967D2;\n",
              "      height: 32px;\n",
              "      padding: 0 0 0 0;\n",
              "      width: 32px;\n",
              "    }\n",
              "\n",
              "    .colab-df-convert:hover {\n",
              "      background-color: #E2EBFA;\n",
              "      box-shadow: 0px 1px 2px rgba(60, 64, 67, 0.3), 0px 1px 3px 1px rgba(60, 64, 67, 0.15);\n",
              "      fill: #174EA6;\n",
              "    }\n",
              "\n",
              "    [theme=dark] .colab-df-convert {\n",
              "      background-color: #3B4455;\n",
              "      fill: #D2E3FC;\n",
              "    }\n",
              "\n",
              "    [theme=dark] .colab-df-convert:hover {\n",
              "      background-color: #434B5C;\n",
              "      box-shadow: 0px 1px 3px 1px rgba(0, 0, 0, 0.15);\n",
              "      filter: drop-shadow(0px 1px 2px rgba(0, 0, 0, 0.3));\n",
              "      fill: #FFFFFF;\n",
              "    }\n",
              "  </style>\n",
              "\n",
              "      <script>\n",
              "        const buttonEl =\n",
              "          document.querySelector('#df-3a11ac61-30a1-403f-bb65-a5dd861f9b6a button.colab-df-convert');\n",
              "        buttonEl.style.display =\n",
              "          google.colab.kernel.accessAllowed ? 'block' : 'none';\n",
              "\n",
              "        async function convertToInteractive(key) {\n",
              "          const element = document.querySelector('#df-3a11ac61-30a1-403f-bb65-a5dd861f9b6a');\n",
              "          const dataTable =\n",
              "            await google.colab.kernel.invokeFunction('convertToInteractive',\n",
              "                                                     [key], {});\n",
              "          if (!dataTable) return;\n",
              "\n",
              "          const docLinkHtml = 'Like what you see? Visit the ' +\n",
              "            '<a target=\"_blank\" href=https://colab.research.google.com/notebooks/data_table.ipynb>data table notebook</a>'\n",
              "            + ' to learn more about interactive tables.';\n",
              "          element.innerHTML = '';\n",
              "          dataTable['output_type'] = 'display_data';\n",
              "          await google.colab.output.renderOutput(dataTable, element);\n",
              "          const docLink = document.createElement('div');\n",
              "          docLink.innerHTML = docLinkHtml;\n",
              "          element.appendChild(docLink);\n",
              "        }\n",
              "      </script>\n",
              "    </div>\n",
              "  </div>\n",
              "  "
            ],
            "text/plain": [
              "                                                                                0\n",
              "topicId                                                                         1\n",
              "split                                                                        test\n",
              "topicText                       This house believes that the sale of violent v...\n",
              "topicTarget                             the sale of violent video games to minors\n",
              "topicSentiment                                                                 -1\n",
              "claims.claimId                                                               2973\n",
              "claims.stance                                                                 PRO\n",
              "claims.claimCorrectedText       Exposure to violent video games causes at leas...\n",
              "claims.claimOriginalText        exposure to violent video games causes at leas...\n",
              "claims.article.rawFile                                      articles/t1/raw_1.txt\n",
              "claims.article.rawSpan.start                                                  490\n",
              "claims.article.rawSpan.end                                                    640\n",
              "claims.article.cleanFile                                  articles/t1/clean_1.txt\n",
              "claims.article.cleanSpan.start                                                418\n",
              "claims.article.cleanSpan.end                                                  568\n",
              "claims.Compatible                                                             yes\n",
              "claims.claimTarget.text                           Exposure to violent video games\n",
              "claims.claimTarget.span.start                                                   0\n",
              "claims.claimTarget.span.end                                                    31\n",
              "claims.claimSentiment                                                          -1\n",
              "claims.targetsRelation                                                          1"
            ]
          },
          "execution_count": null,
          "metadata": {},
          "output_type": "execute_result"
        }
      ],
      "source": [
        "claimDF_train[:1].T"
      ]
    },
    {
      "cell_type": "code",
      "execution_count": null,
      "metadata": {
        "colab": {
          "background_save": true,
          "base_uri": "https://localhost:8080/",
          "height": 238
        },
        "id": "bC7UoaAcieW0",
        "outputId": "83f2f76c-b8f8-4117-f802-ea7e6db43259"
      },
      "outputs": [
        {
          "data": {
            "text/html": [
              "\n",
              "  <div id=\"df-dbe29ad8-0a55-4605-86c6-a23eedc389cd\">\n",
              "    <div class=\"colab-df-container\">\n",
              "      <div>\n",
              "<style scoped>\n",
              "    .dataframe tbody tr th:only-of-type {\n",
              "        vertical-align: middle;\n",
              "    }\n",
              "\n",
              "    .dataframe tbody tr th {\n",
              "        vertical-align: top;\n",
              "    }\n",
              "\n",
              "    .dataframe thead th {\n",
              "        text-align: right;\n",
              "    }\n",
              "</style>\n",
              "<table border=\"1\" class=\"dataframe\">\n",
              "  <thead>\n",
              "    <tr style=\"text-align: right;\">\n",
              "      <th></th>\n",
              "      <th>0</th>\n",
              "    </tr>\n",
              "  </thead>\n",
              "  <tbody>\n",
              "    <tr>\n",
              "      <th>Topicc</th>\n",
              "      <td>the sale of violent video games to minors</td>\n",
              "    </tr>\n",
              "    <tr>\n",
              "      <th>Article</th>\n",
              "      <td>Video_game_controversies</td>\n",
              "    </tr>\n",
              "    <tr>\n",
              "      <th>Claim</th>\n",
              "      <td>exposure to violent video games causes at leas...</td>\n",
              "    </tr>\n",
              "    <tr>\n",
              "      <th>Requires correction</th>\n",
              "      <td>True</td>\n",
              "    </tr>\n",
              "    <tr>\n",
              "      <th>Correction type</th>\n",
              "      <td>NaN</td>\n",
              "    </tr>\n",
              "    <tr>\n",
              "      <th>Corrected Text</th>\n",
              "      <td>Exposure to violent video games causes at leas...</td>\n",
              "    </tr>\n",
              "  </tbody>\n",
              "</table>\n",
              "</div>\n",
              "      <button class=\"colab-df-convert\" onclick=\"convertToInteractive('df-dbe29ad8-0a55-4605-86c6-a23eedc389cd')\"\n",
              "              title=\"Convert this dataframe to an interactive table.\"\n",
              "              style=\"display:none;\">\n",
              "        \n",
              "  <svg xmlns=\"http://www.w3.org/2000/svg\" height=\"24px\"viewBox=\"0 0 24 24\"\n",
              "       width=\"24px\">\n",
              "    <path d=\"M0 0h24v24H0V0z\" fill=\"none\"/>\n",
              "    <path d=\"M18.56 5.44l.94 2.06.94-2.06 2.06-.94-2.06-.94-.94-2.06-.94 2.06-2.06.94zm-11 1L8.5 8.5l.94-2.06 2.06-.94-2.06-.94L8.5 2.5l-.94 2.06-2.06.94zm10 10l.94 2.06.94-2.06 2.06-.94-2.06-.94-.94-2.06-.94 2.06-2.06.94z\"/><path d=\"M17.41 7.96l-1.37-1.37c-.4-.4-.92-.59-1.43-.59-.52 0-1.04.2-1.43.59L10.3 9.45l-7.72 7.72c-.78.78-.78 2.05 0 2.83L4 21.41c.39.39.9.59 1.41.59.51 0 1.02-.2 1.41-.59l7.78-7.78 2.81-2.81c.8-.78.8-2.07 0-2.86zM5.41 20L4 18.59l7.72-7.72 1.47 1.35L5.41 20z\"/>\n",
              "  </svg>\n",
              "      </button>\n",
              "      \n",
              "  <style>\n",
              "    .colab-df-container {\n",
              "      display:flex;\n",
              "      flex-wrap:wrap;\n",
              "      gap: 12px;\n",
              "    }\n",
              "\n",
              "    .colab-df-convert {\n",
              "      background-color: #E8F0FE;\n",
              "      border: none;\n",
              "      border-radius: 50%;\n",
              "      cursor: pointer;\n",
              "      display: none;\n",
              "      fill: #1967D2;\n",
              "      height: 32px;\n",
              "      padding: 0 0 0 0;\n",
              "      width: 32px;\n",
              "    }\n",
              "\n",
              "    .colab-df-convert:hover {\n",
              "      background-color: #E2EBFA;\n",
              "      box-shadow: 0px 1px 2px rgba(60, 64, 67, 0.3), 0px 1px 3px 1px rgba(60, 64, 67, 0.15);\n",
              "      fill: #174EA6;\n",
              "    }\n",
              "\n",
              "    [theme=dark] .colab-df-convert {\n",
              "      background-color: #3B4455;\n",
              "      fill: #D2E3FC;\n",
              "    }\n",
              "\n",
              "    [theme=dark] .colab-df-convert:hover {\n",
              "      background-color: #434B5C;\n",
              "      box-shadow: 0px 1px 3px 1px rgba(0, 0, 0, 0.15);\n",
              "      filter: drop-shadow(0px 1px 2px rgba(0, 0, 0, 0.3));\n",
              "      fill: #FFFFFF;\n",
              "    }\n",
              "  </style>\n",
              "\n",
              "      <script>\n",
              "        const buttonEl =\n",
              "          document.querySelector('#df-dbe29ad8-0a55-4605-86c6-a23eedc389cd button.colab-df-convert');\n",
              "        buttonEl.style.display =\n",
              "          google.colab.kernel.accessAllowed ? 'block' : 'none';\n",
              "\n",
              "        async function convertToInteractive(key) {\n",
              "          const element = document.querySelector('#df-dbe29ad8-0a55-4605-86c6-a23eedc389cd');\n",
              "          const dataTable =\n",
              "            await google.colab.kernel.invokeFunction('convertToInteractive',\n",
              "                                                     [key], {});\n",
              "          if (!dataTable) return;\n",
              "\n",
              "          const docLinkHtml = 'Like what you see? Visit the ' +\n",
              "            '<a target=\"_blank\" href=https://colab.research.google.com/notebooks/data_table.ipynb>data table notebook</a>'\n",
              "            + ' to learn more about interactive tables.';\n",
              "          element.innerHTML = '';\n",
              "          dataTable['output_type'] = 'display_data';\n",
              "          await google.colab.output.renderOutput(dataTable, element);\n",
              "          const docLink = document.createElement('div');\n",
              "          docLink.innerHTML = docLinkHtml;\n",
              "          element.appendChild(docLink);\n",
              "        }\n",
              "      </script>\n",
              "    </div>\n",
              "  </div>\n",
              "  "
            ],
            "text/plain": [
              "                                                                     0\n",
              "Topicc                      the sale of violent video games to minors \n",
              "Article                                       Video_game_controversies\n",
              "Claim                exposure to violent video games causes at leas...\n",
              "Requires correction                                               True\n",
              "Correction type                                                    NaN\n",
              "Corrected Text       Exposure to violent video games causes at leas..."
            ]
          },
          "execution_count": null,
          "metadata": {},
          "output_type": "execute_result"
        }
      ],
      "source": [
        "claimDF_test[:1].T"
      ]
    },
    {
      "cell_type": "code",
      "execution_count": null,
      "metadata": {
        "colab": {
          "background_save": true
        },
        "id": "rHWtPsmwigcx"
      },
      "outputs": [],
      "source": [
        "def textrank(sentences):\n",
        "#     sentence_tokenizer = PunktSentenceTokenizer()\n",
        "#     sentences = sentence_tokenizer.tokenize(document)\n",
        " \n",
        "    bow_matrix = CountVectorizer().fit_transform(sentences)\n",
        "    normalized = TfidfTransformer().fit_transform(bow_matrix)\n",
        " \n",
        "    similarity_graph = normalized * normalized.T\n",
        " \n",
        "    nx_graph = nx.from_scipy_sparse_matrix(similarity_graph)\n",
        "    scores = nx.pagerank(nx_graph)\n",
        "    \n",
        "    return dict((s, scores[i]) for i,s in enumerate(sentences))"
      ]
    },
    {
      "cell_type": "code",
      "execution_count": null,
      "metadata": {
        "id": "KPG_2kNcTQMD"
      },
      "outputs": [],
      "source": [
        ""
      ]
    },
    {
      "cell_type": "code",
      "execution_count": null,
      "metadata": {
        "id": "TVUIibNwSSrw"
      },
      "outputs": [],
      "source": [
        "articles_tags_train = []\n",
        "articles_sent_length_train = []\n",
        "sentences_train = []\n",
        "topics_train = []\n",
        "article_locs_train = []\n",
        "article_rank_train = []\n",
        "\n",
        "for a in article_paths_train:\n",
        "    article_name = a.split('/')[-1]\n",
        "    #print(article_name)\n",
        "    #print(articles)\n",
        "    \n",
        "    sents = articles_train[article_name]\n",
        "    rank_dict = textrank(sents)\n",
        "    claims = list(claimDF_train[claimDF_train['claims.article.cleanFile'] == a]['claims.claimOriginalText'])\n",
        "    topic = list(claimDF_train[claimDF_train['claims.article.cleanFile'] == a]['topicTarget'])[0]\n",
        "    tags = []\n",
        "    sent_length = []\n",
        "    locs = []\n",
        "    rank = []\n",
        "    \n",
        "    for i, sent in enumerate(sents):\n",
        "        # get normalized location\n",
        "        locs.append(i+1/float(len(sents)))\n",
        "        \n",
        "        # get text rank score\n",
        "        r = rank_dict[sent]\n",
        "        rank.append(r)\n",
        "        \n",
        "        # get sent length\n",
        "        tokens = [a for a in sent.split() if a != '']\n",
        "        sent_length.append(len(tokens))\n",
        "        \n",
        "        topics_train.append(topic)\n",
        "        flag = False\n",
        "        for claim in claims:\n",
        "            if claim in sent:\n",
        "                tags.append(1)\n",
        "                claims.remove(claim)\n",
        "                flag = True\n",
        "                break\n",
        "        if not flag:\n",
        "            tags.append(0)  \n",
        "    \n",
        "    sentences_train.append(sents)\n",
        "    articles_tags_train.append(tags)\n",
        "    article_locs_train.append(locs)\n",
        "    articles_sent_length_train.append(sent_length)\n",
        "    article_rank_train.append(rank)\n",
        "    "
      ]
    },
    {
      "cell_type": "code",
      "execution_count": null,
      "metadata": {
        "id": "w_amaJ6PW7U3"
      },
      "outputs": [],
      "source": [
        "d_train = {'sentences': sum(sentences_train, []), \n",
        "     'topic': topics_train, \n",
        "     'length': sum(articles_sent_length_train, []), \n",
        "     'label': sum(articles_tags_train, []),\n",
        "    'loc': sum(article_locs_train, []),\n",
        "    'rank': sum(article_rank_train, [])}\n",
        "df_train = pd.DataFrame(d_train)"
      ]
    },
    {
      "cell_type": "code",
      "execution_count": null,
      "metadata": {
        "id": "TPs46r-ziojU"
      },
      "outputs": [],
      "source": [
        "#test\n",
        "articles_tags_test = []\n",
        "articles_sent_length_test = []\n",
        "sentences_test = []\n",
        "topics_test = []\n",
        "article_locs_test = []\n",
        "article_rank_test = []\n",
        "\n",
        "for a in article_paths_test:\n",
        "    article_name = a.split('/')[-1]\n",
        "    print(article_name)\n",
        "    #print(articles)\n",
        "    \n",
        "    sents = articles_test[article_name]\n",
        "    rank_dict = textrank(sents)\n",
        "    claims = list(claimDF_test[claimDF_test['Article'] == a]['Claim'])\n",
        "    topic = list(claimDF_test[claimDF_test['Article'] == a]['Topicc'])[0]\n",
        "    tags = []\n",
        "    sent_length = []\n",
        "    locs = []\n",
        "    rank = []\n",
        "    \n",
        "    for i, sent in enumerate(sents):\n",
        "        # get normalized location\n",
        "        locs.append(i+1/float(len(sents)))\n",
        "        \n",
        "        # get text rank score\n",
        "        r = rank_dict[sent]\n",
        "        rank.append(r)\n",
        "        \n",
        "        # get sent length\n",
        "        tokens = [a for a in sent.split() if a != '']\n",
        "        sent_length.append(len(tokens))\n",
        "        \n",
        "        topics_test.append(topic)\n",
        "        flag = False\n",
        "        for claim in claims:\n",
        "            if claim in sent:\n",
        "                tags.append(1)\n",
        "                claims.remove(claim)\n",
        "                flag = True\n",
        "                break\n",
        "        if not flag:\n",
        "            tags.append(0)  \n",
        "    \n",
        "    sentences_test.append(sents)\n",
        "    articles_tags_test.append(tags)\n",
        "    article_locs_test.append(locs)\n",
        "    articles_sent_length_test.append(sent_length)\n",
        "    article_rank_test.append(rank)\n",
        "    "
      ]
    },
    {
      "cell_type": "code",
      "execution_count": null,
      "metadata": {
        "id": "oogN_hXZPiIr"
      },
      "outputs": [],
      "source": [
        "#test\n",
        "d_test = {'sentences': sum(sentences_test, []), \n",
        "     'topic': topics_test, \n",
        "     'length': sum(articles_sent_length_test, []), \n",
        "     'label': sum(articles_tags_test, []),\n",
        "    'loc': sum(article_locs_test, []),\n",
        "    'rank': sum(article_rank_test, [])}\n",
        "df_test = pd.DataFrame(d_test)"
      ]
    },
    {
      "cell_type": "code",
      "execution_count": null,
      "metadata": {
        "id": "ixngHUL9Pi2M"
      },
      "outputs": [],
      "source": [
        "#test\n",
        "data_test= list(zip(sum(sentences_test, []), topics_test,\\\n",
        "           sum(articles_sent_length_test, []), sum(articles_tags_test, []), \\\n",
        "           sum(article_locs_test, []),sum(article_locs_test, [])))\n",
        "\n",
        "# sentence, topic, length, label, loc, rank"
      ]
    },
    {
      "cell_type": "markdown",
      "metadata": {
        "id": "1yvt5Km47jWh"
      },
      "source": [
        "## feature"
      ]
    },
    {
      "cell_type": "code",
      "execution_count": null,
      "metadata": {
        "id": "-aZ6kPNy_xeN"
      },
      "outputs": [],
      "source": [
        "def get_word2vec(sentences, location):\n",
        "    \"\"\"Returns trained word2vec\n",
        "    \n",
        "    Args:\n",
        "        sentences: iterator for sentences\n",
        "        \n",
        "        location (str): Path to save/load word2vec\n",
        "    \"\"\"\n",
        "    if os.path.exists(location):\n",
        "        print('Found {}'.format(location))\n",
        "        model = gensim.models.Word2Vec.load(location)\n",
        "        return model\n",
        "    \n",
        "    print('{} not found. training model'.format(location))\n",
        "    model = gensim.models.Word2Vec(sentences, size=100, window=5, min_count=5, workers=4)\n",
        "    print('Model done training. Saving to disk')\n",
        "    model.save(location)\n",
        "    return model\n",
        "\n",
        "class MeanEmbeddingVectorizer(object):\n",
        "    def __init__(self, word2vec):\n",
        "        self.word2vec = word2vec\n",
        "        # if a text is empty we should return a vector of zeros\n",
        "        # with the same dimensionality as all the other vectors\n",
        "        self.dim = len(word2vec.wv.syn0[0])\n",
        "\n",
        "    def fit(self, X, y=None):\n",
        "        return self\n",
        "\n",
        "    def transform(self, X):\n",
        "#         X = MyTokenizer().fit_transform(X)\n",
        "\n",
        "        X = X.split(' ')\n",
        "        emb = []\n",
        "        for word in X:\n",
        "            if word in self.word2vec.wv:\n",
        "                emb.append(self.word2vec.wv[word])\n",
        "            else:\n",
        "                emb.append(np.zeros(self.dim))\n",
        "        return np.mean(emb, axis = 0) #.reshape(1, 100)[0]\n",
        "        \n",
        "    \n",
        "    def fit_transform(self, X, y=None):\n",
        "        return self.transform(X)"
      ]
    },
    {
      "cell_type": "code",
      "execution_count": null,
      "metadata": {
        "id": "UKDJcszaT93v"
      },
      "outputs": [],
      "source": [
        "x = []\n",
        "w2vec = get_word2vec(x, '/content/drive/MyDrive/Yan/w2vmodel')     #note, model is trained in 2_data_cleaning_word2vec script"
      ]
    },
    {
      "cell_type": "code",
      "execution_count": null,
      "metadata": {
        "id": "QDG2o6AHWOYE"
      },
      "outputs": [],
      "source": [
        "mean_embedding_vectorizer = MeanEmbeddingVectorizer(w2vec)"
      ]
    },
    {
      "cell_type": "code",
      "execution_count": null,
      "metadata": {
        "id": "m9XlgoGeWOmD"
      },
      "outputs": [],
      "source": [
        "def flatten(L):\n",
        "    for item in L:\n",
        "        try:\n",
        "            yield from flatten(item)\n",
        "        except TypeError:\n",
        "            yield item"
      ]
    },
    {
      "cell_type": "code",
      "execution_count": null,
      "metadata": {
        "id": "o8hVy6ZkVNFc"
      },
      "outputs": [],
      "source": [
        "import nltk\n",
        "nltk.download('punkt')"
      ]
    },
    {
      "cell_type": "code",
      "execution_count": null,
      "metadata": {
        "id": "qnU5uv4jWOtp"
      },
      "outputs": [],
      "source": [
        "def prepare_data(tmp, mean_embedding_vectorizer = mean_embedding_vectorizer):\n",
        "    tmp['embed_sent'] = tmp['sentences'].apply(lambda x: mean_embedding_vectorizer.transform(x))\n",
        "    tmp['embed_t']= tmp['topic'].apply(lambda x: mean_embedding_vectorizer.transform(x))\n",
        "    tmp['similarity'] = tmp.apply(lambda x: cosine_similarity(x['embed_t'].reshape(1, -1),\\\n",
        "                                                              x['embed_sent'].reshape(1, -1))[0][0],1)\n",
        "    \n",
        "    tmp_y = list(tmp['label'])\n",
        "    y = np.zeros((len(tmp_y), 2))\n",
        "    for i, a in enumerate(tmp_y):\n",
        "        y[i][a] = 1\n",
        "    \n",
        "    \n",
        "    col = ['embed_sent', 'similarity', 'loc', 'length','rank']\n",
        "    X = tmp[col].apply(lambda x: list(flatten(x)),1)\n",
        "    X = np.array(list(X))\n",
        "    \n",
        "    return (X, y)"
      ]
    },
    {
      "cell_type": "code",
      "execution_count": null,
      "metadata": {
        "id": "S5mMiR5fXOw5"
      },
      "outputs": [],
      "source": [
        "from sklearn.utils import resample"
      ]
    },
    {
      "cell_type": "markdown",
      "metadata": {
        "id": "qDxzNekwaSEo"
      },
      "source": [
        "train sets"
      ]
    },
    {
      "cell_type": "code",
      "execution_count": null,
      "metadata": {
        "id": "t7uG0i_PXW_6"
      },
      "outputs": [],
      "source": [
        "# Separate majority and minority classes\n",
        "df_majority_train = df_train[df_train.label==0]#not claim\n",
        "df_minority_train = df_train[df_train.label==1]#claim"
      ]
    },
    {
      "cell_type": "code",
      "execution_count": null,
      "metadata": {
        "id": "tKMARxWF4Zk1"
      },
      "outputs": [],
      "source": [
        "len(df_majority_train)"
      ]
    },
    {
      "cell_type": "code",
      "execution_count": null,
      "metadata": {
        "id": "gaJ6VUXEXXKk"
      },
      "outputs": [],
      "source": [
        "len(df_majority_train)"
      ]
    },
    {
      "cell_type": "code",
      "execution_count": null,
      "metadata": {
        "id": "47aBtYc5XXQz"
      },
      "outputs": [],
      "source": [
        "len(df_minority_train)"
      ]
    },
    {
      "cell_type": "code",
      "execution_count": null,
      "metadata": {
        "id": "xBbRr9-IXXTr"
      },
      "outputs": [],
      "source": [
        "NUMBER_PER_CLASS = 10000\n",
        "# Upsample minority class\n",
        "df_minority_upsampled_train = resample(df_minority_train, \n",
        "                                 replace=True,     # sample with replacement\n",
        "                                 n_samples=NUMBER_PER_CLASS,    # to match majority class\n",
        "                                 random_state=123) # reproducible results\n",
        "\n",
        "df_majority_downsampled_train = df_majority_train.sample(NUMBER_PER_CLASS)\n",
        "\n",
        "\n",
        "# Combine majority class with upsampled minority class\n",
        "df_upsampled_train = pd.concat([df_majority_downsampled_train, df_minority_upsampled_train])"
      ]
    },
    {
      "cell_type": "markdown",
      "metadata": {
        "id": "1PVLzeT5a6s6"
      },
      "source": [
        "test sets"
      ]
    },
    {
      "cell_type": "code",
      "execution_count": null,
      "metadata": {
        "id": "DucVP2mtZTof"
      },
      "outputs": [],
      "source": [
        "# Separate majority and minority classes\n",
        "df_majority_test = df_test[df_test.label==0]#not claim\n",
        "df_minority_test = df_test[df_test.label==1]#claim"
      ]
    },
    {
      "cell_type": "code",
      "execution_count": null,
      "metadata": {
        "id": "htbALWFTZjZE"
      },
      "outputs": [],
      "source": [
        "len(df_majority_test)"
      ]
    },
    {
      "cell_type": "code",
      "execution_count": null,
      "metadata": {
        "id": "yMXONhpxZp5Z"
      },
      "outputs": [],
      "source": [
        "len(df_minority_test)"
      ]
    },
    {
      "cell_type": "code",
      "execution_count": null,
      "metadata": {
        "id": "oUQjqg2_ZxTK"
      },
      "outputs": [],
      "source": [
        "NUMBER_PER_CLASS = 3500\n",
        "# Upsample minority class\n",
        "df_minority_upsampled_test = resample(df_minority_test, \n",
        "                                 replace=True,     # sample with replacement\n",
        "                                 n_samples=NUMBER_PER_CLASS,    # to match majority class\n",
        "                                 random_state=123) # reproducible results\n",
        "\n",
        "df_majority_downsampled_test = df_majority_test.sample(NUMBER_PER_CLASS)\n",
        "\n",
        "\n",
        "# Combine majority class with upsampled minority class\n",
        "df_upsampled_test = pd.concat([df_majority_downsampled_test, df_minority_upsampled_test])"
      ]
    },
    {
      "cell_type": "code",
      "execution_count": null,
      "metadata": {
        "id": "di2gjFZLXXWQ"
      },
      "outputs": [],
      "source": [
        "#train, test = train_test_split(df_upsampled, test_size=0.2)\n",
        "train=df_upsampled_train\n",
        "test=df_upsampled_test\n",
        "#print( train,test)"
      ]
    },
    {
      "cell_type": "code",
      "execution_count": null,
      "metadata": {
        "colab": {
          "background_save": true
        },
        "id": "E2E2uaWNXXY4"
      },
      "outputs": [],
      "source": [
        "train_X, train_y = prepare_data(train)\n",
        "#test_X, test_y = prepare_data(test)"
      ]
    },
    {
      "cell_type": "code",
      "execution_count": null,
      "metadata": {
        "colab": {
          "background_save": true
        },
        "id": "I1YSQvbPF0dj"
      },
      "outputs": [],
      "source": [
        "test_X, test_y = prepare_data(test)"
      ]
    },
    {
      "cell_type": "code",
      "execution_count": null,
      "metadata": {
        "colab": {
          "base_uri": "https://localhost:8080/"
        },
        "id": "YKx526aiXrKi",
        "outputId": "5b659830-3d22-48a3-cddd-bf724dc152e1"
      },
      "outputs": [
        {
          "data": {
            "text/plain": [
              "(20000, 9)"
            ]
          },
          "execution_count": 46,
          "metadata": {},
          "output_type": "execute_result"
        }
      ],
      "source": [
        "train.shape"
      ]
    },
    {
      "cell_type": "markdown",
      "metadata": {
        "id": "9qzA89OfVvSv"
      },
      "source": [
        "## Model"
      ]
    },
    {
      "cell_type": "code",
      "execution_count": null,
      "metadata": {
        "id": "h55VvNmh0KcQ"
      },
      "outputs": [],
      "source": [
        "from keras import backend as K\n",
        "\n",
        "def recall_m(y_true, y_pred):\n",
        "    true_positives = K.sum(K.round(K.clip(y_true * y_pred, 0, 1)))#TP\n",
        "    possible_positives = K.sum(K.round(K.clip(y_true, 0, 1)))\n",
        "    recall = true_positives / (possible_positives + K.epsilon())\n",
        "    return recall\n",
        "\n",
        "def precision_m(y_true, y_pred):\n",
        "    true_positives = K.sum(K.round(K.clip(y_true * y_pred, 0, 1)))\n",
        "    predicted_positives = K.sum(K.round(K.clip(y_pred, 0, 1)))\n",
        "    precision = true_positives / (predicted_positives + K.epsilon())\n",
        "    return precision\n",
        "\n",
        "def f1_m(y_true, y_pred):\n",
        "    precision = precision_m(y_true, y_pred)\n",
        "    recall = recall_m(y_true, y_pred)\n",
        "    return 2*(precision*recall)/(precision+recall+K.epsilon())\n",
        "\n",
        "# compile the model\n",
        "#best_model.compile(optimizer='adam', loss='binary_crossentropy', metrics=['acc',f1_m,precision_m, recall_m])\n",
        "\n",
        "# fit the model\n",
        "#history = best_model.fit(train_X, train_y, validation_split=0.3, epochs=10, verbose=0)\n",
        "\n",
        "# evaluate the model\n",
        "\n",
        "\n"
      ]
    },
    {
      "cell_type": "code",
      "execution_count": null,
      "metadata": {
        "id": "OLfHAWFRXrZJ"
      },
      "outputs": [],
      "source": [
        "def model_evaluation_plt(model, test_X, test):\n",
        "    res = model.predict(test_X)\n",
        "    y_pred = res.argmax(1)\n",
        "    y_true = list(test['label'])\n",
        "    skplt.metrics.plot_confusion_matrix(y_true, y_pred)\n",
        "    #f1 = f1_m(y_true, y_pred)\n",
        "    #print(f1)\n",
        "    tensor_true, tensor_pred = K.variable(y_true), K.variable(y_pred)\n",
        "    f1 = K.get_value(f1_m(tensor_true, tensor_pred))\n",
        "    precision = K.get_value(precision_m(tensor_true, tensor_pred))\n",
        "    recall = K.get_value(recall_m (tensor_true, tensor_pred))\n",
        "    accuracy= model.evaluate(test_X, test_y, verbose=0)\n",
        "    print('f1 score:',f1)\n",
        "    print('precision :',precision)\n",
        "    print('recall:',recall)\n",
        "    print('accuracy:',accuracy[1])"
      ]
    },
    {
      "cell_type": "markdown",
      "metadata": {
        "id": "2gHvlzwF8CzW"
      },
      "source": [
        "### model_1_Feedforward neural network"
      ]
    },
    {
      "cell_type": "code",
      "execution_count": null,
      "metadata": {
        "id": "ys_v-u5eXreX"
      },
      "outputs": [],
      "source": [
        "def wrapper(name = 'm', w = 1, n_hidden = 1, layer_width = 128, activ_func = 'relu', input_dim = 104):\n",
        "    \n",
        "    path =  name\n",
        "    callbacks = [\n",
        "    EarlyStopping(monitor='val_acc', patience=0, min_delta=0.01, verbose=100, mode='auto'),\n",
        "    ModelCheckpoint(filepath = path, monitor='val_acc', verbose=0, \\\n",
        "                                    save_best_only= True, save_weights_only=False, mode='max', period=1),]\n",
        "    \n",
        "    model = Sequential() \n",
        "    \n",
        "    if activ_func == 'identity':\n",
        "        activ_func = None\n",
        "    \n",
        "    # set number of hidden layer\n",
        "    for i in range(n_hidden):\n",
        "        model.add(Dense(units= layer_width, activation= activ_func, input_dim= input_dim)) \n",
        "    \n",
        "    # make sure input_dim is initiated if there's no hidden layer\n",
        "    if n_hidden == 0:\n",
        "        input_dim = input_dim\n",
        "    else:\n",
        "        input_dim = layer_width\n",
        "        \n",
        "    model.add(Dense(2, activation='softmax', input_dim = input_dim)) \n",
        "    model.compile(loss='categorical_crossentropy', optimizer='sgd', metrics=['accuracy'])\n",
        "    history = model.fit(train_X, train_y, batch_size=32, epochs=50, verbose=0,\\\n",
        "        callbacks=callbacks) \n",
        "\n",
        "\n",
        "    score = model.evaluate(test_X, test_y, verbose= 0)\n",
        "    print('Accuracy on test:', score[1])\n",
        "#     model_evaluation(model, test_X, test)\n",
        "    return (model,score[1])"
      ]
    },
    {
      "cell_type": "code",
      "execution_count": null,
      "metadata": {
        "id": "QSjeaLM2YE2z"
      },
      "outputs": [],
      "source": [
        "name = 'nn_default.h5'\n",
        "m = wrapper(name)\n",
        "# model = load_model('my_model.h5')\n"
      ]
    },
    {
      "cell_type": "code",
      "execution_count": null,
      "metadata": {
        "id": "E1HJkCNVYKXT"
      },
      "outputs": [],
      "source": [
        "model_list = []\n",
        "acc_list = []\n",
        "for n_hidden in range(1,3):\n",
        "    for i in [256,512, 1024]:\n",
        "        for f in ['identity', 'tanh', 'relu']:\n",
        "            print('Number of hidden layers:', n_hidden)\n",
        "            print('Layer width:', i)\n",
        "            print('Activation function:', f)\n",
        "            print('')\n",
        "            \n",
        "            m, s = wrapper(n_hidden = n_hidden, layer_width = i, activ_func = f)\n",
        "            model_list.append(m)\n",
        "            acc_list.append(s)\n",
        "            print('-'*28)\n"
      ]
    },
    {
      "cell_type": "code",
      "execution_count": null,
      "metadata": {
        "id": "xN2KN5rUw3eI"
      },
      "outputs": [],
      "source": [
        "\n",
        "best_model = model_list[acc_list.index(max(acc_list))]"
      ]
    },
    {
      "cell_type": "code",
      "execution_count": null,
      "metadata": {
        "id": "rVbv3EwpWmCh"
      },
      "outputs": [],
      "source": [
        ""
      ]
    },
    {
      "cell_type": "markdown",
      "metadata": {
        "id": "ZbTwy4w9WuQ4"
      },
      "source": [
        "### parameter"
      ]
    },
    {
      "cell_type": "code",
      "execution_count": null,
      "metadata": {
        "id": "mqewiO3NcEwI"
      },
      "outputs": [],
      "source": [
        "model = model_1#tanh\n",
        "model.summary()\n",
        "print(\"##Number of layers\", len(model.layers))\n",
        "for layer in model.layers:\n",
        "    for weight in layer.weights:\n",
        "        print(weight.name, weight.shape)\n"
      ]
    },
    {
      "cell_type": "code",
      "execution_count": null,
      "metadata": {
        "id": "QtrU09saroXi"
      },
      "outputs": [],
      "source": [
        "#accuracy= best_model.evaluate(test_X, test_y, verbose=0)"
      ]
    },
    {
      "cell_type": "markdown",
      "metadata": {
        "id": "2cmAntW-XAOY"
      },
      "source": [
        "### Evaluation"
      ]
    },
    {
      "cell_type": "code",
      "execution_count": null,
      "metadata": {
        "colab": {
          "base_uri": "https://localhost:8080/",
          "height": 364
        },
        "id": "36KWTMiBYNFj",
        "outputId": "d0e13f65-6052-41a9-857c-a38adf13672a"
      },
      "outputs": [
        {
          "name": "stdout",
          "output_type": "stream",
          "text": [
            "f1 score: 0.76816344\n",
            "precision : 0.6876694\n",
            "recall: 0.87\n",
            "accuracy: 0.7374285459518433\n"
          ]
        },
        {
          "data": {
            "image/png": "[encoded data removed]",
            "text/plain": [
              "<Figure size 432x288 with 2 Axes>"
            ]
          },
          "metadata": {},
          "output_type": "display_data"
        }
      ],
      "source": [
        "#best_model = model_list[acc_list.index(max(acc_list))]\n",
        "#best_score = best_model.evaluate(test_X, test_y, verbose= 0)\n",
        "#print(len(best_score))\n",
        "#print('Accuracy on test:', best_score[2])\n",
        "model_evaluation_plt(model_1, test_X, test)"
      ]
    },
    {
      "cell_type": "code",
      "execution_count": null,
      "metadata": {
        "id": "6bqeL1aAXeGm"
      },
      "outputs": [],
      "source": [
        ""
      ]
    },
    {
      "cell_type": "markdown",
      "metadata": {
        "id": "jIry7USKXc3x"
      },
      "source": [
        "### Save and load model"
      ]
    },
    {
      "cell_type": "code",
      "execution_count": null,
      "metadata": {
        "id": "BnJ0Aso6b4Q1"
      },
      "outputs": [],
      "source": [
        "!mkdir -p saved_model"
      ]
    },
    {
      "cell_type": "code",
      "execution_count": null,
      "metadata": {
        "colab": {
          "base_uri": "https://localhost:8080/"
        },
        "id": "_QAlHZidcFrR",
        "outputId": "b15834bd-4c9b-48aa-87fe-4dd8ddaa0948"
      },
      "outputs": [
        {
          "name": "stdout",
          "output_type": "stream",
          "text": [
            "INFO:tensorflow:Assets written to: /content/drive/MyDrive/Yan/saved_model/best_final/assets\n"
          ]
        }
      ],
      "source": [
        "best_model.save('/content/drive/MyDrive/Yan/saved_model/best_final')"
      ]
    },
    {
      "cell_type": "code",
      "execution_count": null,
      "metadata": {
        "id": "ZBr9a7INA8IY"
      },
      "outputs": [],
      "source": [
        "model_1 = tf.keras.models.load_model('/content/drive/MyDrive/Yan/saved_model/best_final')\n",
        "predicts=model_1.predict(test_X)\n",
        "predictions=predicts.argmax(1)"
      ]
    },
    {
      "cell_type": "code",
      "execution_count": null,
      "metadata": {
        "id": "pl8-H6mSTuV8"
      },
      "outputs": [],
      "source": [
        "predictions"
      ]
    },
    {
      "cell_type": "markdown",
      "metadata": {
        "id": "xJ54ZKnHZJRW"
      },
      "source": [
        "### prediction result"
      ]
    },
    {
      "cell_type": "code",
      "execution_count": null,
      "metadata": {
        "id": "-N1YIRPRTnMl"
      },
      "outputs": [],
      "source": [
        "predicted_result_c = {}\n",
        "predicted_result_c['result'] = []\n",
        "# predict_eval = clf1.predict(x_test).tolist()\n",
        "\n",
        "for claims, predicted_label in zip(test['sentences'], predictions):\n",
        "    if predicted_label == 1:\n",
        "        predicted_result_c['result'].append({\n",
        "            \"predicted_claims\": claims,\n",
        "            \"predicted_label\": predicted_label\n",
        "        })"
      ]
    },
    {
      "cell_type": "code",
      "execution_count": null,
      "metadata": {
        "colab": {
          "base_uri": "https://localhost:8080/"
        },
        "id": "3tEbQikqaPBm",
        "outputId": "f06ecc69-d18d-4ba6-c3d9-0fca1f0e4bd4"
      },
      "outputs": [
        {
          "name": "stdout",
          "output_type": "stream",
          "text": [
            "Collecting xlsxwriter\n",
            "  Downloading XlsxWriter-3.0.2-py3-none-any.whl (149 kB)\n",
            "\u001b[?25l\r\u001b[K     |██▏                             | 10 kB 25.4 MB/s eta 0:00:01\r\u001b[K     |████▍                           | 20 kB 28.5 MB/s eta 0:00:01\r\u001b[K     |██████▋                         | 30 kB 17.2 MB/s eta 0:00:01\r\u001b[K     |████████▊                       | 40 kB 10.8 MB/s eta 0:00:01\r\u001b[K     |███████████                     | 51 kB 5.5 MB/s eta 0:00:01\r\u001b[K     |█████████████▏                  | 61 kB 5.9 MB/s eta 0:00:01\r\u001b[K     |███████████████▎                | 71 kB 5.4 MB/s eta 0:00:01\r\u001b[K     |█████████████████▌              | 81 kB 6.1 MB/s eta 0:00:01\r\u001b[K     |███████████████████▊            | 92 kB 5.9 MB/s eta 0:00:01\r\u001b[K     |█████████████████████▉          | 102 kB 5.1 MB/s eta 0:00:01\r\u001b[K     |████████████████████████        | 112 kB 5.1 MB/s eta 0:00:01\r\u001b[K     |██████████████████████████▎     | 122 kB 5.1 MB/s eta 0:00:01\r\u001b[K     |████████████████████████████▍   | 133 kB 5.1 MB/s eta 0:00:01\r\u001b[K     |██████████████████████████████▋ | 143 kB 5.1 MB/s eta 0:00:01\r\u001b[K     |████████████████████████████████| 149 kB 5.1 MB/s \n",
            "\u001b[?25hInstalling collected packages: xlsxwriter\n",
            "Successfully installed xlsxwriter-3.0.2\n"
          ]
        }
      ],
      "source": [
        "!pip install xlsxwriter"
      ]
    },
    {
      "cell_type": "code",
      "execution_count": null,
      "metadata": {
        "id": "GsRe-nPZaRMG"
      },
      "outputs": [],
      "source": [
        "data = predicted_result_c['result']\n",
        "df = pd.DataFrame(data)\n",
        "writer = pd.ExcelWriter('/content/drive/MyDrive/Yan/predicted_result_c.xlsx', engine='xlsxwriter')\n",
        "df.to_excel(writer, index = False )\n",
        "writer.save()"
      ]
    },
    {
      "cell_type": "code",
      "execution_count": null,
      "metadata": {
        "id": "Aig8ovG8bfL0"
      },
      "outputs": [],
      "source": [
        ""
      ]
    },
    {
      "cell_type": "code",
      "execution_count": null,
      "metadata": {
        "id": "5An9ISLUajsu"
      },
      "outputs": [],
      "source": [
        "#Only predict true\n",
        "predicted_true_c = {}\n",
        "predicted_true_c['true_result'] = []\n",
        "y_true = list(test['label'])\n",
        "for claims, predicted_label, truth in zip(test['sentences'], predictions, y_true):\n",
        "    if predicted_label == 1 and truth == 1:\n",
        "        predicted_true_c['true_result'].append({\n",
        "            \"predicted_claims\": claims,\n",
        "            \"predicted_label\": predicted_label,\n",
        "            \"truth\" : truth\n",
        "        })"
      ]
    },
    {
      "cell_type": "code",
      "execution_count": null,
      "metadata": {
        "id": "0BRlgxhuMNXh"
      },
      "outputs": [],
      "source": [
        "data = predicted_true_c['true_result']# \n",
        "df = pd.DataFrame(data)\n",
        "writer = pd.ExcelWriter('/content/drive/MyDrive/Yan/predicted_c.xlsx', engine='xlsxwriter')\n",
        "df.to_excel(writer, index = False )\n",
        "writer.save()"
      ]
    },
    {
      "cell_type": "code",
      "execution_count": null,
      "metadata": {
        "colab": {
          "base_uri": "https://localhost:8080/"
        },
        "id": "3GvMyQvd9KUN",
        "outputId": "636188b9-0545-40fd-ee6d-8ac13b8ddd91"
      },
      "outputs": [
        {
          "data": {
            "text/plain": [
              "3030"
            ]
          },
          "execution_count": 58,
          "metadata": {},
          "output_type": "execute_result"
        }
      ],
      "source": [
        "len(predicted_true_c['true_result'])"
      ]
    },
    {
      "cell_type": "markdown",
      "metadata": {
        "id": "u_TYfToy8JgM"
      },
      "source": [
        "### model_2_LSTM"
      ]
    },
    {
      "cell_type": "code",
      "execution_count": null,
      "metadata": {
        "id": "F1BlvAY_7SCF"
      },
      "outputs": [],
      "source": [
        "train_X_ = np.expand_dims(train_X, axis=1)\n",
        "test_X_ = np.expand_dims(test_X, axis=1)"
      ]
    },
    {
      "cell_type": "code",
      "execution_count": null,
      "metadata": {
        "id": "6hFl7aV87R-U"
      },
      "outputs": [],
      "source": [
        "def wrapper_lstm(name = 'm', w = 1, n_hidden = 1, layer_width = 128, activ_func = 'relu', input_dim = 104):\n",
        "    \n",
        "    path =  name\n",
        "    callbacks = [\n",
        "    EarlyStopping(monitor='val_acc', patience=0, min_delta=0.01, verbose=100, mode='auto'),\n",
        "    ModelCheckpoint(filepath = path, monitor='val_acc', verbose=0, \\\n",
        "                                    save_best_only= True, save_weights_only=False, mode='max', period=1),]\n",
        "    \n",
        "    model = Sequential() \n",
        "    \n",
        "    if activ_func == 'identity':\n",
        "        activ_func = None\n",
        "        \n",
        "    model.add(LSTM(layer_width, input_dim=input_dim))\n",
        "    # set number of hidden layer\n",
        "    for i in range(n_hidden):\n",
        "        model.add(Dense(units= layer_width, activation= activ_func, input_dim= input_dim)) \n",
        "        \n",
        "    # make sure input_dim is initiated if there's no hidden layer\n",
        "    if n_hidden == 0:\n",
        "        input_dim = input_dim\n",
        "    else:\n",
        "        input_dim = layer_width\n",
        "        \n",
        "    model.add(Dense(2, activation='softmax', input_dim = input_dim)) \n",
        "    model.compile(loss='categorical_crossentropy', optimizer='sgd', metrics=['accuracy'])\n",
        "    history = model.fit(train_X_, train_y, batch_size=32, epochs=50, verbose=0,\\\n",
        "        callbacks=callbacks) \n",
        "\n",
        "    score = model.evaluate(test_X_, test_y, verbose= 0)\n",
        "    print(len(score))\n",
        "    print('Accuracy on test:', score[1])\n",
        "#     model_evaluation(model, test_X, test)\n",
        "    return (model,score[1])"
      ]
    },
    {
      "cell_type": "code",
      "execution_count": null,
      "metadata": {
        "id": "3xXB6yQzDcmj"
      },
      "outputs": [],
      "source": [
        "name = 'nn_default.h5'\n",
        "m = wrapper_lstm(name)"
      ]
    },
    {
      "cell_type": "code",
      "execution_count": null,
      "metadata": {
        "id": "aqNRlUnQ7R7N"
      },
      "outputs": [],
      "source": [
        "model_list_lstm = []\n",
        "acc_list_lstm = []\n",
        "for n_hidden in range(1,3):\n",
        "    for i in [128,256,512, 1024]:\n",
        "        for f in ['identity', 'tanh', 'relu', 'sigmoid']:\n",
        "            print('Number of hidden layers:', n_hidden)\n",
        "            print('Layer width:', i)\n",
        "            print('Activation function:', f)\n",
        "            \n",
        "            m, s = wrapper_lstm(n_hidden = n_hidden, layer_width = i, activ_func = f)\n",
        "            model_list_lstm.append(m)\n",
        "            acc_list_lstm.append(s)\n",
        "            print('-'*28)"
      ]
    },
    {
      "cell_type": "code",
      "execution_count": null,
      "metadata": {
        "id": "cmvQ8_seaN-1"
      },
      "outputs": [],
      "source": [
        "#best model\n",
        "lstm_best_final = model_list_lstm[acc_list_lstm.index(max(acc_list_lstm))]##layers:2 , width:1024 ,identity"
      ]
    },
    {
      "cell_type": "code",
      "execution_count": null,
      "metadata": {
        "id": "rEwlkYd2CSwA"
      },
      "outputs": [],
      "source": [
        "# evaluate the model\n",
        "lstm_best_score = lstm_best_final.evaluate(test_X_, test_y, verbose= 0)\n"
      ]
    },
    {
      "cell_type": "code",
      "execution_count": null,
      "metadata": {
        "id": "ZYVaAHmuCbXb"
      },
      "outputs": [],
      "source": [
        "print(lstm_best_score)"
      ]
    },
    {
      "cell_type": "code",
      "execution_count": null,
      "metadata": {
        "colab": {
          "base_uri": "https://localhost:8080/",
          "height": 364
        },
        "id": "pBNe5U9p7Rxw",
        "outputId": "3c1ea9f4-d6e5-4bbd-d438-f402d831d7bc"
      },
      "outputs": [
        {
          "name": "stdout",
          "output_type": "stream",
          "text": [
            "f1 score: 0.7725669\n",
            "precision : 0.71167266\n",
            "recall: 0.84485716\n",
            "accuracy: 0.75128573179245\n"
          ]
        },
        {
          "data": {
            "image/png": "[encoded data removed]",
            "text/plain": [
              "<Figure size 432x288 with 2 Axes>"
            ]
          },
          "metadata": {},
          "output_type": "display_data"
        }
      ],
      "source": [
        "\n",
        "#print(len(lstm_best_score))\n",
        "#print('Accuracy on test:', lstm_best_score[1])\n",
        "model_evaluation_plt(lstm_best_final, test_X_, test)"
      ]
    },
    {
      "cell_type": "code",
      "execution_count": null,
      "metadata": {
        "id": "ptW2WoxPn8gY"
      },
      "outputs": [],
      "source": [
        "!mkdir -p saved_model"
      ]
    },
    {
      "cell_type": "code",
      "execution_count": null,
      "metadata": {
        "colab": {
          "base_uri": "https://localhost:8080/"
        },
        "id": "JB-Tlvxbn8wj",
        "outputId": "02803703-8d8b-44f6-df25-0d7b2565c225"
      },
      "outputs": [
        {
          "name": "stdout",
          "output_type": "stream",
          "text": [
            "Model: \"sequential_30\"\n",
            "_________________________________________________________________\n",
            " Layer (type)                Output Shape              Param #   \n",
            "=================================================================\n",
            " lstm_30 (LSTM)              (None, 1024)              4624384   \n",
            "                                                                 \n",
            " dense_72 (Dense)            (None, 1024)              1049600   \n",
            "                                                                 \n",
            " dense_73 (Dense)            (None, 1024)              1049600   \n",
            "                                                                 \n",
            " dense_74 (Dense)            (None, 2)                 2050      \n",
            "                                                                 \n",
            "=================================================================\n",
            "Total params: 6,725,634\n",
            "Trainable params: 6,725,634\n",
            "Non-trainable params: 0\n",
            "_________________________________________________________________\n",
            "##Number of layers 4\n",
            "lstm_30/lstm_cell_30/kernel:0 (104, 4096)\n",
            "lstm_30/lstm_cell_30/recurrent_kernel:0 (1024, 4096)\n",
            "lstm_30/lstm_cell_30/bias:0 (4096,)\n",
            "dense_72/kernel:0 (1024, 1024)\n",
            "dense_72/bias:0 (1024,)\n",
            "dense_73/kernel:0 (1024, 1024)\n",
            "dense_73/bias:0 (1024,)\n",
            "dense_74/kernel:0 (1024, 2)\n",
            "dense_74/bias:0 (2,)\n"
          ]
        }
      ],
      "source": [
        "model = lstm_best_final# Number of layers = n_hidden + 2(output layer + LSTM)\n",
        "model.summary()\n",
        "print(\"##Number of layers\", len(model.layers))\n",
        "for layer in model.layers:\n",
        "    for weight in layer.weights:\n",
        "        print(weight.name, weight.shape)\n"
      ]
    },
    {
      "cell_type": "code",
      "execution_count": null,
      "metadata": {
        "colab": {
          "base_uri": "https://localhost:8080/"
        },
        "id": "Zy56spvU7RmX",
        "outputId": "fcb00c73-8b43-4101-caf9-f48d4590a8b0"
      },
      "outputs": [
        {
          "name": "stderr",
          "output_type": "stream",
          "text": [
            "WARNING:absl:Found untraced functions such as lstm_cell_30_layer_call_fn, lstm_cell_30_layer_call_and_return_conditional_losses, lstm_cell_30_layer_call_fn, lstm_cell_30_layer_call_and_return_conditional_losses, lstm_cell_30_layer_call_and_return_conditional_losses while saving (showing 5 of 5). These functions will not be directly callable after loading.\n"
          ]
        },
        {
          "name": "stdout",
          "output_type": "stream",
          "text": [
            "INFO:tensorflow:Assets written to: /content/drive/MyDrive/Yan/saved_model/lstm_best_final/assets\n"
          ]
        },
        {
          "name": "stderr",
          "output_type": "stream",
          "text": [
            "INFO:tensorflow:Assets written to: /content/drive/MyDrive/Yan/saved_model/lstm_best_final/assets\n",
            "WARNING:absl:<keras.layers.recurrent.LSTMCell object at 0x7f4eb3815c50> has the same name 'LSTMCell' as a built-in Keras object. Consider renaming <class 'keras.layers.recurrent.LSTMCell'> to avoid naming conflicts when loading with `tf.keras.models.load_model`. If renaming is not possible, pass the object in the `custom_objects` parameter of the load function.\n"
          ]
        }
      ],
      "source": [
        "lstm_best_final.save('/content/drive/MyDrive/Yan/saved_model/lstm_best_final')"
      ]
    },
    {
      "cell_type": "code",
      "execution_count": null,
      "metadata": {
        "id": "qnDMwsyzoFNC"
      },
      "outputs": [],
      "source": [
        "model = tf.keras.models.load_model('/content/drive/MyDrive/Yan/saved_model/lstm_best_final')\n",
        "predicts=model.predict(test_X_)\n",
        "predictions=predicts.argmax(1)"
      ]
    },
    {
      "cell_type": "markdown",
      "metadata": {
        "id": "ZT4y-SCDQcab"
      },
      "source": [
        "# data_cleaning_word2vec"
      ]
    },
    {
      "cell_type": "code",
      "execution_count": null,
      "metadata": {
        "id": "wy_u93pHPjOS"
      },
      "outputs": [],
      "source": [
        "import nltk, os, gensim\n",
        "import numpy as np\n",
        "import pandas as pd"
      ]
    },
    {
      "cell_type": "code",
      "execution_count": null,
      "metadata": {
        "colab": {
          "base_uri": "https://localhost:8080/"
        },
        "id": "OPHK_w2EwJD1",
        "outputId": "d642fc08-660e-442e-a908-791865c00972"
      },
      "outputs": [
        {
          "name": "stdout",
          "output_type": "stream",
          "text": [
            "[nltk_data] Downloading package punkt to /root/nltk_data...\n",
            "[nltk_data]   Unzipping tokenizers/punkt.zip.\n"
          ]
        },
        {
          "data": {
            "text/plain": [
              "True"
            ]
          },
          "execution_count": 28,
          "metadata": {},
          "output_type": "execute_result"
        }
      ],
      "source": [
        "nltk.download('punkt')"
      ]
    },
    {
      "cell_type": "code",
      "execution_count": null,
      "metadata": {
        "colab": {
          "base_uri": "https://localhost:8080/"
        },
        "id": "MHAh5HvHXntN",
        "outputId": "ba4d54e7-2ebd-4e08-d602-09de70644786"
      },
      "outputs": [
        {
          "name": "stdout",
          "output_type": "stream",
          "text": [
            "                                                                                0\n",
            "topicId                                                                         1\n",
            "split                                                                        test\n",
            "topicText                       This house believes that the sale of violent v...\n",
            "topicTarget                             the sale of violent video games to minors\n",
            "topicSentiment                                                                 -1\n",
            "claims.claimId                                                               2973\n",
            "claims.stance                                                                 PRO\n",
            "claims.claimCorrectedText       Exposure to violent video games causes at leas...\n",
            "claims.claimOriginalText        exposure to violent video games causes at leas...\n",
            "claims.article.rawFile                                      articles/t1/raw_1.txt\n",
            "claims.article.rawSpan.start                                                  490\n",
            "claims.article.rawSpan.end                                                    640\n",
            "claims.article.cleanFile                                  articles/t1/clean_1.txt\n",
            "claims.article.cleanSpan.start                                                418\n",
            "claims.article.cleanSpan.end                                                  568\n",
            "claims.Compatible                                                             yes\n",
            "claims.claimTarget.text                           Exposure to violent video games\n",
            "claims.claimTarget.span.start                                                   0\n",
            "claims.claimTarget.span.end                                                    31\n",
            "claims.claimSentiment                                                          -1\n",
            "claims.targetsRelation                                                          1\n",
            "43399\n"
          ]
        }
      ],
      "source": [
        "claimDF_train = pd.read_csv(\"/content/drive/MyDrive/Yan/IBM_Debater_(R)_CS_EACL-2017.v1/claim_stance_dataset_v1.csv\")\n",
        "print (claimDF_train[:1].T)\n",
        "with open('/content/drive/MyDrive/Yan/IBM_Debater_(R)_CS_EACL-2017.v1/articles/t1/clean_1.txt') as f:\n",
        "    train_text = f.read()\n",
        "    print(len(train_text))\n",
        "    #print (test[400: 568])"
      ]
    },
    {
      "cell_type": "code",
      "execution_count": null,
      "metadata": {
        "colab": {
          "base_uri": "https://localhost:8080/"
        },
        "id": "7gjo_8shQpzT",
        "outputId": "d94f5bc6-309e-42a1-aeb6-a835bdb5fadd"
      },
      "outputs": [
        {
          "name": "stdout",
          "output_type": "stream",
          "text": [
            "                                                                     0\n",
            "Topicc                      the sale of violent video games to minors \n",
            "Article                                       Video_game_controversies\n",
            "Claim                exposure to violent video games causes at leas...\n",
            "Requires correction                                               True\n",
            "Correction type                                                    NaN\n",
            "Corrected Text       Exposure to violent video games causes at leas...\n",
            "66235\n"
          ]
        }
      ],
      "source": [
        "claimDF_test = pd.read_excel(\"/content/drive/MyDrive/Yan/IBM_Debater_(R)_CE-ACL-2014.v0/2014_7_18_ibm_CDCdata(cleaned_2).xlsx\")\n",
        "print (claimDF_test[:1].T)\n",
        "with open('/content/drive/MyDrive/Yan/IBM_Debater_(R)_CE-ACL-2014.v0/wiki12_articles/2007_Burmese_anti-government_protests') as f:\n",
        "    test_text = f.read()\n",
        "    print(len(test_text))\n",
        "    #print (test[418: 568])"
      ]
    },
    {
      "cell_type": "code",
      "execution_count": null,
      "metadata": {
        "id": "xBdsrBOchgta"
      },
      "outputs": [],
      "source": [
        "# functions from https://www.kaggle.com/reiinakano/basic-nlp-bag-of-words-tf-idf-word2vec-lstm\n",
        "class MyTokenizer:\n",
        "    def __init__(self):\n",
        "        pass\n",
        "    \n",
        "    def fit(self, X, y=None):\n",
        "        return self\n",
        "    \n",
        "    def transform(self, X):\n",
        "        transformed_X = []\n",
        "        for document in X:\n",
        "            tokenized_doc = []\n",
        "            for sent in nltk.sent_tokenize(document):\n",
        "                tokenized_doc += nltk.word_tokenize(sent)\n",
        "            transformed_X.append(np.array(tokenized_doc))\n",
        "        return np.array(transformed_X)\n",
        "    \n",
        "    def fit_transform(self, X, y=None):\n",
        "        return self.transform(X)\n",
        "\n",
        "class MeanEmbeddingVectorizer(object):\n",
        "    def __init__(self, word2vec):\n",
        "        self.word2vec = word2vec\n",
        "        # if a text is empty we should return a vector of zeros\n",
        "        # with the same dimensionality as all the other vectors\n",
        "        self.dim = len(word2vec.wv.syn0[0])\n",
        "\n",
        "    def fit(self, X, y=None):\n",
        "        return self\n",
        "\n",
        "    def transform(self, X):\n",
        "        X = MyTokenizer().fit_transform(X)\n",
        "        \n",
        "        return np.array([\n",
        "            np.mean([self.word2vec.wv[w] for w in words if w in self.word2vec.wv]\n",
        "                    or [np.zeros(self.dim)], axis=0)\n",
        "            for words in X\n",
        "        ])\n",
        "    \n",
        "    def fit_transform(self, X, y=None):\n",
        "        return self.transform(X)"
      ]
    },
    {
      "cell_type": "code",
      "execution_count": null,
      "metadata": {
        "id": "cVWhkAKdhhKk"
      },
      "outputs": [],
      "source": [
        "class MySentences(object):\n",
        "    \"\"\"MySentences is a generator to produce a list of tokenized sentences \n",
        "    \n",
        "    Takes a list of numpy arrays containing documents.\n",
        "    \n",
        "    Args:\n",
        "        arrays: List of arrays, where each element in the array contains a document.\n",
        "    \"\"\"\n",
        "    def __init__(self, *arrays):\n",
        "        self.arrays = arrays\n",
        " \n",
        "    def __iter__(self):\n",
        "        for array in self.arrays:\n",
        "            for document in array:\n",
        "                for sent in nltk.sent_tokenize(document):\n",
        "                    yield nltk.word_tokenize(sent)\n",
        "\n",
        "def get_word2vec(sentences, location):\n",
        "    \"\"\"Returns trained word2vec\n",
        "    \n",
        "    Args:\n",
        "        sentences: iterator for sentences\n",
        "        \n",
        "        location (str): Path to save/load word2vec\n",
        "    \"\"\"\n",
        "    if os.path.exists(location):\n",
        "        print('Found out {}'.format(location))\n",
        "        model = gensim.models.Word2Vec.load(location)\n",
        "        return model\n",
        "    \n",
        "    print('{} not found. training model'.format(location))\n",
        "    model = gensim.models.Word2Vec(sentences, size=100, window=5, min_count=5, workers=4)\n",
        "    print('Model done training. Saving to disk')\n",
        "    model.save(location)\n",
        "    return model\n",
        "\n"
      ]
    },
    {
      "cell_type": "code",
      "execution_count": null,
      "metadata": {
        "colab": {
          "base_uri": "https://localhost:8080/"
        },
        "id": "jlJcYFzAYCB1",
        "outputId": "100779af-68e2-48ab-c46b-7797432cdccf"
      },
      "outputs": [
        {
          "name": "stdout",
          "output_type": "stream",
          "text": [
            "Found out /content/drive/MyDrive/Yan/w2vmodel\n",
            "Found out /content/drive/MyDrive/Yan/w2vmodel\n"
          ]
        }
      ],
      "source": [
        "\n",
        "w2vec = get_word2vec(MySentences([train_text]), '/content/drive/MyDrive/Yan/w2vmodel')\n",
        "w2vec = get_word2vec(MySentences([test_text]), '/content/drive/MyDrive/Yan/w2vmodel')"
      ]
    },
    {
      "cell_type": "code",
      "execution_count": null,
      "metadata": {
        "id": "PH1e-9qJEv03"
      },
      "outputs": [],
      "source": [
        "all_docs = []\n",
        "for root, dirs, files in os.walk(\"/content/drive/MyDrive/Yan/IBM_Debater_(R)_CE-ACL-2014.v0/\"):\n",
        "    for file in files:\n",
        "        #if 'clean' in file:\n",
        "        file_name = os.path.join(root, file)\n",
        "        #print(root)\n",
        "        #print(file_name)\n",
        "        with open(file_name,encoding='gb18030',errors='ignore') as f:\n",
        "            text = f.read()\n",
        "            all_docs.append(text)"
      ]
    },
    {
      "cell_type": "code",
      "execution_count": null,
      "metadata": {
        "id": "4EN4zkpbE13-"
      },
      "outputs": [],
      "source": [
        "print (len(all_docs))\n",
        "for i, a in enumerate(all_docs):\n",
        "    print (i, len(a))\n",
        "get_word2vec(MySentences(all_docs), '/content/drive/MyDrive/Yan/w2vmodel')"
      ]
    },
    {
      "cell_type": "code",
      "execution_count": null,
      "metadata": {
        "id": "O9_1ojSSjvey"
      },
      "outputs": [],
      "source": [
        "mean_embedding_vectorizer = MeanEmbeddingVectorizer(w2vec)\n",
        "print(mean_embedding_vectorizer)\n",
        "mean_embedded = mean_embedding_vectorizer.fit_transform(test)"
      ]
    },
    {
      "cell_type": "code",
      "execution_count": null,
      "metadata": {
        "id": "RFKyTHMGj6xI"
      },
      "outputs": [],
      "source": [
        "print (len(mean_embedded))\n",
        "mean_embedded[0]"
      ]
    },
    {
      "cell_type": "markdown",
      "metadata": {
        "id": "Px79gCumzpw-"
      },
      "source": [
        "#data"
      ]
    },
    {
      "cell_type": "code",
      "execution_count": null,
      "metadata": {
        "id": "0r_2oeoKkHlK"
      },
      "outputs": [],
      "source": [
        "import gensim\n",
        "\n",
        "def get_word2vec(sentences, location):\n",
        "    \"\"\"Returns trained word2vec\n",
        "    \n",
        "    Args:\n",
        "        sentences: iterator for sentences\n",
        "        \n",
        "        location (str): Path to save/load word2vec\n",
        "    \"\"\"\n",
        "    if os.path.exists(location):\n",
        "        print('Found {}'.format(location))\n",
        "        model = gensim.models.Word2Vec.load(location)\n",
        "        return model\n",
        "    \n",
        "    print('{} not found. training model'.format(location))\n",
        "    model = gensim.models.Word2Vec(sentences, size=100, window=5, min_count=5, workers=4)\n",
        "    print('Model done training. Saving to disk')\n",
        "    model.save(location)\n",
        "    return model"
      ]
    },
    {
      "cell_type": "code",
      "execution_count": null,
      "metadata": {
        "id": "VuPYXpv9lHwW"
      },
      "outputs": [],
      "source": [
        "mean_embedding_vectorizer = MeanEmbeddingVectorizer(w2vec)"
      ]
    },
    {
      "cell_type": "code",
      "execution_count": null,
      "metadata": {
        "id": "25P5nuAziHRe"
      },
      "outputs": [],
      "source": [
        "print (test)"
      ]
    },
    {
      "cell_type": "markdown",
      "metadata": {
        "id": "oLuBi6Fv6hdD"
      },
      "source": [
        ""
      ]
    }
  ],
  "metadata": {
    "colab": {
      "collapsed_sections": [
        "xJ54ZKnHZJRW",
        "ZT4y-SCDQcab",
        "Px79gCumzpw-"
      ],
      "name": "Yan_claim_identification.ipynb",
      "provenance": [],
      "mount_file_id": "17Ro3s_nz9Gpzv3Ru0MnlyB34XGpsJV7o",
      "authorship_tag": "ABX9TyOU+rDcY0j/e+n0zaMzcScW",
      "include_colab_link": true
    },
    "kernelspec": {
      "display_name": "Python 3",
      "name": "python3"
    },
    "language_info": {
      "name": "python"
    }
  },
  "nbformat": 4,
  "nbformat_minor": 0
}